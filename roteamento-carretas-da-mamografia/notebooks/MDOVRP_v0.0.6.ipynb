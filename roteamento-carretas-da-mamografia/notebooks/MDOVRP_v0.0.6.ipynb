{
 "cells": [
  {
   "cell_type": "code",
   "execution_count": 1,
   "id": "f9811fe6",
   "metadata": {},
   "outputs": [],
   "source": [
    "import matplotlib.pyplot as plt\n",
    "# from networkx import minimum_cut, DiGraph\n",
    "from mip import *\n",
    "\n",
    "from src.read_instance import MDOVRP"
   ]
  },
  {
   "cell_type": "code",
   "execution_count": 2,
   "id": "a1019811",
   "metadata": {},
   "outputs": [],
   "source": [
    "filepath = \"Instancias/ES-n78-m2-Q10138.txt\"\n",
    "# filepath = \"Instancias/Vrp-Set-A/A-n80-m2-Q60.vrp\""
   ]
  },
  {
   "cell_type": "code",
   "execution_count": 3,
   "id": "1e00a48e",
   "metadata": {},
   "outputs": [],
   "source": [
    "N, D, V, Q, q, c, coord_x, coord_y = MDOVRP(filepath)"
   ]
  },
  {
   "cell_type": "markdown",
   "id": "4838d9cf",
   "metadata": {},
   "source": [
    "Usando a formulação $MDOVRP_{2i− flv}$ de Lalla-Ruiz e Mes (2019)\n",
    "\n",
    "\n",
    "    Lalla-Ruiz, Eduardo, and Martijn Mes. \"Mathematical formulations and improvements for the multi-depot open vehicle routing problem.\" Optimization Letters 15 (2021): 271-286."
   ]
  },
  {
   "cell_type": "code",
   "execution_count": 4,
   "id": "c9529a24",
   "metadata": {},
   "outputs": [
    {
     "name": "stdout",
     "output_type": "stream",
     "text": [
      "Set parameter WLSAccessID\n",
      "Set parameter WLSSecret\n",
      "Set parameter LicenseID\n",
      "Academic license - for non-commercial use only - registered to thiago.giachetto@aluno.ufop.edu.br\n"
     ]
    }
   ],
   "source": [
    "#cria o modelo\n",
    "model = Model('PRVMD', solver_name = GUROBI)\n",
    "\n",
    "# Variaveis de decisao\n",
    "x = [[model.add_var(var_type=BINARY) if i!=j else model.add_var(lb=0, ub=0) for i in V] for j in V]\n",
    "u = [[model.add_var(var_type=CONTINUOUS) if i!=j else model.add_var(lb=0, ub=0) for i in V] for j in V]\n",
    "y = [model.add_var(var_type=BINARY) for i in N]\n",
    "w = [model.add_var(var_type=BINARY) for i in N]"
   ]
  },
  {
   "cell_type": "markdown",
   "id": "1f372e41",
   "metadata": {},
   "source": [
    "\\begin{equation}\n",
    "\\label{eq:9}\n",
    "    x_{ij} \\in \\{0, 1\\}, \\quad \\forall i, j \\in V\n",
    "\\end{equation}\n",
    "\n",
    "\\begin{equation}\n",
    "\\label{eq:10}\n",
    "    u_{ij} \\geq 0, \\quad \\forall i, j \\in V\n",
    "\\end{equation}\n",
    "\n",
    "\\begin{equation}\n",
    "\\label{eq:10.1}\n",
    "    w_{j} \\in \\{0, 1\\}, \\quad \\forall j \\in N\n",
    "\\end{equation}"
   ]
  },
  {
   "cell_type": "code",
   "execution_count": 5,
   "id": "826aceeb",
   "metadata": {},
   "outputs": [],
   "source": [
    "# Funcao objetivo\n",
    "A = 1\n",
    "B = 10\n",
    "\n",
    "model.objective = minimize(A*xsum(x[i][j] * c[i,j] for i in V for j in V if i != j) - B*xsum(q[j]*w[j] for j in N))"
   ]
  },
  {
   "cell_type": "markdown",
   "id": "9f0a71b8",
   "metadata": {},
   "source": [
    "\\begin{equation}\n",
    "\\label{eq:1}\n",
    " Minimizar \\quad A\\sum_{i \\in V }\\sum_{j \\in V} c_{ij}x_{ij} - B\\sum_{j \\in N} q_{j}w_{j}\n",
    "\\end{equation}"
   ]
  },
  {
   "cell_type": "code",
   "execution_count": 6,
   "id": "92b252b3",
   "metadata": {},
   "outputs": [],
   "source": [
    "# Restricao 2\n",
    "for j in N:\n",
    "    model += xsum(x[i][j] for i in V if i != j) == w[j]"
   ]
  },
  {
   "cell_type": "markdown",
   "id": "28582e4c",
   "metadata": {},
   "source": [
    "\\begin{equation}\n",
    "    \\sum_{i \\in V, i \\neq j}x_{ij} = w_{j}, \\quad \\forall j \\in N\n",
    "    \\tag{2}\n",
    "\\end{equation}"
   ]
  },
  {
   "cell_type": "code",
   "execution_count": 7,
   "id": "757f89bf",
   "metadata": {},
   "outputs": [],
   "source": [
    "# Restricao 18\n",
    "\n",
    "for j in N:\n",
    "    model += (xsum(x[i][j] for i in V if i != j) - xsum(x[j][i] for i in N if i != j)) >= 0"
   ]
  },
  {
   "cell_type": "markdown",
   "id": "974c8d82",
   "metadata": {},
   "source": [
    "\\begin{equation}\n",
    "    \\sum_{i \\in V, i \\neq j}x_{ij} - \\sum_{i \\in N, i \\neq j}x_{ji} \\geq 0, \\quad \\forall j \\in N\n",
    "    \\tag {18}\n",
    "\\end{equation}"
   ]
  },
  {
   "cell_type": "code",
   "execution_count": 8,
   "id": "ffc541d1",
   "metadata": {},
   "outputs": [],
   "source": [
    "# Restricao 19\n",
    "for i in V:\n",
    "    for j in V:\n",
    "        if i != j:\n",
    "            model += x[i][j] + x[j][i] <= 1"
   ]
  },
  {
   "cell_type": "markdown",
   "id": "1de49cac",
   "metadata": {},
   "source": [
    "\\begin{equation}\n",
    "    x_{ij} + x_{ji} \\leq 1, \\quad \\forall i, j \\in V, i \\neq j\n",
    "    \\tag {19}\n",
    "\\end{equation}"
   ]
  },
  {
   "cell_type": "code",
   "execution_count": 9,
   "id": "f3d76e13",
   "metadata": {},
   "outputs": [],
   "source": [
    "# Restricao 20\n",
    "# Ninguem volta para o depósito\n",
    "model += xsum(x[j][k] for k in D for j in V) == 0"
   ]
  },
  {
   "cell_type": "markdown",
   "id": "e6cb5d2e",
   "metadata": {},
   "source": [
    "\\begin{equation}\n",
    "    \\sum_{k \\in D}\\sum_{j \\in V}x_{jk} = 0\n",
    "    \\tag {20}\n",
    "\\end{equation}"
   ]
  },
  {
   "cell_type": "code",
   "execution_count": 10,
   "id": "e51b3904",
   "metadata": {},
   "outputs": [],
   "source": [
    "# Restricao 21 modificada -> se cidade não é atendida, restrição é esquecida\n",
    "for j in N:\n",
    "    model += (xsum(u[i][j] for i in V if i != j) - xsum(u[j][i] for i in V if i != j) - q[j]) >= -Q*(1 - w[j])"
   ]
  },
  {
   "cell_type": "markdown",
   "id": "81c2e8d9",
   "metadata": {},
   "source": [
    "\\begin{equation}\n",
    "    (\\sum_{i \\in V, i \\neq j}u_{ij} - \\sum_{i \\in V, i \\neq j}u_{ji}) - q_{j} \\geq -Q(1 - w_{j}), \\quad \\forall j \\in N\n",
    "    \\tag {21}\n",
    "\\end{equation}\n",
    "\n",
    "    Wolsey, Laurence A. Integer programming (pp. 11). John Wiley & Sons, 2020."
   ]
  },
  {
   "cell_type": "code",
   "execution_count": 11,
   "id": "1a84279e",
   "metadata": {},
   "outputs": [],
   "source": [
    "# restrição que liga x e w\n",
    "for j in N:\n",
    "    xsum(x[i][j] for i in V if i != j) == w[j]"
   ]
  },
  {
   "cell_type": "markdown",
   "id": "ba7164b1",
   "metadata": {},
   "source": [
    "\\begin{equation}\n",
    "    \\sum_{i \\in V, i \\neq j}x_{ij} = w_{j}, \\quad \\forall j \\in N\n",
    "    \\tag {21}\n",
    "\\end{equation}"
   ]
  },
  {
   "cell_type": "code",
   "execution_count": 12,
   "id": "c57c3ae9",
   "metadata": {},
   "outputs": [],
   "source": [
    "#Restricao 22\n",
    "for i in N:\n",
    "    for j in N:\n",
    "        model += (Q - q[i])*x[i][j] >= u[i][j]"
   ]
  },
  {
   "cell_type": "markdown",
   "id": "f1875dfb",
   "metadata": {},
   "source": [
    "\\begin{equation}\n",
    "    (Q - q_i) \\cdot x_{ij} \\geq u_{ij}, \\quad \\forall i, j \\in N\n",
    "    \\tag {22}\n",
    "\\end{equation}"
   ]
  },
  {
   "cell_type": "code",
   "execution_count": 13,
   "id": "ac8a59fd",
   "metadata": {},
   "outputs": [],
   "source": [
    "# Restricao 23\n",
    "for k in D:\n",
    "    for j in N:\n",
    "        model += Q * x[k][j] >= u[k][j]"
   ]
  },
  {
   "cell_type": "markdown",
   "id": "1dcc2cbb",
   "metadata": {},
   "source": [
    "\\begin{equation}\n",
    "    Q \\cdot x_{kj} \\geq u_{kj}, \\quad \\forall k \\in D, j \\in N\n",
    "    \\tag {23}\n",
    "\\end{equation}"
   ]
  },
  {
   "cell_type": "code",
   "execution_count": 14,
   "id": "6f054f18",
   "metadata": {},
   "outputs": [],
   "source": [
    "# # Restricao 8\n",
    "# menor distancia de algum deposito ate a cidade\n",
    "d = [min([c[j, i] for j in D]) for i in N]\n",
    "# menor distancia entre cidade i e quaisquer outra cidade\n",
    "r = [min([c[j, i] for j in N if i != j]) for i in N]\n",
    "# máxima menor distancia entre duas cidades\n",
    "M = max(r)\n",
    "\n",
    "# d[i] >= r[i] <=> é mais longe ir de algum depósito do q de outra cidade => y in {0, 1}\n",
    "# d[i] < r[i] <=> é mais perto sair de algum depósito do q de qualquer outra cidade => y = 1\n",
    "for i in N:\n",
    "    model += d[i] + M * y[i] >= r[i]*w[i]"
   ]
  },
  {
   "cell_type": "markdown",
   "id": "07f22fe7",
   "metadata": {},
   "source": [
    "\\begin{equation}\n",
    "    d_{i} + M y_{i} \\geq r_{i}w_{i}, \\quad \\forall k \\in N\n",
    "    \\tag {8}\n",
    "\\end{equation}"
   ]
  },
  {
   "cell_type": "code",
   "execution_count": 15,
   "id": "0249f78b",
   "metadata": {},
   "outputs": [],
   "source": [
    "# Restricao 9\n",
    "\n",
    "for i in N:\n",
    "    k_l = D[np.argmin([c[j, i] for j in D], axis=0)]\n",
    "    model += x[k_l][i] >= y[i]"
   ]
  },
  {
   "cell_type": "markdown",
   "id": "6aa5dcad",
   "metadata": {},
   "source": [
    "\\begin{equation}\n",
    "    x_{k'i} \\geq y_{i}, \\quad \\forall i \\in N, k' = argmin(c_{ki})_{k \\in D}\n",
    "    \\tag {9}\n",
    "\\end{equation}"
   ]
  },
  {
   "cell_type": "code",
   "execution_count": 16,
   "id": "c9f1e2f8",
   "metadata": {},
   "outputs": [],
   "source": [
    "# limite de carros total\n",
    "NUM_VEICULOS = 10\n",
    "\n",
    "model += xsum(x[k][i] for k in D for i in N) <= NUM_VEICULOS"
   ]
  },
  {
   "cell_type": "code",
   "execution_count": 17,
   "id": "396b1ab0",
   "metadata": {},
   "outputs": [],
   "source": [
    "# Restricao na demanda relacionado ao limite de caminhões\n",
    "model += xsum(q[j]*w[j] for j in N) <= NUM_VEICULOS*Q"
   ]
  },
  {
   "cell_type": "code",
   "execution_count": 18,
   "id": "fff01815",
   "metadata": {},
   "outputs": [],
   "source": [
    "# Restricao de distancia maxima entre duas cidades\n",
    "\n",
    "for i in V:\n",
    "    for j in V:\n",
    "        if i != j:\n",
    "            model += c[i,j]*x[i][j] <= 180"
   ]
  },
  {
   "cell_type": "code",
   "execution_count": 19,
   "id": "0f6f74bc",
   "metadata": {},
   "outputs": [],
   "source": [
    "# # Restricao para atender todas as cidades\n",
    "\n",
    "# for j in N:\n",
    "#     model += w[j] == 1"
   ]
  },
  {
   "cell_type": "code",
   "execution_count": 20,
   "id": "84b30fa7",
   "metadata": {},
   "outputs": [
    {
     "name": "stdout",
     "output_type": "stream",
     "text": [
      "Set parameter TimeLimit to value 120\n",
      "Set parameter NodeLimit to value 1073741824\n",
      "Set parameter SolutionLimit to value 1073741824\n",
      "Set parameter IntFeasTol to value 1e-06\n",
      "Set parameter Method to value 3\n",
      "Gurobi Optimizer version 9.5.1 build v9.5.1rc2 (linux64)\n",
      "Thread count: 2 physical cores, 4 logical processors, using up to 4 threads\n",
      "Academic license - for non-commercial use only - registered to thiago.giachetto@aluno.ufop.edu.br\n",
      "Optimize a model with 18323 rows, 12320 columns and 59808 nonzeros\n",
      "Model fingerprint: 0x691a671d\n",
      "Variable types: 6162 continuous, 6158 integer (6158 binary)\n",
      "Coefficient statistics:\n",
      "  Matrix range     [1e+00, 1e+04]\n",
      "  Objective range  [3e+00, 5e+04]\n",
      "  Bounds range     [1e+00, 1e+00]\n",
      "  RHS range        [1e+00, 1e+05]\n",
      "Found heuristic solution: objective 0.0000000\n",
      "Presolve removed 13871 rows and 6537 columns\n",
      "Presolve time: 0.13s\n",
      "Presolved: 4452 rows, 5783 columns, 21573 nonzeros\n",
      "Variable types: 2832 continuous, 2951 integer (2951 binary)\n",
      "Found heuristic solution: objective -78976.95200\n",
      "\n",
      "Concurrent LP optimizer: dual simplex and barrier\n",
      "Showing barrier log only...\n",
      "\n",
      "Root barrier log...\n",
      "\n",
      "Ordering time: 0.02s\n",
      "\n",
      "Barrier statistics:\n",
      " AA' NZ     : 4.358e+04\n",
      " Factor NZ  : 1.867e+05 (roughly 6 MB of memory)\n",
      " Factor Ops : 1.833e+07 (less than 1 second per iteration)\n",
      " Threads    : 1\n",
      "\n",
      "                  Objective                Residual\n",
      "Iter       Primal          Dual         Primal    Dual     Compl     Time\n",
      "   0  -1.42994101e+07 -2.02944792e+10  1.48e+04 1.13e+04  1.08e+07     0s\n",
      "   1  -4.93473482e+06 -1.10263979e+10  4.15e+03 3.64e-11  2.73e+06     0s\n",
      "   2  -9.89396005e+05 -2.20008295e+09  1.53e+02 1.44e-09  1.95e+05     0s\n",
      "   3  -8.03924464e+05 -4.99293892e+08  2.51e+00 2.27e-10  3.18e+04     0s\n",
      "   4  -8.01870282e+05 -2.35705411e+07  9.08e-01 2.91e-11  1.44e+03     0s\n",
      "   5  -8.09731973e+05 -3.30949502e+06  2.73e-03 1.02e-10  1.57e+02     0s\n",
      "   6  -8.24420250e+05 -1.65305135e+06  1.21e-04 2.91e-11  5.20e+01     0s\n",
      "   7  -8.26375963e+05 -9.86494312e+05  8.12e-05 7.28e-12  1.00e+01     0s\n",
      "   8  -8.29699534e+05 -8.73138153e+05  2.16e-07 1.14e-13  2.72e+00     0s\n",
      "   9  -8.30362757e+05 -8.54795813e+05  3.70e-08 5.68e-14  1.53e+00     0s\n",
      "  10  -8.31378240e+05 -8.43818932e+05  1.36e-08 5.68e-14  7.80e-01     0s\n",
      "  11  -8.32058821e+05 -8.40449153e+05  9.74e-09 2.84e-14  5.26e-01     0s\n",
      "  12  -8.33208052e+05 -8.38930087e+05  4.01e-09 1.42e-14  3.59e-01     0s\n",
      "  13  -8.34024668e+05 -8.37174469e+05  2.11e-09 2.84e-14  1.98e-01     0s\n",
      "  14  -8.34467789e+05 -8.36250981e+05  1.42e-09 2.84e-14  1.12e-01     0s\n",
      "  15  -8.34864631e+05 -8.35802816e+05  8.19e-10 2.84e-14  5.88e-02     0s\n",
      "  16  -8.35057930e+05 -8.35660651e+05  5.45e-10 7.28e-12  3.78e-02     0s\n",
      "  17  -8.35324375e+05 -8.35580992e+05  1.83e-10 2.84e-14  1.61e-02     0s\n",
      "  18  -8.35434026e+05 -8.35516544e+05  4.54e-11 5.68e-14  5.18e-03     0s\n",
      "  19  -8.35456125e+05 -8.35496978e+05  2.34e-11 2.84e-14  2.56e-03     0s\n",
      "  20  -8.35464898e+05 -8.35478095e+05  1.14e-11 5.68e-14  8.28e-04     0s\n",
      "  21  -8.35470855e+05 -8.35474635e+05  8.37e-12 7.28e-12  2.37e-04     0s\n",
      "  22  -8.35473584e+05 -8.35473911e+05  5.50e-11 5.68e-14  2.05e-05     0s\n",
      "  23  -8.35473784e+05 -8.35473795e+05  2.12e-11 1.14e-13  7.25e-07     0s\n",
      "  24  -8.35473793e+05 -8.35473793e+05  1.67e-11 7.28e-12  1.32e-09     0s\n",
      "\n",
      "Barrier solved model in 24 iterations and 0.35 seconds (0.24 work units)\n",
      "Optimal objective -8.35473793e+05\n",
      "\n",
      "\n",
      "Solved with barrier\n",
      "\n",
      "Root relaxation: objective -8.354738e+05, 1305 iterations, 0.23 seconds (0.15 work units)\n",
      "\n",
      "    Nodes    |    Current Node    |     Objective Bounds      |     Work\n",
      " Expl Unexpl |  Obj  Depth IntInf | Incumbent    BestBd   Gap | It/Node Time\n",
      "\n",
      "     0     0 -835473.79    0  143 -78976.952 -835473.79   958%     -    0s\n",
      "H    0     0                    -834379.1550 -835473.79  0.13%     -    1s\n",
      "     0     0 -835397.15    0  163 -834379.16 -835397.15  0.12%     -    1s\n",
      "H    0     0                    -834847.2710 -835397.15  0.07%     -    1s\n",
      "     0     0 -835396.15    0  166 -834847.27 -835396.15  0.07%     -    1s\n",
      "     0     0 -835396.15    0  166 -834847.27 -835396.15  0.07%     -    1s\n",
      "     0     0 -835364.41    0  149 -834847.27 -835364.41  0.06%     -    2s\n",
      "     0     0 -835363.99    0  149 -834847.27 -835363.99  0.06%     -    2s\n",
      "     0     0 -835363.99    0  149 -834847.27 -835363.99  0.06%     -    2s\n",
      "     0     0 -835358.49    0  183 -834847.27 -835358.49  0.06%     -    2s\n",
      "     0     0 -835358.06    0  176 -834847.27 -835358.06  0.06%     -    2s\n",
      "     0     0 -835358.03    0  185 -834847.27 -835358.03  0.06%     -    2s\n",
      "     0     0 -835335.07    0  185 -834847.27 -835335.07  0.06%     -    2s\n",
      "H    0     0                    -834868.9210 -835335.07  0.06%     -    2s\n",
      "     0     0 -835330.90    0  184 -834868.92 -835330.90  0.06%     -    2s\n",
      "     0     0 -835330.56    0  185 -834868.92 -835330.56  0.06%     -    2s\n",
      "     0     0 -835330.56    0  186 -834868.92 -835330.56  0.06%     -    2s\n",
      "     0     0 -835325.95    0  187 -834868.92 -835325.95  0.05%     -    2s\n",
      "     0     0 -835325.91    0  187 -834868.92 -835325.91  0.05%     -    2s\n",
      "     0     0 -835323.06    0  180 -834868.92 -835323.06  0.05%     -    2s\n",
      "     0     0 -835322.49    0  180 -834868.92 -835322.49  0.05%     -    3s\n",
      "     0     0 -835322.43    0  181 -834868.92 -835322.43  0.05%     -    3s\n",
      "     0     0 -835315.83    0  176 -834868.92 -835315.83  0.05%     -    3s\n",
      "     0     0 -835315.43    0  180 -834868.92 -835315.43  0.05%     -    3s\n",
      "     0     0 -835315.42    0  180 -834868.92 -835315.42  0.05%     -    3s\n",
      "     0     0 -835311.61    0  177 -834868.92 -835311.61  0.05%     -    3s\n",
      "     0     0 -835311.40    0  178 -834868.92 -835311.40  0.05%     -    3s\n",
      "     0     0 -835310.37    0  186 -834868.92 -835310.37  0.05%     -    3s\n",
      "     0     0 -835310.37    0  186 -834868.92 -835310.37  0.05%     -    3s\n",
      "     0     2 -835304.25    0  186 -834868.92 -835304.25  0.05%     -    4s\n",
      "    28    55 -835250.87   12  130 -834868.92 -835286.27  0.05%   138    5s\n",
      "   909   895 -835053.78  201  186 -834868.92 -835276.58  0.05%  45.1   10s\n",
      "H  910   851                    -834870.9770 -835252.67  0.05%  45.0   11s\n",
      "H  911   808                    -834957.5470 -835196.81  0.03%  45.0   12s\n",
      "H  914   769                    -835011.5020 -835182.99  0.02%  44.8   12s\n",
      "   923   775 -835141.14   98  160 -835011.50 -835170.89  0.02%  44.4   15s\n",
      "H  950   760                    -835048.6390 -835170.89  0.01%  51.9   18s\n",
      "   993   897 -835167.57   32   94 -835048.64 -835170.89  0.01%  56.1   20s\n",
      "H 1401   908                    -835052.2090 -835170.74  0.01%  62.1   23s\n",
      "  1578  1155 -835164.18   30  153 -835052.21 -835168.55  0.01%  64.1   25s\n",
      "  2624  1649 -835119.09   34  130 -835052.21 -835166.34  0.01%  59.0   30s\n",
      "  3426  2224 -835116.82   49   88 -835052.21 -835163.55  0.01%  60.5   35s\n",
      "  4123  2685 -835098.40   82   66 -835052.21 -835161.62  0.01%  59.5   40s\n",
      "  4818  3122 -835098.75   43  127 -835052.21 -835160.75  0.01%  59.5   47s\n",
      "  5253  3393 -835138.92   46  127 -835052.21 -835159.78  0.01%  59.9   51s\n",
      "  5633  3772 -835093.11   39  152 -835052.21 -835159.35  0.01%  60.9   55s\n",
      "  6242  4287 -835085.26   54  119 -835052.21 -835158.83  0.01%  61.9   60s\n",
      "  7043  4822 -835121.41   45   91 -835052.21 -835158.42  0.01%  62.5   65s\n",
      "  7230  4830 -835091.75   55  189 -835052.21 -835158.42  0.01%  64.2   70s\n",
      "  7238  4839 -835158.42   27  215 -835052.21 -835158.42  0.01%  64.8   76s\n",
      "  7244  4845 -835158.42   29  219 -835052.21 -835158.42  0.01%  65.1   82s\n",
      "  7266  4859 -835158.38   32  207 -835052.21 -835158.42  0.01%  66.0   85s\n",
      "  7426  5140 -835152.31   45  177 -835052.21 -835158.42  0.01%  68.2   93s\n",
      "  7638  5414 -835137.50   76  123 -835052.21 -835158.42  0.01%  71.4   99s\n",
      "  8116  5514 -835144.71   33  166 -835052.21 -835158.42  0.01%  73.6  102s\n",
      "  8521  5556 -835153.65   32  187 -835052.21 -835157.65  0.01%  74.1  105s\n",
      "  8763  5721 -835142.14   33  187 -835052.21 -835156.79  0.01%  75.6  110s\n",
      "  9471  6144 -835132.99   44  200 -835052.21 -835154.19  0.01%  75.6  117s\n",
      "  9816  6205 -835149.43   36  187 -835052.21 -835153.58  0.01%  76.1  120s\n",
      "\n",
      "Cutting planes:\n",
      "  Gomory: 15\n",
      "  Lift-and-project: 83\n",
      "  Implied bound: 15\n",
      "  MIR: 169\n",
      "  Flow cover: 106\n",
      "  Zero half: 4\n",
      "  RLT: 7\n",
      "  Relax-and-lift: 8\n",
      "\n",
      "Explored 10032 nodes (769883 simplex iterations) in 120.02 seconds (127.11 work units)\n",
      "Thread count was 4 (of 4 available processors)\n",
      "\n",
      "Solution count 10: -835052 -835049 -835012 ... 0\n",
      "\n",
      "Time limit reached\n",
      "Best objective -8.350522090000e+05, best bound -8.351535772783e+05, gap 0.0121%\n",
      "status: OptimizationStatus.FEASIBLE objective value : -835052.2089999999 best possible: -835153.5772782869\n"
     ]
    }
   ],
   "source": [
    "# Resolve o modelo        \n",
    "# model.optimize(max_seconds=7200)\n",
    "model.optimize(max_seconds=120)\n",
    "print(\"status: {} objective value : {} best possible: {}\".format(model.status, model.objective_value, model.objective_bound))"
   ]
  },
  {
   "cell_type": "markdown",
   "id": "88bc5c05",
   "metadata": {},
   "source": [
    "---\n",
    "\n",
    "## Testando resultados"
   ]
  },
  {
   "cell_type": "code",
   "execution_count": 21,
   "id": "664cfafc",
   "metadata": {},
   "outputs": [
    {
     "data": {
      "text/plain": [
       "2457.7910000000006"
      ]
     },
     "execution_count": 21,
     "metadata": {},
     "output_type": "execute_result"
    }
   ],
   "source": [
    "# dist percorrida\n",
    "sum([(1 if x[i][j].x>0.5 else 0) * c[i,j] for i in V for j in V if i != j])"
   ]
  },
  {
   "cell_type": "code",
   "execution_count": 22,
   "id": "0f6f9981",
   "metadata": {},
   "outputs": [
    {
     "name": "stdout",
     "output_type": "stream",
     "text": [
      "demanda atendida: 83751.0 | limite demanda: 101380 | total demanda: 83751\n"
     ]
    }
   ],
   "source": [
    "# demanda total atendida\n",
    "print(f\"demanda atendida: {sum(q[j]*w[j].x for j in N)} | limite demanda: {NUM_VEICULOS*Q} | total demanda: {sum(q)}\")"
   ]
  },
  {
   "cell_type": "code",
   "execution_count": 34,
   "id": "a7547485",
   "metadata": {},
   "outputs": [],
   "source": [
    "# # --- PLOTA O GRAFICO ---\n",
    "# plt.figure(figsize=(10, 6))\n",
    "# plt.scatter(coord_x[0:], coord_y[0:])\n",
    "# for i in N:\n",
    "#     plt.annotate(f\"{i}\", (coord_x[i], coord_y[i]))\n",
    "# for i in D:\n",
    "#     plt.plot(coord_x[i], coord_y[i], c = 'r', marker = 's')\n",
    "\n",
    "# for i in V:\n",
    "#     for j in V:\n",
    "#         if x[i][j].x > 0:\n",
    "#             plt.plot([coord_x[i], coord_x[j]], [coord_y[i], coord_y[j]], c='g', zorder=0)\n",
    "    \n",
    "# #escala dos eixos\n",
    "# plt.yticks([i for i in range(1,80,20)]); \n",
    "# plt.xticks([i for i in range(1,80,20)]); "
   ]
  },
  {
   "cell_type": "code",
   "execution_count": 24,
   "id": "06f312ff",
   "metadata": {},
   "outputs": [
    {
     "name": "stdout",
     "output_type": "stream",
     "text": [
      "76 - [6, 28]\n",
      "77 - [8, 16, 17, 22, 32, 61, 62, 69]\n"
     ]
    }
   ],
   "source": [
    "# para onde cada veículo vai\n",
    "for k in D:\n",
    "    print(f\"{k} - \", end='')\n",
    "    print([i for i, el in enumerate(u[k]) if el.x > 0])"
   ]
  },
  {
   "cell_type": "code",
   "execution_count": 25,
   "id": "db54f8a9",
   "metadata": {},
   "outputs": [
    {
     "name": "stdout",
     "output_type": "stream",
     "text": [
      "Depot: 76\n",
      "[6, 56, 44, 35, 58]\n",
      "[28, 4, 71]\n",
      "Depot: 77\n",
      "[8, 59, 75, 38, 12, 55, 54, 19]\n",
      "[16]\n",
      "[17, 50, 39, 3, 66, 13, 7]\n",
      "[22, 45, 20, 14, 29, 37, 33, 31, 21, 23]\n",
      "[32, 60, 15, 9, 51, 47]\n",
      "[61, 68, 46, 26, 64, 1, 74, 2, 24, 57, 49, 48]\n",
      "[62, 36, 34, 10, 53, 5, 43]\n",
      "[69, 25, 30]\n"
     ]
    }
   ],
   "source": [
    "# caminho dos carros olhando arcos\n",
    "for k in D:\n",
    "    print(f\"Depot: {k}\")\n",
    "    for i, el in enumerate(x[k]):\n",
    "        if el.x > 0:\n",
    "            visitados = [i]\n",
    "            next_list = [j for j, el in enumerate(x[i]) if el.x > 0]\n",
    "            while len(next_list) > 0:\n",
    "                if len(next_list) > 1:\n",
    "                    print(f\"ERROR: {next_list}\")\n",
    "                next_el = next_list[0]\n",
    "                visitados.append(next_el)\n",
    "                next_list = [j for j, el in enumerate(x[next_el]) if el.x > 0]\n",
    "            print(visitados)"
   ]
  },
  {
   "cell_type": "code",
   "execution_count": 26,
   "id": "a9f8b988",
   "metadata": {},
   "outputs": [
    {
     "name": "stdout",
     "output_type": "stream",
     "text": [
      "Depot: 76\n",
      "[(6, 10138, 1790), (56, 8348, 1446), (44, 6902, 2610), (35, 2907, 2189), (58, 718, 719)]\n",
      "[(28, 10138, 3319), (4, 6819, 1107), (71, 1256, 1257)]\n",
      "Depot: 77\n",
      "[(8, 10138, 446), (59, 9399, 1202), (75, 8197, 899), (38, 7298, 1518), (12, 5780, 990), (55, 4790, 1574), (54, 3216, 1431), (19, 1785, 1786)]\n",
      "[(16, 10138, 4506)]\n",
      "[(17, 10138, 2744), (50, 7394, 1231), (39, 6163, 871), (3, 5292, 2371), (66, 2172, 835), (13, 1337, 765), (7, 572, 573)]\n",
      "[(22, 10138, 2245), (45, 7893, 1030), (20, 6858, 846), (14, 6012, 641), (29, 5371, 1510), (37, 3861, 1820), (33, 2041, 749), (31, 1292, 546), (21, 746, 307), (23, 439, 440)]\n",
      "[(32, 10138, 992), (60, 9146, 821), (15, 8325, 4446), (9, 3829, 687), (51, 3142, 1118), (47, 2024, 2025)]\n",
      "[(61, 10138, 855), (68, 9283, 873), (46, 8410, 924), (26, 7247, 801), (64, 6446, 582), (1, 5864, 797), (74, 5067, 576), (2, 4491, 647), (24, 3844, 1649), (57, 2195, 520), (49, 1675, 416), (48, 1259, 1260)]\n",
      "[(62, 10138, 2271), (36, 7867, 854), (34, 7013, 1180), (10, 5256, 2227), (53, 3029, 1479), (5, 1550, 543), (43, 1007, 1008)]\n",
      "[(69, 10138, 3760), (25, 6378, 1292), (30, 5086, 835)]\n"
     ]
    }
   ],
   "source": [
    "# caminho dos carros olhando demanda\n",
    "for k in D:\n",
    "    print(f\"Depot: {k}\")\n",
    "    for i, el in enumerate(u[k]):\n",
    "        if int(el.x) > 0:\n",
    "            visitados = [(i, int(el.x))]\n",
    "            next_list = [(j, int(el.x)) for j, el in enumerate(u[i]) if int(el.x) > 0]\n",
    "            while len(next_list) > 0:\n",
    "                if len(next_list) > 1:\n",
    "                    print(f\"ERROR: {next_list}\")\n",
    "                next_el, value = next_list[0]\n",
    "                visitados.append((next_el, value))\n",
    "                next_list = [(j, int(el.x)) for j, el in enumerate(u[next_el]) if int(el.x) > 0]\n",
    "            print([(*el, q[el[0]]) for el in visitados])"
   ]
  },
  {
   "cell_type": "code",
   "execution_count": 27,
   "id": "9c091bd1",
   "metadata": {},
   "outputs": [
    {
     "name": "stdout",
     "output_type": "stream",
     "text": [
      "Cidades não atendidas\n",
      "aresta:  [0, 11, 18, 27, 40, 41, 42, 52, 63, 65, 67, 70, 72, 73]\n",
      "demanda: []\n",
      "w:       [0, 11, 18, 27, 40, 41, 42, 52, 63, 65, 67, 70, 72, 73]\n"
     ]
    }
   ],
   "source": [
    "print(\"Cidades não atendidas\")\n",
    "\n",
    "# cidades não atendidas (olhando arestas)\n",
    "print(f\"aresta:  {([j for j in N if sum([x[i][j].x for i in V]) < 0.5])}\")\n",
    "\n",
    "# nao atendidos olhando demanda\n",
    "print(f\"demanda: {[j for j in N if (q[j] - (sum([u[i][j].x for i in V if i != j]) - sum([u[j][i].x for i in N if i != j]))) > 0.05]}\")\n",
    "\n",
    "# nao atendidos olhando w\n",
    "print(f\"w:       {[j for j in N if w[j].x < 0.5]}\")"
   ]
  },
  {
   "cell_type": "code",
   "execution_count": 28,
   "id": "2b9fb69d",
   "metadata": {},
   "outputs": [
    {
     "name": "stdout",
     "output_type": "stream",
     "text": [
      "0-> demanda: 0\n",
      "11-> demanda: 0\n",
      "18-> demanda: 0\n",
      "27-> demanda: 0\n",
      "40-> demanda: 0\n",
      "41-> demanda: 0\n",
      "42-> demanda: 0\n",
      "52-> demanda: 0\n",
      "63-> demanda: 0\n",
      "65-> demanda: 0\n",
      "67-> demanda: 0\n",
      "70-> demanda: 0\n",
      "72-> demanda: 0\n",
      "73-> demanda: 0\n"
     ]
    }
   ],
   "source": [
    "# nao atendidos olhando w\n",
    "for j in N:\n",
    "    if w[j].x < 0.5:\n",
    "        print(f\"{j}-> demanda: {q[j]}\")"
   ]
  },
  {
   "cell_type": "code",
   "execution_count": 29,
   "id": "b6058d70",
   "metadata": {},
   "outputs": [],
   "source": [
    "# nao atendidos olhando demanda\n",
    "for j in N:\n",
    "    enter = (sum([u[i][j].x for i in V if i != j]) - sum([u[j][i].x for i in N if i != j]))\n",
    "    if (q[j] - enter) > 0.05:\n",
    "        print(f\"{j}-> enter: {enter}  need: {q[j]}\")"
   ]
  },
  {
   "cell_type": "code",
   "execution_count": 30,
   "id": "a00189fb",
   "metadata": {},
   "outputs": [
    {
     "data": {
      "text/plain": [
       "10.0"
      ]
     },
     "execution_count": 30,
     "metadata": {},
     "output_type": "execute_result"
    }
   ],
   "source": [
    "# nro de veiculos\n",
    "sum(x[k][i].x for k in D for i in N)"
   ]
  },
  {
   "cell_type": "code",
   "execution_count": 31,
   "id": "73b70350",
   "metadata": {},
   "outputs": [
    {
     "name": "stdout",
     "output_type": "stream",
     "text": [
      "[77]\n"
     ]
    }
   ],
   "source": [
    "# cidades que tem mais de dois arcos ligadas a ela (depositos podem ter mais)\n",
    "print([j for j in V if len([i for i in V if x[j][i].x > 0.5 or x[i][j].x > 0.5]) > 2])"
   ]
  },
  {
   "cell_type": "code",
   "execution_count": 33,
   "id": "5c52af8c",
   "metadata": {},
   "outputs": [
    {
     "name": "stdout",
     "output_type": "stream",
     "text": [
      "distancia media : 194.7773214990138\n",
      "distancia maxima: 538.506\n",
      "distancia minima: 0.0\n"
     ]
    }
   ],
   "source": [
    "print(f\"distancia media : {sum([c[el] for el in c])/len(c)}\")\n",
    "print(f\"distancia maxima: {max([c[el] for el in c])}\")\n",
    "print(f\"distancia minima: {min([c[el] for el in c])}\")"
   ]
  }
 ],
 "metadata": {
  "kernelspec": {
   "display_name": "Python 3 (ipykernel)",
   "language": "python",
   "name": "python3"
  },
  "language_info": {
   "codemirror_mode": {
    "name": "ipython",
    "version": 3
   },
   "file_extension": ".py",
   "mimetype": "text/x-python",
   "name": "python",
   "nbconvert_exporter": "python",
   "pygments_lexer": "ipython3",
   "version": "3.8.12"
  }
 },
 "nbformat": 4,
 "nbformat_minor": 5
}
