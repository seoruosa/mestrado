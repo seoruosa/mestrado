{
 "cells": [
  {
   "cell_type": "code",
   "execution_count": 1,
   "id": "f9811fe6",
   "metadata": {},
   "outputs": [],
   "source": [
    "import matplotlib.pyplot as plt\n",
    "# from networkx import minimum_cut, DiGraph\n",
    "\n",
    "from mip import GUROBI\n",
    "\n",
    "from src.read_instance import MDOVRP\n",
    "from src.models.model_MDOVRP_MO import model_MDOVRP_MO"
   ]
  },
  {
   "cell_type": "code",
   "execution_count": 19,
   "id": "a1019811",
   "metadata": {},
   "outputs": [],
   "source": [
    "filepath = \"Instancias/ES-n78-m2-Q10138.txt\"\n",
    "# filepath = \"Instancias/Vrp-Set-A/A-n80-m2-Q60.vrp\""
   ]
  },
  {
   "cell_type": "code",
   "execution_count": 20,
   "id": "1e00a48e",
   "metadata": {},
   "outputs": [],
   "source": [
    "N, D, V, Q, q, c, coord_x, coord_y = MDOVRP(filepath)"
   ]
  },
  {
   "cell_type": "markdown",
   "id": "4838d9cf",
   "metadata": {},
   "source": [
    "Usando a formulação $MDOVRP_{2i− flv}$ de Lalla-Ruiz e Mes (2019)\n",
    "\n",
    "\n",
    "    Lalla-Ruiz, Eduardo, and Martijn Mes. \"Mathematical formulations and improvements for the multi-depot open vehicle routing problem.\" Optimization Letters 15 (2021): 271-286."
   ]
  },
  {
   "cell_type": "code",
   "execution_count": 21,
   "id": "c638576b",
   "metadata": {},
   "outputs": [
    {
     "name": "stdout",
     "output_type": "stream",
     "text": [
      "Set parameter WLSAccessID\n",
      "Set parameter WLSSecret\n",
      "Set parameter LicenseID\n",
      "Academic license - for non-commercial use only - registered to thiago.giachetto@aluno.ufop.edu.br\n"
     ]
    }
   ],
   "source": [
    "num_vehicles = 10\n",
    "max_distance = 180\n",
    "\n",
    "distance_cost = 1\n",
    "demand_cost = 10\n",
    "\n",
    "model, x, u, y, w = model_MDOVRP_MO(N, D, V, Q, q, c, max_distance, num_vehicles, 'v0', GUROBI, distance_cost, demand_cost)"
   ]
  },
  {
   "cell_type": "code",
   "execution_count": 22,
   "id": "84b30fa7",
   "metadata": {},
   "outputs": [
    {
     "name": "stdout",
     "output_type": "stream",
     "text": [
      "Set parameter TimeLimit to value 30\n",
      "Set parameter NodeLimit to value 1073741824\n",
      "Set parameter SolutionLimit to value 1073741824\n",
      "Set parameter IntFeasTol to value 1e-06\n",
      "Set parameter Method to value 3\n",
      "Gurobi Optimizer version 9.5.1 build v9.5.1rc2 (linux64)\n",
      "Thread count: 2 physical cores, 4 logical processors, using up to 4 threads\n",
      "Academic license - for non-commercial use only - registered to thiago.giachetto@aluno.ufop.edu.br\n",
      "Optimize a model with 20247 rows, 13608 columns and 66170 nonzeros\n",
      "Model fingerprint: 0xc11ac357\n",
      "Variable types: 6806 continuous, 6802 integer (6802 binary)\n",
      "Coefficient statistics:\n",
      "  Matrix range     [1e+00, 2e+02]\n",
      "  Objective range  [1e+01, 2e+02]\n",
      "  Bounds range     [1e+00, 1e+00]\n",
      "  RHS range        [1e+00, 6e+02]\n",
      "Found heuristic solution: objective 0.0000000\n",
      "Presolve removed 10838 rows and 1224 columns\n",
      "Presolve time: 0.21s\n",
      "Presolved: 9409 rows, 12384 columns, 46320 nonzeros\n",
      "Variable types: 6112 continuous, 6272 integer (6272 binary)\n",
      "Found heuristic solution: objective -355.8578644\n",
      "\n",
      "Concurrent LP optimizer: dual simplex and barrier\n",
      "Showing barrier log only...\n",
      "\n",
      "Root barrier log...\n",
      "\n",
      "Ordering time: 0.10s\n",
      "\n",
      "Barrier statistics:\n",
      " AA' NZ     : 1.309e+05\n",
      " Factor NZ  : 6.187e+05 (roughly 14 MB of memory)\n",
      " Factor Ops : 1.138e+08 (less than 1 second per iteration)\n",
      " Threads    : 1\n",
      "\n",
      "                  Objective                Residual\n",
      "Iter       Primal          Dual         Primal    Dual     Compl     Time\n",
      "   0   1.80952586e+06 -1.35755236e+06  2.31e+03 4.30e+00  4.63e+02     0s\n",
      "   1   6.41604316e+05 -8.65937326e+05  8.29e+02 5.68e-14  1.51e+02     0s\n",
      "   2   5.93350461e+04 -3.50707716e+05  8.43e+01 1.01e-12  2.05e+01     0s\n",
      "   3   7.57370904e+02 -3.76688331e+04  1.45e-01 1.14e-13  1.14e+00     0s\n",
      "   4  -3.77237752e+02 -1.09366424e+04  2.99e-04 3.15e-14  3.10e-01     1s\n",
      "   5  -1.84663435e+03 -5.14502258e+03  4.10e-07 7.11e-15  9.67e-02     1s\n",
      "   6  -2.54975745e+03 -4.02254015e+03  2.15e-07 7.11e-15  4.32e-02     1s\n",
      "   7  -2.79804936e+03 -3.70199381e+03  1.46e-07 7.11e-15  2.65e-02     1s\n",
      "   8  -2.96924563e+03 -3.51361085e+03  1.02e-07 7.11e-15  1.60e-02     1s\n",
      "   9  -3.08202668e+03 -3.46211590e+03  7.36e-08 7.11e-15  1.11e-02     1s\n",
      "  10  -3.18334451e+03 -3.42927573e+03  4.80e-08 7.11e-15  7.21e-03     1s\n",
      "  11  -3.28638548e+03 -3.40597391e+03  2.29e-08 7.11e-15  3.51e-03     1s\n",
      "  12  -3.30910974e+03 -3.40000890e+03  1.75e-08 7.11e-15  2.67e-03     1s\n",
      "  13  -3.33291406e+03 -3.38915930e+03  1.17e-08 7.11e-15  1.65e-03     1s\n",
      "  14  -3.35923881e+03 -3.38609145e+03  5.26e-09 7.11e-15  7.88e-04     1s\n",
      "  15  -3.36356195e+03 -3.38275003e+03  4.27e-09 7.11e-15  5.63e-04     1s\n",
      "  16  -3.36733134e+03 -3.38231841e+03  3.36e-09 7.11e-15  4.40e-04     1s\n",
      "  17  -3.37693905e+03 -3.38187025e+03  1.07e-09 7.11e-15  1.45e-04     1s\n",
      "  18  -3.38117936e+03 -3.38161149e+03  8.17e-11 1.07e-14  1.27e-05     1s\n",
      "  19  -3.38154231e+03 -3.38154237e+03  5.25e-12 7.11e-15  1.69e-09     1s\n",
      "  20  -3.38154235e+03 -3.38154235e+03  2.70e-12 9.55e-15  1.69e-12     1s\n",
      "\n",
      "Barrier solved model in 20 iterations and 0.83 seconds (0.65 work units)\n",
      "Optimal objective -3.38154235e+03\n",
      "\n",
      "\n",
      "Solved with barrier\n",
      "\n",
      "Root relaxation: objective -3.381542e+03, 1687 iterations, 0.63 seconds (0.46 work units)\n",
      "\n",
      "    Nodes    |    Current Node    |     Objective Bounds      |     Work\n",
      " Expl Unexpl |  Obj  Depth IntInf | Incumbent    BestBd   Gap | It/Node Time\n",
      "\n",
      "     0     0 -3381.5424    0   47 -355.85786 -3381.5424   850%     -    1s\n",
      "H    0     0                    -2683.015152 -3381.5424  26.0%     -    1s\n",
      "H    0     0                    -3237.769019 -3381.5424  4.44%     -    2s\n",
      "     0     0 -3381.5424    0   64 -3237.7690 -3381.5424  4.44%     -    3s\n",
      "H    0     0                    -3349.167389 -3381.5424  0.97%     -    5s\n",
      "     0     0 -3380.9730    0   41 -3349.1674 -3380.9730  0.95%     -    5s\n",
      "     0     0 -3379.2090    0   25 -3349.1674 -3379.2090  0.90%     -    5s\n",
      "     0     0 -3378.5773    0   95 -3349.1674 -3378.5773  0.88%     -    5s\n",
      "     0     0 -3377.4219    0   69 -3349.1674 -3377.4219  0.84%     -    6s\n",
      "     0     0 -3377.4219    0   69 -3349.1674 -3377.4219  0.84%     -    6s\n",
      "     0     0 -3376.3158    0   87 -3349.1674 -3376.3158  0.81%     -    6s\n",
      "     0     0 -3376.1261    0   87 -3349.1674 -3376.1261  0.80%     -    6s\n",
      "     0     0 -3376.1121    0   84 -3349.1674 -3376.1121  0.80%     -    6s\n",
      "     0     0 -3375.3248    0   97 -3349.1674 -3375.3248  0.78%     -    6s\n",
      "     0     0 -3375.2689    0   84 -3349.1674 -3375.2689  0.78%     -    6s\n",
      "     0     0 -3375.2656    0  114 -3349.1674 -3375.2656  0.78%     -    6s\n",
      "     0     0 -3375.2655    0  113 -3349.1674 -3375.2655  0.78%     -    6s\n",
      "     0     0 -3375.1560    0  111 -3349.1674 -3375.1560  0.78%     -    6s\n",
      "     0     0 -3375.0946    0   59 -3349.1674 -3375.0946  0.77%     -    6s\n",
      "     0     0 -3374.8876    0  102 -3349.1674 -3374.8876  0.77%     -    6s\n",
      "     0     0 -3374.8797    0  103 -3349.1674 -3374.8797  0.77%     -    6s\n",
      "     0     0 -3374.8797    0  103 -3349.1674 -3374.8797  0.77%     -    6s\n",
      "     0     0 -3374.8542    0  105 -3349.1674 -3374.8542  0.77%     -    6s\n",
      "     0     0 -3374.8501    0  107 -3349.1674 -3374.8501  0.77%     -    6s\n",
      "     0     0 -3374.8497    0  107 -3349.1674 -3374.8497  0.77%     -    6s\n",
      "     0     0 -3374.8409    0  102 -3349.1674 -3374.8409  0.77%     -    6s\n",
      "     0     0 -3374.8409    0  102 -3349.1674 -3374.8409  0.77%     -    6s\n",
      "     0     0 -3374.8409    0   98 -3349.1674 -3374.8409  0.77%     -    6s\n",
      "     0     0 -3374.8409    0   96 -3349.1674 -3374.8409  0.77%     -    7s\n",
      "     0     0 -3374.8409    0   24 -3349.1674 -3374.8409  0.77%     -    7s\n",
      "     0     0 -3374.8409    0   69 -3349.1674 -3374.8409  0.77%     -    7s\n",
      "H    0     0                    -3353.309524 -3374.8409  0.64%     -    7s\n",
      "     0     0 -3374.8409    0  114 -3353.3095 -3374.8409  0.64%     -    7s\n",
      "     0     0 -3374.8409    0   89 -3353.3095 -3374.8409  0.64%     -    7s\n",
      "     0     0 -3374.8409    0  101 -3353.3095 -3374.8409  0.64%     -    7s\n",
      "     0     0 -3374.8409    0   90 -3353.3095 -3374.8409  0.64%     -    7s\n",
      "     0     0 -3374.8409    0   93 -3353.3095 -3374.8409  0.64%     -    7s\n",
      "     0     0 -3374.8409    0   64 -3353.3095 -3374.8409  0.64%     -    7s\n",
      "     0     0 -3374.8409    0   97 -3353.3095 -3374.8409  0.64%     -    7s\n",
      "     0     0 -3374.8409    0   46 -3353.3095 -3374.8409  0.64%     -    7s\n",
      "     0     0 -3374.8409    0   50 -3353.3095 -3374.8409  0.64%     -    7s\n",
      "     0     0 -3374.8409    0  118 -3353.3095 -3374.8409  0.64%     -    7s\n",
      "     0     0 -3374.8409    0   86 -3353.3095 -3374.8409  0.64%     -    7s\n",
      "     0     0 -3374.8409    0   96 -3353.3095 -3374.8409  0.64%     -    7s\n",
      "     0     0 -3374.8398    0   94 -3353.3095 -3374.8398  0.64%     -    7s\n",
      "     0     0 -3374.8398    0   95 -3353.3095 -3374.8398  0.64%     -    7s\n",
      "     0     0 -3374.8389    0   84 -3353.3095 -3374.8389  0.64%     -    8s\n",
      "     0     0 -3374.8389    0   84 -3353.3095 -3374.8389  0.64%     -    8s\n",
      "     0     0 -3374.8389    0   86 -3353.3095 -3374.8389  0.64%     -    8s\n",
      "     0     0 -3374.8389    0   91 -3353.3095 -3374.8389  0.64%     -    8s\n",
      "     0     0 -3374.8389    0   87 -3353.3095 -3374.8389  0.64%     -    8s\n",
      "     0     0 -3374.8389    0   84 -3353.3095 -3374.8389  0.64%     -    8s\n",
      "     0     2 -3374.8389    0   84 -3353.3095 -3374.8389  0.64%     -    8s\n",
      "   311   249 -3364.7830  154   45 -3353.3095 -3374.6964  0.64%  26.2   10s\n",
      "  1745   953 -3372.9136   17   99 -3353.3095 -3373.9991  0.62%  41.3   15s\n",
      "  4275  2473     cutoff   51      -3353.3095 -3371.8789  0.55%  42.8   20s\n",
      "  7215  4527 -3359.1363   59   96 -3353.3095 -3370.9212  0.53%  43.4   25s\n",
      "  9987  6059     cutoff   36      -3353.3095 -3369.8466  0.49%  44.9   30s\n",
      "\n",
      "Cutting planes:\n",
      "  Gomory: 7\n",
      "  Lift-and-project: 23\n",
      "  Cover: 4\n",
      "  Implied bound: 27\n",
      "  MIR: 122\n",
      "  Flow cover: 125\n",
      "  Zero half: 3\n",
      "  Network: 1\n",
      "  RLT: 6\n",
      "  Relax-and-lift: 3\n",
      "\n",
      "Explored 10223 nodes (479178 simplex iterations) in 30.01 seconds (22.85 work units)\n",
      "Thread count was 4 (of 4 available processors)\n",
      "\n",
      "Solution count 7: -3353.31 -3349.17 -3237.77 ... 0\n",
      "\n",
      "Time limit reached\n",
      "Best objective -3.353309524417e+03, best bound -3.369846565331e+03, gap 0.4932%\n",
      "status: OptimizationStatus.FEASIBLE objective value : -3353.3095244168785 best possible: -3369.846565331457\n"
     ]
    }
   ],
   "source": [
    "# Resolve o modelo        \n",
    "# model.optimize(max_seconds=7200)\n",
    "model.optimize(max_seconds=30)\n",
    "print(\"status: {} objective value : {} best possible: {}\".format(model.status, model.objective_value, model.objective_bound))"
   ]
  },
  {
   "cell_type": "markdown",
   "id": "88bc5c05",
   "metadata": {},
   "source": [
    "---\n",
    "\n",
    "## Testando resultados"
   ]
  },
  {
   "cell_type": "code",
   "execution_count": 7,
   "id": "664cfafc",
   "metadata": {},
   "outputs": [
    {
     "data": {
      "text/plain": [
       "2457.7910000000006"
      ]
     },
     "execution_count": 7,
     "metadata": {},
     "output_type": "execute_result"
    }
   ],
   "source": [
    "# dist percorrida\n",
    "sum([(1 if x[i][j].x>0.5 else 0) * c[i,j] for i in V for j in V if i != j])"
   ]
  },
  {
   "cell_type": "code",
   "execution_count": 8,
   "id": "0f6f9981",
   "metadata": {},
   "outputs": [
    {
     "name": "stdout",
     "output_type": "stream",
     "text": [
      "demanda atendida: 83751.0 | limite demanda: 101380 | total demanda: 83751\n"
     ]
    }
   ],
   "source": [
    "# demanda total atendida\n",
    "print(f\"demanda atendida: {sum(q[j]*w[j].x for j in N)} | limite demanda: {num_vehicles*Q} | total demanda: {sum(q)}\")"
   ]
  },
  {
   "cell_type": "code",
   "execution_count": 9,
   "id": "a7547485",
   "metadata": {},
   "outputs": [],
   "source": [
    "# # --- PLOTA O GRAFICO ---\n",
    "# plt.figure(figsize=(10, 6))\n",
    "# plt.scatter(coord_x[0:], coord_y[0:])\n",
    "# for i in N:\n",
    "#     plt.annotate(f\"{i}\", (coord_x[i], coord_y[i]))\n",
    "# for i in D:\n",
    "#     plt.plot(coord_x[i], coord_y[i], c = 'r', marker = 's')\n",
    "\n",
    "# for i in V:\n",
    "#     for j in V:\n",
    "#         if x[i][j].x > 0:\n",
    "#             plt.plot([coord_x[i], coord_x[j]], [coord_y[i], coord_y[j]], c='g', zorder=0)\n",
    "    \n",
    "# #escala dos eixos\n",
    "# plt.yticks([i for i in range(1,80,20)]); \n",
    "# plt.xticks([i for i in range(1,80,20)]); "
   ]
  },
  {
   "cell_type": "code",
   "execution_count": 10,
   "id": "06f312ff",
   "metadata": {},
   "outputs": [
    {
     "name": "stdout",
     "output_type": "stream",
     "text": [
      "76 - [6, 28]\n",
      "77 - [8, 16, 17, 22, 32, 61, 62, 69]\n"
     ]
    }
   ],
   "source": [
    "# para onde cada veículo vai\n",
    "for k in D:\n",
    "    print(f\"{k} - \", end='')\n",
    "    print([i for i, el in enumerate(u[k]) if el.x > 0])"
   ]
  },
  {
   "cell_type": "code",
   "execution_count": 11,
   "id": "db54f8a9",
   "metadata": {},
   "outputs": [
    {
     "name": "stdout",
     "output_type": "stream",
     "text": [
      "Depot: 76\n",
      "[6, 56, 44, 35, 58]\n",
      "[28, 4, 71]\n",
      "Depot: 77\n",
      "[8, 59, 75, 38, 12, 55, 54, 19]\n",
      "[16]\n",
      "[17, 50, 39, 3, 66, 13, 7]\n",
      "[22, 45, 20, 14, 29, 37, 33, 31, 21, 23]\n",
      "[32, 60, 15, 9, 51, 47]\n",
      "[61, 68, 46, 26, 64, 1, 74, 2, 24, 57, 49, 48]\n",
      "[62, 36, 34, 10, 53, 5, 43]\n",
      "[69, 25, 30]\n"
     ]
    }
   ],
   "source": [
    "# caminho dos carros olhando arcos\n",
    "for k in D:\n",
    "    print(f\"Depot: {k}\")\n",
    "    for i, el in enumerate(x[k]):\n",
    "        if el.x > 0:\n",
    "            visitados = [i]\n",
    "            next_list = [j for j, el in enumerate(x[i]) if el.x > 0]\n",
    "            while len(next_list) > 0:\n",
    "                if len(next_list) > 1:\n",
    "                    print(f\"ERROR: {next_list}\")\n",
    "                next_el = next_list[0]\n",
    "                visitados.append(next_el)\n",
    "                next_list = [j for j, el in enumerate(x[next_el]) if el.x > 0]\n",
    "            print(visitados)"
   ]
  },
  {
   "cell_type": "code",
   "execution_count": 12,
   "id": "a9f8b988",
   "metadata": {},
   "outputs": [
    {
     "name": "stdout",
     "output_type": "stream",
     "text": [
      "Depot: 76\n",
      "[(6, 10138, 1790), (56, 8348, 1446), (44, 6902, 2610), (35, 2907, 2189), (58, 718, 719)]\n",
      "[(28, 10138, 3319), (4, 6819, 1107), (71, 1256, 1257)]\n",
      "Depot: 77\n",
      "[(8, 10138, 446), (59, 9399, 1202), (75, 8197, 899), (38, 7298, 1518), (12, 5780, 990), (55, 4790, 1574), (54, 3216, 1431), (19, 1785, 1786)]\n",
      "[(16, 10138, 4506)]\n",
      "[(17, 10138, 2744), (50, 7394, 1231), (39, 6163, 871), (3, 5292, 2371), (66, 2172, 835), (13, 1337, 765), (7, 572, 573)]\n",
      "[(22, 10138, 2245), (45, 7893, 1030), (20, 6858, 846), (14, 6012, 641), (29, 5371, 1510), (37, 3861, 1820), (33, 2041, 749), (31, 1292, 546), (21, 746, 307), (23, 439, 440)]\n",
      "[(32, 10138, 992), (60, 9146, 821), (15, 8325, 4446), (9, 3829, 687), (51, 3142, 1118), (47, 2024, 2025)]\n",
      "[(61, 10138, 855), (68, 9283, 873), (46, 8410, 924), (26, 7247, 801), (64, 6446, 582), (1, 5864, 797), (74, 5067, 576), (2, 4491, 647), (24, 3844, 1649), (57, 2195, 520), (49, 1675, 416), (48, 1259, 1260)]\n",
      "[(62, 10138, 2271), (36, 7867, 854), (34, 7013, 1180), (10, 5256, 2227), (53, 3029, 1479), (5, 1550, 543), (43, 1007, 1008)]\n",
      "[(69, 10138, 3760), (25, 6378, 1292), (30, 5086, 835)]\n"
     ]
    }
   ],
   "source": [
    "# caminho dos carros olhando demanda\n",
    "for k in D:\n",
    "    print(f\"Depot: {k}\")\n",
    "    for i, el in enumerate(u[k]):\n",
    "        if int(el.x) > 0:\n",
    "            visitados = [(i, int(el.x))]\n",
    "            next_list = [(j, int(el.x)) for j, el in enumerate(u[i]) if int(el.x) > 0]\n",
    "            while len(next_list) > 0:\n",
    "                if len(next_list) > 1:\n",
    "                    print(f\"ERROR: {next_list}\")\n",
    "                next_el, value = next_list[0]\n",
    "                visitados.append((next_el, value))\n",
    "                next_list = [(j, int(el.x)) for j, el in enumerate(u[next_el]) if int(el.x) > 0]\n",
    "            print([(*el, q[el[0]]) for el in visitados])"
   ]
  },
  {
   "cell_type": "code",
   "execution_count": 13,
   "id": "9c091bd1",
   "metadata": {},
   "outputs": [
    {
     "name": "stdout",
     "output_type": "stream",
     "text": [
      "Cidades não atendidas\n",
      "aresta:  [0, 11, 18, 27, 40, 41, 42, 52, 63, 65, 67, 70, 72, 73]\n",
      "demanda: []\n",
      "w:       [0, 11, 18, 27, 40, 41, 42, 52, 63, 65, 67, 70, 72, 73]\n"
     ]
    }
   ],
   "source": [
    "print(\"Cidades não atendidas\")\n",
    "\n",
    "# cidades não atendidas (olhando arestas)\n",
    "print(f\"aresta:  {([j for j in N if sum([x[i][j].x for i in V]) < 0.5])}\")\n",
    "\n",
    "# nao atendidos olhando demanda\n",
    "print(f\"demanda: {[j for j in N if (q[j] - (sum([u[i][j].x for i in V if i != j]) - sum([u[j][i].x for i in N if i != j]))) > 0.05]}\")\n",
    "\n",
    "# nao atendidos olhando w\n",
    "print(f\"w:       {[j for j in N if w[j].x < 0.5]}\")"
   ]
  },
  {
   "cell_type": "code",
   "execution_count": 14,
   "id": "2b9fb69d",
   "metadata": {},
   "outputs": [
    {
     "name": "stdout",
     "output_type": "stream",
     "text": [
      "0-> demanda: 0\n",
      "11-> demanda: 0\n",
      "18-> demanda: 0\n",
      "27-> demanda: 0\n",
      "40-> demanda: 0\n",
      "41-> demanda: 0\n",
      "42-> demanda: 0\n",
      "52-> demanda: 0\n",
      "63-> demanda: 0\n",
      "65-> demanda: 0\n",
      "67-> demanda: 0\n",
      "70-> demanda: 0\n",
      "72-> demanda: 0\n",
      "73-> demanda: 0\n"
     ]
    }
   ],
   "source": [
    "# nao atendidos olhando w\n",
    "for j in N:\n",
    "    if w[j].x < 0.5:\n",
    "        print(f\"{j}-> demanda: {q[j]}\")"
   ]
  },
  {
   "cell_type": "code",
   "execution_count": 15,
   "id": "b6058d70",
   "metadata": {},
   "outputs": [],
   "source": [
    "# nao atendidos olhando demanda\n",
    "for j in N:\n",
    "    enter = (sum([u[i][j].x for i in V if i != j]) - sum([u[j][i].x for i in N if i != j]))\n",
    "    if (q[j] - enter) > 0.05:\n",
    "        print(f\"{j}-> enter: {enter}  need: {q[j]}\")"
   ]
  },
  {
   "cell_type": "code",
   "execution_count": 16,
   "id": "a00189fb",
   "metadata": {},
   "outputs": [
    {
     "data": {
      "text/plain": [
       "10.0"
      ]
     },
     "execution_count": 16,
     "metadata": {},
     "output_type": "execute_result"
    }
   ],
   "source": [
    "# nro de veiculos\n",
    "sum(x[k][i].x for k in D for i in N)"
   ]
  },
  {
   "cell_type": "code",
   "execution_count": 17,
   "id": "73b70350",
   "metadata": {},
   "outputs": [
    {
     "name": "stdout",
     "output_type": "stream",
     "text": [
      "[77]\n"
     ]
    }
   ],
   "source": [
    "# cidades que tem mais de dois arcos ligadas a ela (depositos podem ter mais)\n",
    "print([j for j in V if len([i for i in V if x[j][i].x > 0.5 or x[i][j].x > 0.5]) > 2])"
   ]
  },
  {
   "cell_type": "code",
   "execution_count": 18,
   "id": "5c52af8c",
   "metadata": {},
   "outputs": [
    {
     "name": "stdout",
     "output_type": "stream",
     "text": [
      "distancia media : 194.7773214990138\n",
      "distancia maxima: 538.506\n",
      "distancia minima: 0.0\n"
     ]
    }
   ],
   "source": [
    "print(f\"distancia media : {sum([c[el] for el in c])/len(c)}\")\n",
    "print(f\"distancia maxima: {max([c[el] for el in c])}\")\n",
    "print(f\"distancia minima: {min([c[el] for el in c])}\")"
   ]
  }
 ],
 "metadata": {
  "kernelspec": {
   "display_name": "Python 3 (ipykernel)",
   "language": "python",
   "name": "python3"
  },
  "language_info": {
   "codemirror_mode": {
    "name": "ipython",
    "version": 3
   },
   "file_extension": ".py",
   "mimetype": "text/x-python",
   "name": "python",
   "nbconvert_exporter": "python",
   "pygments_lexer": "ipython3",
   "version": "3.8.12"
  }
 },
 "nbformat": 4,
 "nbformat_minor": 5
}
