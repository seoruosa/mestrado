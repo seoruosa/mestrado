{
 "cells": [
  {
   "cell_type": "code",
   "execution_count": 1,
   "id": "f9811fe6",
   "metadata": {},
   "outputs": [],
   "source": [
    "# import pandas as pd\n",
    "# import numpy as np\n",
    "import matplotlib.pyplot as plt\n",
    "# import math\n",
    "# from networkx import minimum_cut, DiGraph\n",
    "from mip import *\n",
    "# from itertools import product\n",
    "\n",
    "from src.read_instance import MDOVRP\n",
    "# rnd = np.random\n",
    "# rnd.seed(454)"
   ]
  },
  {
   "cell_type": "code",
   "execution_count": 2,
   "id": "a1019811",
   "metadata": {},
   "outputs": [],
   "source": [
    "# filepath = \"Instancias/ES-n78-m2-Q10138.txt\"\n",
    "filepath = \"Instancias/Vrp-Set-A/A-n80-m2-Q60.vrp\""
   ]
  },
  {
   "cell_type": "code",
   "execution_count": 3,
   "id": "1e00a48e",
   "metadata": {},
   "outputs": [],
   "source": [
    "N, D, V, Q, q, c, coord_x, coord_y = MDOVRP(filepath)"
   ]
  },
  {
   "cell_type": "code",
   "execution_count": 4,
   "id": "3def7d32",
   "metadata": {},
   "outputs": [],
   "source": [
    "# fazendo c ser simétrica\n",
    "# c = {(i,j) : (c[i,j] + c[j, i])/2  for (i,j) in c}"
   ]
  },
  {
   "cell_type": "markdown",
   "id": "4838d9cf",
   "metadata": {},
   "source": [
    "Usando a formulação $MDOVRP_{2i− flv}$ de Lalla-Ruiz e Mes (2019)\n",
    "\n",
    "\n",
    "    Lalla-Ruiz, Eduardo, and Martijn Mes. \"Mathematical formulations and improvements for the multi-depot open vehicle routing problem.\" Optimization Letters 15 (2021): 271-286."
   ]
  },
  {
   "cell_type": "code",
   "execution_count": 5,
   "id": "c9529a24",
   "metadata": {},
   "outputs": [
    {
     "name": "stdout",
     "output_type": "stream",
     "text": [
      "Set parameter WLSAccessID\n",
      "Set parameter WLSSecret\n",
      "Set parameter LicenseID\n",
      "Academic license - for non-commercial use only - registered to thiago.giachetto@aluno.ufop.edu.br\n"
     ]
    }
   ],
   "source": [
    "#cria o modelo\n",
    "model = Model('PRVMD', solver_name = GUROBI)\n",
    "\n",
    "# Variaveis de decisao\n",
    "x = [[model.add_var(var_type=BINARY) if i!=j else model.add_var(lb=0, ub=0) for i in V] for j in V]\n",
    "u = [[model.add_var(var_type=CONTINUOUS) if i!=j else model.add_var(lb=0, ub=0) for i in V] for j in V]\n",
    "y = [model.add_var(var_type=BINARY) for i in N]"
   ]
  },
  {
   "cell_type": "markdown",
   "id": "1f372e41",
   "metadata": {},
   "source": [
    "\\begin{equation}\n",
    "\\label{eq:9}\n",
    "    x_{ij} \\in \\{0, 1\\}, \\quad \\forall i, j \\in V\n",
    "\\end{equation}\n",
    "\n",
    "\\begin{equation}\n",
    "\\label{eq:10}\n",
    "    u_{ij} \\geq 0, \\quad \\forall i, j \\in V\n",
    "\\end{equation}"
   ]
  },
  {
   "cell_type": "code",
   "execution_count": 6,
   "id": "826aceeb",
   "metadata": {},
   "outputs": [],
   "source": [
    "# Funcao objetivo\n",
    "M = 10\n",
    "\n",
    "# model.objective = minimize(xsum(x[i][j] * c[i,j] for i in V for j in V if i != j))\n",
    "model.objective = minimize(xsum(x[i][j] * c[i,j] for i in V for j in V if i != j) - \n",
    "                           M*xsum(x[i][j] * q[j] for i in V for j in N if i != j))"
   ]
  },
  {
   "cell_type": "markdown",
   "id": "9f0a71b8",
   "metadata": {},
   "source": [
    "\\begin{equation}\n",
    "\\label{eq:1}\n",
    " Minimizar \\quad \\sum_{i \\in V }\\sum_{j \\in V} c_{ij}x_{ij}\n",
    "\\end{equation}"
   ]
  },
  {
   "cell_type": "code",
   "execution_count": 7,
   "id": "92b252b3",
   "metadata": {},
   "outputs": [],
   "source": [
    "# Restricao 2\n",
    "for j in N:\n",
    "#     model += xsum(x[i][j] for i in V if i != j and c[i][j] <= 180) == 1\n",
    "#     model += xsum(x[i][j] for i in V if i != j) == 1\n",
    "    model += xsum(x[i][j] for i in V if i != j) <= 1"
   ]
  },
  {
   "cell_type": "markdown",
   "id": "28582e4c",
   "metadata": {},
   "source": [
    "\\begin{equation}\n",
    "    \\sum_{i \\in V, i \\neq j}x_{ij} = 1, \\quad \\forall j \\in N\n",
    "    \\tag{2}\n",
    "\\end{equation}"
   ]
  },
  {
   "cell_type": "code",
   "execution_count": 8,
   "id": "757f89bf",
   "metadata": {},
   "outputs": [],
   "source": [
    "# Restricao 18\n",
    "\n",
    "for j in N:\n",
    "    model += (xsum(x[i][j] for i in V if i != j) - xsum(x[j][i] for i in N if i != j)) >= 0"
   ]
  },
  {
   "cell_type": "markdown",
   "id": "974c8d82",
   "metadata": {},
   "source": [
    "\\begin{equation}\n",
    "    \\sum_{i \\in V, i \\neq j}x_{ij} - \\sum_{i \\in N, i \\neq j}x_{ji} \\geq 0, \\quad \\forall j \\in N\n",
    "    \\tag {18}\n",
    "\\end{equation}"
   ]
  },
  {
   "cell_type": "code",
   "execution_count": 9,
   "id": "ffc541d1",
   "metadata": {},
   "outputs": [],
   "source": [
    "# Restricao 19\n",
    "for i in V:\n",
    "    for j in V:\n",
    "        if i != j:\n",
    "            model += x[i][j] + x[j][i] <= 1"
   ]
  },
  {
   "cell_type": "markdown",
   "id": "1de49cac",
   "metadata": {},
   "source": [
    "\\begin{equation}\n",
    "    x_{ij} + x_{ji} \\leq 1, \\quad \\forall i, j \\in V, i \\neq j\n",
    "    \\tag {19}\n",
    "\\end{equation}"
   ]
  },
  {
   "cell_type": "code",
   "execution_count": 10,
   "id": "f3d76e13",
   "metadata": {},
   "outputs": [],
   "source": [
    "# Restricao 20\n",
    "# Ninguem volta para o depósito\n",
    "model += xsum(x[j][k] for k in D for j in V) == 0"
   ]
  },
  {
   "cell_type": "markdown",
   "id": "e6cb5d2e",
   "metadata": {},
   "source": [
    "\\begin{equation}\n",
    "    \\sum_{k \\in D}\\sum_{j \\in V}x_{jk} = 0\n",
    "    \\tag {20}\n",
    "\\end{equation}"
   ]
  },
  {
   "cell_type": "code",
   "execution_count": 11,
   "id": "e51b3904",
   "metadata": {},
   "outputs": [],
   "source": [
    "# Restricao 21\n",
    "for j in N:\n",
    "#     model += xsum(u[i][j] for i in V if i != j) - xsum(u[j][i] for i in V if i != j) >= q[j]\n",
    "    model += xsum(u[i][j] for i in V if i != j) - xsum(u[j][i] for i in V if i != j) >= xsum(x[i][j]*q[j] for i in V if i != j)"
   ]
  },
  {
   "cell_type": "markdown",
   "id": "81c2e8d9",
   "metadata": {},
   "source": [
    "\\begin{equation}\n",
    "    \\sum_{i \\in V, i \\neq j}u_{ij} - \\sum_{i \\in V, i \\neq j}u_{ji} \\geq q_j, \\quad \\forall j \\in N\n",
    "    \\tag {21}\n",
    "\\end{equation}"
   ]
  },
  {
   "cell_type": "code",
   "execution_count": 12,
   "id": "c57c3ae9",
   "metadata": {},
   "outputs": [],
   "source": [
    "#Restricao 22\n",
    "for i in N:\n",
    "    for j in N:\n",
    "        model += (Q - q[i])*x[i][j] >= u[i][j]"
   ]
  },
  {
   "cell_type": "markdown",
   "id": "f1875dfb",
   "metadata": {},
   "source": [
    "\\begin{equation}\n",
    "    (Q - q_i) \\cdot x_{ij} \\geq u_{ij}, \\quad \\forall i, j \\in N\n",
    "    \\tag {22}\n",
    "\\end{equation}"
   ]
  },
  {
   "cell_type": "code",
   "execution_count": 13,
   "id": "ac8a59fd",
   "metadata": {},
   "outputs": [],
   "source": [
    "# Restricao 23\n",
    "for k in D:\n",
    "    for j in N:\n",
    "        model += Q * x[k][j] >= u[k][j]"
   ]
  },
  {
   "cell_type": "markdown",
   "id": "1dcc2cbb",
   "metadata": {},
   "source": [
    "\\begin{equation}\n",
    "    Q \\cdot x_{kj} \\geq u_{kj}, \\quad \\forall k \\in D, j \\in N\n",
    "    \\tag {23}\n",
    "\\end{equation}"
   ]
  },
  {
   "cell_type": "code",
   "execution_count": 14,
   "id": "6f054f18",
   "metadata": {},
   "outputs": [],
   "source": [
    "# # Restricao 8\n",
    "# d = [min([c[j, i] for j in D]) for i in N]\n",
    "# r = [min([c[j, i] for j in N if i != j]) for i in N]\n",
    "# M = max(r)\n",
    "\n",
    "# for i in N:\n",
    "#     model += d[i] + M * y[i] >= r[i]"
   ]
  },
  {
   "cell_type": "markdown",
   "id": "07f22fe7",
   "metadata": {},
   "source": [
    "\\begin{equation}\n",
    "    d_{i} + M y_{i} \\geq r_{i}, \\quad \\forall k \\in N\n",
    "    \\tag {8}\n",
    "\\end{equation}"
   ]
  },
  {
   "cell_type": "code",
   "execution_count": 15,
   "id": "0249f78b",
   "metadata": {},
   "outputs": [],
   "source": [
    "# # Restricao 9\n",
    "\n",
    "# for i in N:\n",
    "#     k_l = D[np.argmin([c[j, i] for j in D], axis=0)]\n",
    "#     model += x[k_l][i] >= y[i]"
   ]
  },
  {
   "cell_type": "markdown",
   "id": "6aa5dcad",
   "metadata": {},
   "source": [
    "\\begin{equation}\n",
    "    x_{k'i} \\geq y_{i}, \\quad \\forall i \\in N, k' = argmin(c_{ki})_{k \\in D}\n",
    "    \\tag {9}\n",
    "\\end{equation}"
   ]
  },
  {
   "cell_type": "code",
   "execution_count": 16,
   "id": "632728f3",
   "metadata": {},
   "outputs": [],
   "source": [
    "# # Restricao 10\n",
    "\n",
    "# model += xsum(x[k][i] for i in N for k in D) >= np.ceil(sum(q)/Q)"
   ]
  },
  {
   "cell_type": "markdown",
   "id": "ea0ecd8a",
   "metadata": {},
   "source": [
    "\\begin{equation}\n",
    "    \\sum_{i \\in N}\\sum_{k \\in D}x_{ki} \\geq \\lceil \\frac{\\sum_{i \\in N} q_{i}}{Q} \\rceil\n",
    "    \\tag {10}\n",
    "\\end{equation}"
   ]
  },
  {
   "cell_type": "code",
   "execution_count": 17,
   "id": "fff01815",
   "metadata": {},
   "outputs": [],
   "source": [
    "# # Restricao de distancia maxima entre duas cidades\n",
    "\n",
    "# for i in V:\n",
    "#     for j in V:\n",
    "#         if i != j:\n",
    "#             model += c[i,j]*x[i][j] <= 180"
   ]
  },
  {
   "cell_type": "code",
   "execution_count": 18,
   "id": "c4103a63",
   "metadata": {},
   "outputs": [],
   "source": [
    "# limite de carros total\n",
    "NUM_VEICULOS = 8\n",
    "\n",
    "model += xsum(x[k][i] for k in D for i in V) <= NUM_VEICULOS"
   ]
  },
  {
   "cell_type": "code",
   "execution_count": 19,
   "id": "84b30fa7",
   "metadata": {},
   "outputs": [
    {
     "name": "stdout",
     "output_type": "stream",
     "text": [
      "Set parameter TimeLimit to value 30\n",
      "Set parameter NodeLimit to value 1073741824\n",
      "Set parameter SolutionLimit to value 1073741824\n",
      "Set parameter IntFeasTol to value 1e-06\n",
      "Set parameter Method to value 3\n",
      "Gurobi Optimizer version 9.5.0 build v9.5.0rc5 (linux64)\n",
      "Thread count: 2 physical cores, 4 logical processors, using up to 4 threads\n",
      "Academic license - for non-commercial use only - registered to thiago.giachetto@aluno.ufop.edu.br\n",
      "Optimize a model with 13444 rows, 13528 columns and 65452 nonzeros\n",
      "Model fingerprint: 0xa56a9c07\n",
      "Variable types: 6806 continuous, 6722 integer (6722 binary)\n",
      "Coefficient statistics:\n",
      "  Matrix range     [1e+00, 6e+01]\n",
      "  Objective range  [4e-01, 2e+02]\n",
      "  Bounds range     [1e+00, 1e+00]\n",
      "  RHS range        [1e+00, 8e+00]\n",
      "Found heuristic solution: objective 0.0000000\n",
      "Presolve removed 3723 rows and 728 columns\n",
      "Presolve time: 0.34s\n",
      "Presolved: 9721 rows, 12800 columns, 50960 nonzeros\n",
      "Variable types: 6320 continuous, 6480 integer (6480 binary)\n",
      "Found heuristic solution: objective -863.4314575\n",
      "\n",
      "Concurrent LP optimizer: dual simplex and barrier\n",
      "Showing barrier log only...\n",
      "\n",
      "Root barrier log...\n",
      "\n",
      "Ordering time: 0.01s\n",
      "\n",
      "Barrier statistics:\n",
      " AA' NZ     : 1.458e+04\n",
      " Factor NZ  : 2.237e+04 (roughly 3 MB of memory)\n",
      " Factor Ops : 3.064e+05 (less than 1 second per iteration)\n",
      " Threads    : 1\n",
      "\n",
      "                  Objective                Residual\n",
      "Iter       Primal          Dual         Primal    Dual     Compl     Time\n",
      "   0   7.19299397e+05 -1.04127440e+07  4.66e+02 5.65e+01  1.34e+04     0s\n",
      "   1   2.96707155e+05 -8.49617638e+06  1.88e+02 1.82e-12  4.96e+03     0s\n",
      "   2   5.42971703e+04 -1.86573972e+06  3.40e+01 1.09e-11  8.51e+02     0s\n",
      "   3   1.97409207e+03 -2.01734571e+05  1.40e-14 1.09e-11  2.22e+01     0s\n",
      "   4   1.80205486e+03 -1.15421549e+04  2.00e-15 2.73e-12  1.46e+00     0s\n",
      "   5   7.62596601e+02 -9.83742757e+03  1.89e-15 2.30e-12  1.16e+00     0s\n",
      "   6  -9.80384404e+02 -4.99844550e+03  1.55e-15 7.67e-13  4.38e-01     0s\n",
      "   7  -2.25733367e+03 -4.11338851e+03  4.11e-15 4.26e-13  2.02e-01     0s\n",
      "   8  -2.54653785e+03 -3.78858568e+03  3.00e-15 2.27e-13  1.35e-01     1s\n",
      "   9  -2.87444423e+03 -3.55755123e+03  2.11e-15 1.85e-13  7.45e-02     1s\n",
      "  10  -3.09899426e+03 -3.46585316e+03  4.11e-15 1.14e-13  4.00e-02     1s\n",
      "  11  -3.16614719e+03 -3.42711677e+03  3.55e-15 1.14e-13  2.85e-02     1s\n",
      "  12  -3.32315456e+03 -3.41138623e+03  3.00e-14 1.14e-13  9.62e-03     1s\n",
      "  13  -3.39590308e+03 -3.40513769e+03  1.32e-14 2.84e-13  1.01e-03     1s\n",
      "  14  -3.40382404e+03 -3.40404046e+03  2.11e-14 2.27e-13  2.36e-05     1s\n",
      "  15  -3.40402001e+03 -3.40402022e+03  1.99e-14 1.71e-13  2.36e-08     1s\n",
      "  16  -3.40402020e+03 -3.40402020e+03  2.16e-14 1.14e-13  3.30e-14     1s\n",
      "\n",
      "Barrier solved model in 16 iterations and 0.53 seconds (0.25 work units)\n",
      "Optimal objective -3.40402020e+03\n",
      "\n",
      "\n",
      "Use crossover to convert LP symmetric solution to basic solution...\n",
      "\n",
      "Solved with dual simplex\n",
      "\n",
      "Root relaxation: objective -3.404020e+03, 1774 iterations, 0.17 seconds (0.06 work units)\n",
      "\n",
      "    Nodes    |    Current Node    |     Objective Bounds      |     Work\n",
      " Expl Unexpl |  Obj  Depth IntInf | Incumbent    BestBd   Gap | It/Node Time\n",
      "\n",
      "     0     0 -3404.0202    0   73 -863.43146 -3404.0202   294%     -    1s\n",
      "H    0     0                    -2714.730881 -3404.0202  25.4%     -    1s\n",
      "H    0     0                    -3047.517387 -3404.0202  11.7%     -    4s\n",
      "     0     0 -3379.1674    0  122 -3047.5174 -3379.1674  10.9%     -    6s\n",
      "H    0     0                    -3284.337561 -3379.1674  2.89%     -    7s\n",
      "     0     0 -3379.1674    0  122 -3284.3376 -3379.1674  2.89%     -    7s\n",
      "     0     0 -3376.3292    0  115 -3284.3376 -3376.3292  2.80%     -    8s\n",
      "     0     0 -3367.4933    0   56 -3284.3376 -3367.4933  2.53%     -   10s\n",
      "     0     0 -3365.5031    0  104 -3284.3376 -3365.5031  2.47%     -   10s\n",
      "H    0     0                    -3288.413970 -3365.5031  2.34%     -   11s\n",
      "     0     0 -3365.2434    0  108 -3288.4140 -3365.2434  2.34%     -   11s\n",
      "     0     0 -3365.2434    0   88 -3288.4140 -3365.2434  2.34%     -   12s\n",
      "     0     0 -3363.1824    0  140 -3288.4140 -3363.1824  2.27%     -   12s\n",
      "     0     0 -3363.0122    0  117 -3288.4140 -3363.0122  2.27%     -   12s\n",
      "     0     0 -3363.0079    0  117 -3288.4140 -3363.0079  2.27%     -   12s\n",
      "     0     0 -3363.0078    0  117 -3288.4140 -3363.0078  2.27%     -   12s\n",
      "     0     0 -3362.1378    0  128 -3288.4140 -3362.1378  2.24%     -   13s\n",
      "     0     0 -3361.5747    0  121 -3288.4140 -3361.5747  2.22%     -   13s\n",
      "     0     0 -3361.5279    0  152 -3288.4140 -3361.5279  2.22%     -   13s\n",
      "     0     0 -3361.4833    0  153 -3288.4140 -3361.4833  2.22%     -   13s\n",
      "     0     0 -3361.4833    0  153 -3288.4140 -3361.4833  2.22%     -   13s\n",
      "     0     0 -3360.5351    0  150 -3288.4140 -3360.5351  2.19%     -   14s\n",
      "     0     0 -3360.5176    0  150 -3288.4140 -3360.5176  2.19%     -   14s\n",
      "     0     0 -3360.5176    0  150 -3288.4140 -3360.5176  2.19%     -   14s\n",
      "     0     0 -3360.3409    0  153 -3288.4140 -3360.3409  2.19%     -   14s\n",
      "     0     0 -3360.3409    0  153 -3288.4140 -3360.3409  2.19%     -   14s\n",
      "     0     0 -3360.2356    0  153 -3288.4140 -3360.2356  2.18%     -   15s\n",
      "H    0     0                    -3291.752475 -3360.2356  2.08%     -   15s\n",
      "     0     0 -3360.2352    0  153 -3291.7525 -3360.2352  2.08%     -   15s\n",
      "     0     0 -3360.2260    0  160 -3291.7525 -3360.2260  2.08%     -   15s\n",
      "     0     0 -3360.2231    0  163 -3291.7525 -3360.2231  2.08%     -   15s\n",
      "     0     0 -3360.2204    0  162 -3291.7525 -3360.2204  2.08%     -   15s\n",
      "     0     0 -3360.2204    0  161 -3291.7525 -3360.2204  2.08%     -   17s\n",
      "     0     0 -3360.2204    0   43 -3291.7525 -3360.2204  2.08%     -   19s\n",
      "     0     0 -3360.2204    0  120 -3291.7525 -3360.2204  2.08%     -   21s\n",
      "H    0     0                    -3309.971019 -3360.2204  1.52%     -   22s\n",
      "     0     0 -3360.2204    0  145 -3309.9710 -3360.2204  1.52%     -   22s\n",
      "     0     0 -3360.1379    0  158 -3309.9710 -3360.1379  1.52%     -   22s\n",
      "     0     0 -3360.1367    0  158 -3309.9710 -3360.1367  1.52%     -   22s\n",
      "     0     0 -3359.8213    0  146 -3309.9710 -3359.8213  1.51%     -   23s\n",
      "     0     0 -3359.8213    0   64 -3309.9710 -3359.8213  1.51%     -   23s\n",
      "     0     0 -3359.8213    0  125 -3309.9710 -3359.8213  1.51%     -   24s\n",
      "     0     0 -3359.7816    0  151 -3309.9710 -3359.7816  1.50%     -   25s\n",
      "     0     0 -3359.7033    0  150 -3309.9710 -3359.7033  1.50%     -   25s\n",
      "     0     0 -3359.6948    0  150 -3309.9710 -3359.6948  1.50%     -   25s\n",
      "     0     0 -3359.6948    0  151 -3309.9710 -3359.6948  1.50%     -   25s\n",
      "     0     0 -3359.4602    0  159 -3309.9710 -3359.4602  1.50%     -   25s\n",
      "     0     0 -3359.4384    0  163 -3309.9710 -3359.4384  1.49%     -   25s\n",
      "     0     0 -3359.4335    0  164 -3309.9710 -3359.4335  1.49%     -   25s\n",
      "     0     0 -3359.4335    0  164 -3309.9710 -3359.4335  1.49%     -   25s\n",
      "     0     0 -3359.0624    0  142 -3309.9710 -3359.0624  1.48%     -   25s\n",
      "     0     0 -3359.0288    0  143 -3309.9710 -3359.0288  1.48%     -   26s\n",
      "     0     0 -3359.0253    0  146 -3309.9710 -3359.0253  1.48%     -   26s\n",
      "     0     0 -3358.9990    0  153 -3309.9710 -3358.9990  1.48%     -   26s\n",
      "     0     0 -3358.9985    0  153 -3309.9710 -3358.9985  1.48%     -   26s\n",
      "     0     0 -3358.0933    0  173 -3309.9710 -3358.0933  1.45%     -   26s\n",
      "     0     0 -3357.9900    0  163 -3309.9710 -3357.9900  1.45%     -   26s\n",
      "     0     0 -3357.9661    0  172 -3309.9710 -3357.9661  1.45%     -   26s\n",
      "     0     0 -3357.9648    0  173 -3309.9710 -3357.9648  1.45%     -   26s\n",
      "     0     0 -3357.9405    0  164 -3309.9710 -3357.9405  1.45%     -   26s\n",
      "     0     0 -3357.9270    0  168 -3309.9710 -3357.9270  1.45%     -   26s\n",
      "     0     0 -3357.9253    0  165 -3309.9710 -3357.9253  1.45%     -   26s\n",
      "     0     0 -3357.9003    0  155 -3309.9710 -3357.9003  1.45%     -   26s\n",
      "     0     0 -3357.8806    0  154 -3309.9710 -3357.8806  1.45%     -   26s\n",
      "     0     0 -3357.8772    0  154 -3309.9710 -3357.8772  1.45%     -   26s\n",
      "     0     0 -3357.8732    0  162 -3309.9710 -3357.8732  1.45%     -   27s\n",
      "     0     0 -3357.8732    0  149 -3309.9710 -3357.8732  1.45%     -   27s\n",
      "     0     2 -3357.8732    0  149 -3309.9710 -3357.8732  1.45%     -   28s\n"
     ]
    },
    {
     "name": "stdout",
     "output_type": "stream",
     "text": [
      "    29    32 -3355.0683   12  137 -3309.9710 -3356.8623  1.42%   289   30s\n",
      "\n",
      "Cutting planes:\n",
      "  Lift-and-project: 18\n",
      "  Implied bound: 33\n",
      "  MIR: 40\n",
      "  Flow cover: 44\n",
      "  GUB cover: 3\n",
      "  Zero half: 3\n",
      "  RLT: 6\n",
      "  Relax-and-lift: 4\n",
      "\n",
      "Explored 31 nodes (67215 simplex iterations) in 30.00 seconds (13.90 work units)\n",
      "Thread count was 4 (of 4 available processors)\n",
      "\n",
      "Solution count 9: -3309.97 -3291.75 -3288.41 ... 0\n",
      "\n",
      "Time limit reached\n",
      "Best objective -3.309971019063e+03, best bound -3.356862337182e+03, gap 1.4167%\n",
      "status: OptimizationStatus.FEASIBLE objective value : -3309.9710190626565 best possible: -3356.862337181724\n"
     ]
    }
   ],
   "source": [
    "# Resolve o modelo        \n",
    "# model.optimize(max_seconds=7200)\n",
    "model.optimize(max_seconds=30)\n",
    "print(\"status: {} objective value : {} best possible: {}\".format(model.status, model.objective_value, model.objective_bound))\n",
    "\n",
    "\n",
    "#                   Objective                Residual\n",
    "# Iter       Primal          Dual         Primal    Dual     Compl     Time\n",
    "# usando c simétrica\n",
    "# 421367 260494 2594.76360   95  102 2608.15000 2560.04596  1.84%   117 7200s\n",
    "# usando c original\n",
    "# 351473 211907 2581.12423   69  161 2608.75395 2552.97499  2.14%   138 7200s"
   ]
  },
  {
   "cell_type": "code",
   "execution_count": 20,
   "id": "a7547485",
   "metadata": {},
   "outputs": [
    {
     "data": {
      "image/png": "[encoded data removed]",
      "text/plain": [
       "<Figure size 720x432 with 1 Axes>"
      ]
     },
     "metadata": {
      "needs_background": "light"
     },
     "output_type": "display_data"
    }
   ],
   "source": [
    "# --- PLOTA O GRAFICO ---\n",
    "plt.figure(figsize=(10, 6))\n",
    "plt.scatter(coord_x[0:], coord_y[0:])\n",
    "for i in N:\n",
    "    plt.annotate(f\"{i}\", (coord_x[i], coord_y[i]))\n",
    "for i in D:\n",
    "    plt.plot(coord_x[i], coord_y[i], c = 'r', marker = 's')\n",
    "\n",
    "for i in V:\n",
    "    for j in V:\n",
    "        if x[i][j].x > 0:\n",
    "            plt.plot([coord_x[i], coord_x[j]], [coord_y[i], coord_y[j]], c='g', zorder=0)\n",
    "    \n",
    "#escala dos eixos\n",
    "plt.yticks([i for i in range(1,80,20)]); \n",
    "plt.xticks([i for i in range(1,80,20)]); "
   ]
  },
  {
   "cell_type": "code",
   "execution_count": 21,
   "id": "1412c009",
   "metadata": {},
   "outputs": [
    {
     "name": "stdout",
     "output_type": "stream",
     "text": [
      "80 - [1, 5, 6, 7]\n",
      "81 - [40, 41, 43, 46]\n"
     ]
    }
   ],
   "source": [
    "# para onde cada veículo vai\n",
    "for k in D:\n",
    "    print(f\"{k} - \", end='')\n",
    "    print([i for i, el in enumerate(u[k]) if el.x > 0])"
   ]
  },
  {
   "cell_type": "code",
   "execution_count": 22,
   "id": "2a0178f2",
   "metadata": {},
   "outputs": [],
   "source": [
    "# # u matrix\n",
    "# for i in N:\n",
    "#     print(f\"{i} - \", end='')\n",
    "#     print([(j, int(el.x)) for j, el in enumerate(u[i]) if el.x > 0])"
   ]
  },
  {
   "cell_type": "code",
   "execution_count": 23,
   "id": "67851508",
   "metadata": {},
   "outputs": [
    {
     "name": "stdout",
     "output_type": "stream",
     "text": [
      "Depot: 80\n",
      "[1, 2, 10, 9, 17, 25, 18, 26]\n",
      "[5, 3, 0, 8, 16, 24]\n",
      "[6, 14, 22, 30, 38, 73, 65, 57, 49, 50, 58, 66]\n",
      "[7, 4, 12, 20, 28, 15, 23, 31]\n",
      "Depot: 81\n",
      "[40, 48, 56, 64, 72, 37, 29, 21, 13, 11, 19, 27]\n",
      "[41, 42, 44, 52, 60, 68, 76]\n",
      "[43, 45, 51, 59, 67, 53, 61, 69]\n",
      "[46, 47, 54, 62, 70, 55, 63, 71]\n"
     ]
    }
   ],
   "source": [
    "# caminho dos carros olhando arcos\n",
    "for k in D:\n",
    "    print(f\"Depot: {k}\")\n",
    "    for i, el in enumerate(x[k]):\n",
    "        if el.x > 0:\n",
    "            visitados = [i]\n",
    "            next_list = [j for j, el in enumerate(x[i]) if el.x > 0]\n",
    "            while len(next_list) > 0:\n",
    "                if len(next_list) > 1:\n",
    "                    print(f\"ERROR: {next_list}\")\n",
    "                next_el = next_list[0]\n",
    "                visitados.append(next_el)\n",
    "                next_list = [j for j, el in enumerate(x[next_el]) if el.x > 0]\n",
    "            print(visitados)"
   ]
  },
  {
   "cell_type": "code",
   "execution_count": 24,
   "id": "3089e4bd",
   "metadata": {},
   "outputs": [
    {
     "name": "stdout",
     "output_type": "stream",
     "text": [
      "Depot: 80\n",
      "[(1, 60, 12), (2, 48, 12), (10, 36, 8), (9, 28, 8), (17, 20, 4), (25, 7, 2), (18, 5, 4), (26, 1, 2)]\n",
      "[(5, 60, 12), (3, 37, 12), (0, 25, 12), (8, 13, 8), (16, 5, 4), (24, 1, 2)]\n",
      "[(6, 60, 12), (14, 48, 8), (22, 40, 4), (30, 36, 2), (38, 34, 1), (73, 33, 1), (65, 32, 2), (57, 30, 4), (49, 26, 8), (50, 18, 8), (58, 5, 4), (66, 1, 2)]\n",
      "[(7, 60, 12), (4, 48, 12), (12, 36, 8), (20, 28, 4), (28, 24, 2), (15, 22, 8), (23, 5, 4), (31, 2, 2)]\n",
      "Depot: 81\n",
      "[(40, 60, 12), (48, 48, 8), (56, 40, 4), (64, 36, 2), (72, 34, 1), (37, 33, 1), (29, 32, 2), (21, 30, 4), (13, 26, 8), (11, 18, 8), (19, 5, 4), (27, 1, 2)]\n",
      "[(41, 60, 12), (42, 48, 12), (44, 36, 12), (52, 24, 8), (60, 16, 4), (68, 12, 2), (76, 10, 1)]\n",
      "[(43, 60, 12), (45, 48, 12), (51, 36, 8), (59, 19, 4), (67, 15, 2), (53, 13, 8), (61, 5, 4), (69, 1, 2)]\n",
      "[(46, 60, 12), (47, 48, 12), (54, 36, 8), (62, 28, 4), (70, 24, 2), (55, 22, 8), (63, 5, 4), (71, 1, 2)]\n"
     ]
    }
   ],
   "source": [
    "# caminho dos carros olhando demanda\n",
    "for k in D:\n",
    "    print(f\"Depot: {k}\")\n",
    "    for i, el in enumerate(u[k]):\n",
    "        if el.x > 0:\n",
    "            visitados = [(i, int(el.x))]\n",
    "            next_list = [(j, int(el.x)) for j, el in enumerate(u[i]) if el.x > 0]\n",
    "            while len(next_list) > 0:\n",
    "                if len(next_list) > 1:\n",
    "                    print(f\"ERROR: {next_list}\")\n",
    "                next_el, value = next_list[0]\n",
    "                visitados.append((next_el, value))\n",
    "                next_list = [(j, int(el.x)) for j, el in enumerate(u[next_el]) if el.x > 0]\n",
    "            print([(*el, q[el[0]]) for el in visitados])"
   ]
  },
  {
   "cell_type": "code",
   "execution_count": 25,
   "id": "b753ed59",
   "metadata": {},
   "outputs": [
    {
     "data": {
      "text/plain": [
       "900.0289809373432"
      ]
     },
     "execution_count": 25,
     "metadata": {},
     "output_type": "execute_result"
    }
   ],
   "source": [
    "# dist percorrida\n",
    "sum([(1 if x[i][j].x>0.5 else 0) * c[i,j] for i in V for j in V if i != j])"
   ]
  },
  {
   "cell_type": "code",
   "execution_count": 26,
   "id": "174b6f09",
   "metadata": {},
   "outputs": [
    {
     "name": "stdout",
     "output_type": "stream",
     "text": [
      "2-> enter: 11  need: 12  const: 12\n",
      "3-> enter: 11  need: 12  const: 12\n",
      "4-> enter: 11  need: 12  const: 12\n",
      "8-> enter: 7  need: 8  const: 8\n",
      "9-> enter: 7  need: 8  const: 8\n",
      "10-> enter: 7  need: 8  const: 8\n",
      "12-> enter: 7  need: 8  const: 8\n",
      "13-> enter: 7  need: 8  const: 8\n",
      "14-> enter: 7  need: 8  const: 8\n",
      "18-> enter: 3  need: 4  const: 4\n",
      "20-> enter: 3  need: 4  const: 4\n",
      "21-> enter: 3  need: 4  const: 4\n",
      "22-> enter: 3  need: 4  const: 4\n",
      "23-> enter: 3  need: 4  const: 4\n",
      "24-> enter: 1  need: 2  const: 2\n",
      "26-> enter: 1  need: 2  const: 2\n",
      "27-> enter: 1  need: 2  const: 2\n",
      "28-> enter: 1  need: 2  const: 2\n",
      "29-> enter: 1  need: 2  const: 2\n",
      "30-> enter: 1  need: 2  const: 2\n",
      "32-> enter: 0  need: 1  const: 0\n",
      "33-> enter: 0  need: 1  const: 0\n",
      "34-> enter: 0  need: 1  const: 0\n",
      "35-> enter: 0  need: 1  const: 0\n",
      "36-> enter: 0  need: 1  const: 0\n",
      "37-> enter: 0  need: 1  const: 1\n",
      "38-> enter: 0  need: 1  const: 1\n",
      "39-> enter: 0  need: 1  const: 0\n",
      "42-> enter: 11  need: 12  const: 12\n",
      "44-> enter: 11  need: 12  const: 12\n",
      "45-> enter: 11  need: 12  const: 12\n",
      "47-> enter: 11  need: 12  const: 12\n",
      "48-> enter: 7  need: 8  const: 8\n",
      "52-> enter: 7  need: 8  const: 8\n",
      "54-> enter: 7  need: 8  const: 8\n",
      "56-> enter: 3  need: 4  const: 4\n",
      "57-> enter: 3  need: 4  const: 4\n",
      "58-> enter: 3  need: 4  const: 4\n",
      "60-> enter: 3  need: 4  const: 4\n",
      "61-> enter: 3  need: 4  const: 4\n",
      "62-> enter: 3  need: 4  const: 4\n",
      "63-> enter: 3  need: 4  const: 4\n",
      "64-> enter: 1  need: 2  const: 2\n",
      "65-> enter: 1  need: 2  const: 2\n",
      "66-> enter: 1  need: 2  const: 2\n",
      "68-> enter: 1  need: 2  const: 2\n",
      "69-> enter: 1  need: 2  const: 2\n",
      "70-> enter: 1  need: 2  const: 2\n",
      "71-> enter: 1  need: 2  const: 2\n",
      "72-> enter: 0  need: 1  const: 1\n",
      "73-> enter: 0  need: 1  const: 1\n",
      "74-> enter: 0  need: 1  const: 0\n",
      "75-> enter: 0  need: 1  const: 0\n",
      "77-> enter: 0  need: 1  const: 0\n",
      "78-> enter: 0  need: 1  const: 0\n",
      "79-> enter: 0  need: 1  const: 0\n"
     ]
    }
   ],
   "source": [
    "for j in N:\n",
    "    enter = int(sum([u[i][j].x for i in V if i != j]) - sum([u[j][i].x for i in N if i != j]))\n",
    "    sum([x[i][j].x*q[j] for i in V if i != j])\n",
    "    if enter < q[j]:\n",
    "        print(f\"{j}-> enter: {enter}  need: {q[j]}  const: {int(sum([x[i][j].x*q[j] for i in V if i != j]))}\")"
   ]
  },
  {
   "cell_type": "code",
   "execution_count": 27,
   "id": "7f15506d",
   "metadata": {},
   "outputs": [
    {
     "name": "stdout",
     "output_type": "stream",
     "text": [
      "56\n"
     ]
    },
    {
     "data": {
      "text/plain": [
       "[2,\n",
       " 3,\n",
       " 4,\n",
       " 8,\n",
       " 9,\n",
       " 10,\n",
       " 12,\n",
       " 13,\n",
       " 14,\n",
       " 18,\n",
       " 20,\n",
       " 21,\n",
       " 22,\n",
       " 23,\n",
       " 24,\n",
       " 26,\n",
       " 27,\n",
       " 28,\n",
       " 29,\n",
       " 30,\n",
       " 32,\n",
       " 33,\n",
       " 34,\n",
       " 35,\n",
       " 36,\n",
       " 37,\n",
       " 38,\n",
       " 39,\n",
       " 42,\n",
       " 44,\n",
       " 45,\n",
       " 47,\n",
       " 48,\n",
       " 52,\n",
       " 54,\n",
       " 56,\n",
       " 57,\n",
       " 58,\n",
       " 60,\n",
       " 61,\n",
       " 62,\n",
       " 63,\n",
       " 64,\n",
       " 65,\n",
       " 66,\n",
       " 68,\n",
       " 69,\n",
       " 70,\n",
       " 71,\n",
       " 72,\n",
       " 73,\n",
       " 74,\n",
       " 75,\n",
       " 77,\n",
       " 78,\n",
       " 79]"
      ]
     },
     "execution_count": 27,
     "metadata": {},
     "output_type": "execute_result"
    }
   ],
   "source": [
    "# nao atendidos\n",
    "# [j for j in N if ((sum([u[i][j].x for i in V if i != j]) - sum([u[j][i].x for i in N if i != j])) < q[j])]\n",
    "not_served = [j for j in N if (int(sum([u[i][j].x for i in V if i != j]) - sum([u[j][i].x for i in N if i != j])) < q[j])]\n",
    "print(len(not_served))\n",
    "not_served\n",
    "# [q[j] for j in N]"
   ]
  },
  {
   "cell_type": "code",
   "execution_count": 28,
   "id": "f3339ec0",
   "metadata": {},
   "outputs": [
    {
     "data": {
      "text/plain": [
       "8.0"
      ]
     },
     "execution_count": 28,
     "metadata": {},
     "output_type": "execute_result"
    }
   ],
   "source": [
    "# nro de veiculos\n",
    "sum(x[k][i].x for k in D for i in N)"
   ]
  },
  {
   "cell_type": "code",
   "execution_count": 29,
   "id": "ca707e0d",
   "metadata": {},
   "outputs": [
    {
     "name": "stdout",
     "output_type": "stream",
     "text": [
      "[80, 81]\n"
     ]
    }
   ],
   "source": [
    "# cidades que tem mais de dois arcos ligadas a ela (depositos podem ter mais)\n",
    "print([j for j in V if len([i for i in V if x[j][i].x > 0.5 or x[i][j].x > 0.5]) > 2])"
   ]
  },
  {
   "cell_type": "code",
   "execution_count": 30,
   "id": "8c47a728",
   "metadata": {},
   "outputs": [],
   "source": [
    "# [el.x for el in w]"
   ]
  }
 ],
 "metadata": {
  "kernelspec": {
   "display_name": "Python 3 (ipykernel)",
   "language": "python",
   "name": "python3"
  },
  "language_info": {
   "codemirror_mode": {
    "name": "ipython",
    "version": 3
   },
   "file_extension": ".py",
   "mimetype": "text/x-python",
   "name": "python",
   "nbconvert_exporter": "python",
   "pygments_lexer": "ipython3",
   "version": "3.8.12"
  }
 },
 "nbformat": 4,
 "nbformat_minor": 5
}
