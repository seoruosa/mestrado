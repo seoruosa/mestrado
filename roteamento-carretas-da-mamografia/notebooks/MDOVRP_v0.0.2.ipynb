{
 "cells": [
  {
   "cell_type": "code",
   "execution_count": 1,
   "id": "f9811fe6",
   "metadata": {},
   "outputs": [],
   "source": [
    "# import pandas as pd\n",
    "# import numpy as np\n",
    "import matplotlib.pyplot as plt\n",
    "# import math\n",
    "# from networkx import minimum_cut, DiGraph\n",
    "from mip import *\n",
    "# from itertools import product\n",
    "\n",
    "from src.read_instance import MDOVRP\n",
    "# rnd = np.random\n",
    "# rnd.seed(454)"
   ]
  },
  {
   "cell_type": "code",
   "execution_count": 2,
   "id": "a1019811",
   "metadata": {},
   "outputs": [],
   "source": [
    "# filepath = \"Instancias/ES-n78-m2-Q10138.txt\"\n",
    "filepath = \"Instancias/Vrp-Set-A/A-n80-m2-Q60.vrp\""
   ]
  },
  {
   "cell_type": "code",
   "execution_count": 3,
   "id": "1e00a48e",
   "metadata": {},
   "outputs": [],
   "source": [
    "N, D, V, Q, q, c, coord_x, coord_y = MDOVRP(filepath)\n",
    "# N -> cidades\n",
    "# D -> depositos\n",
    "# V = N + D"
   ]
  },
  {
   "cell_type": "code",
   "execution_count": 4,
   "id": "3def7d32",
   "metadata": {},
   "outputs": [],
   "source": [
    "# fazendo c ser simétrica\n",
    "# c = {(i,j) : (c[i,j] + c[j, i])/2  for (i,j) in c}"
   ]
  },
  {
   "cell_type": "markdown",
   "id": "4838d9cf",
   "metadata": {},
   "source": [
    "Usando a formulação $MDOVRP_{2i− flv}$ de Lalla-Ruiz e Mes (2019)\n",
    "\n",
    "\n",
    "    Lalla-Ruiz, Eduardo, and Martijn Mes. \"Mathematical formulations and improvements for the multi-depot open vehicle routing problem.\" Optimization Letters 15 (2021): 271-286."
   ]
  },
  {
   "cell_type": "code",
   "execution_count": 5,
   "id": "c9529a24",
   "metadata": {},
   "outputs": [
    {
     "name": "stdout",
     "output_type": "stream",
     "text": [
      "Set parameter WLSAccessID\n",
      "Set parameter WLSSecret\n",
      "Set parameter LicenseID\n",
      "Academic license - for non-commercial use only - registered to thiago.giachetto@aluno.ufop.edu.br\n"
     ]
    }
   ],
   "source": [
    "#cria o modelo\n",
    "model = Model('PRVMD', solver_name = GUROBI)\n",
    "\n",
    "# Variaveis de decisao\n",
    "x = [[model.add_var(var_type=BINARY) if i!=j else model.add_var(lb=0, ub=0) for i in V] for j in V]\n",
    "u = [[model.add_var(var_type=CONTINUOUS) if i!=j else model.add_var(lb=0, ub=0) for i in V] for j in V]\n",
    "y = [model.add_var(var_type=BINARY) for i in N]\n",
    "w = [model.add_var(var_type=BINARY) for i in N] # decide se cidade será atendida"
   ]
  },
  {
   "cell_type": "markdown",
   "id": "1f372e41",
   "metadata": {},
   "source": [
    "\\begin{equation}\n",
    "\\label{eq:9}\n",
    "    x_{ij} \\in \\{0, 1\\}, \\quad \\forall i, j \\in V\n",
    "\\end{equation}\n",
    "\n",
    "\\begin{equation}\n",
    "\\label{eq:10}\n",
    "    u_{ij} \\geq 0, \\quad \\forall i, j \\in V\n",
    "\\end{equation}"
   ]
  },
  {
   "cell_type": "code",
   "execution_count": 6,
   "id": "826aceeb",
   "metadata": {},
   "outputs": [],
   "source": [
    "# # Funcao objetivo\n",
    "M = 1000\n",
    "model.objective = minimize(xsum(x[i][j] * c[i,j] for i in V for j in V if i != j) - M*xsum(w[j] * q[j] for j in N))"
   ]
  },
  {
   "cell_type": "markdown",
   "id": "9f0a71b8",
   "metadata": {},
   "source": [
    "\\begin{equation}\n",
    "\\label{eq:1}\n",
    " Minimizar \\quad \\sum_{i \\in V }\\sum_{j \\in V} c_{ij}x_{ij}\n",
    "\\end{equation}"
   ]
  },
  {
   "cell_type": "code",
   "execution_count": 7,
   "id": "60a46d91",
   "metadata": {},
   "outputs": [],
   "source": [
    "# maximizar as demandas atendidas\n",
    "# model.objective = maximize(xsum(w[j] * q[j] for j in N))"
   ]
  },
  {
   "cell_type": "code",
   "execution_count": 8,
   "id": "d536d5e2",
   "metadata": {},
   "outputs": [],
   "source": [
    "# tentando melhorar a solução encontrada\n",
    "# model += xsum(x[i][j] * c[i,j] for i in V for j in V if i != j) <= 400 "
   ]
  },
  {
   "cell_type": "code",
   "execution_count": 9,
   "id": "92b252b3",
   "metadata": {},
   "outputs": [],
   "source": [
    "# # Restricao 2\n",
    "# for j in N:\n",
    "#     model += xsum(x[i][j] for i in V if i != j) == 1"
   ]
  },
  {
   "cell_type": "code",
   "execution_count": 10,
   "id": "fe0cbb5d",
   "metadata": {},
   "outputs": [],
   "source": [
    "# Restricao se cidade pertencera a alguma rota\n",
    "\n",
    "for j in N:\n",
    "    model += xsum(x[i][j] for i in V if i != j) == w[j]\n",
    "#     model += xsum(x[j][i] for i in N if i != j) <= w[j] # nao volta para o deposito"
   ]
  },
  {
   "cell_type": "markdown",
   "id": "28582e4c",
   "metadata": {},
   "source": [
    "\\begin{equation}\n",
    "    \\sum_{i \\in V, i \\neq j}x_{ij} = 1, \\quad \\forall j \\in N\n",
    "    \\tag{2}\n",
    "\\end{equation}"
   ]
  },
  {
   "cell_type": "code",
   "execution_count": 11,
   "id": "d9fc9131",
   "metadata": {},
   "outputs": [],
   "source": [
    "# Limitar se cidade pode ter sua \"necessidade\" atendida\n",
    "# isso tem q ser feito relacionando w[j]"
   ]
  },
  {
   "cell_type": "code",
   "execution_count": 12,
   "id": "757f89bf",
   "metadata": {},
   "outputs": [],
   "source": [
    "# Restricao 18\n",
    "\n",
    "for j in N:\n",
    "    model += (xsum(x[i][j] for i in V if i != j) - xsum(x[j][i] for i in N if i != j)) >= 0"
   ]
  },
  {
   "cell_type": "markdown",
   "id": "974c8d82",
   "metadata": {},
   "source": [
    "\\begin{equation}\n",
    "    \\sum_{i \\in V, i \\neq j}x_{ij} - \\sum_{i \\in N, i \\neq j}x_{ji} \\geq 0, \\quad \\forall j \\in N\n",
    "    \\tag {18}\n",
    "\\end{equation}"
   ]
  },
  {
   "cell_type": "code",
   "execution_count": 13,
   "id": "0ce8f2a6",
   "metadata": {},
   "outputs": [],
   "source": [
    "# Restricao 19 modificada\n",
    "for i in V:\n",
    "    for j in N:\n",
    "        if i != j:\n",
    "            model += x[i][j] + x[j][i] <= w[j]\n",
    "            if i not in D:\n",
    "                model += x[i][j] + x[j][i] <= w[i]\n",
    "            \n",
    "            \n",
    "for i in V:\n",
    "    for k in D:\n",
    "        if i != k:\n",
    "            model += x[i][k] + x[k][i] <= 1"
   ]
  },
  {
   "cell_type": "code",
   "execution_count": 14,
   "id": "681cfe73",
   "metadata": {},
   "outputs": [],
   "source": [
    "for i in V:\n",
    "    for j in N:\n",
    "        if i != j:\n",
    "            model += x[i][j] >= w[j]"
   ]
  },
  {
   "cell_type": "code",
   "execution_count": 15,
   "id": "d5b130b2",
   "metadata": {},
   "outputs": [],
   "source": [
    "# for i in V:\n",
    "#     for j in N:\n",
    "#         if i != j:\n",
    "#             model += x[i][j] <= w[j]"
   ]
  },
  {
   "cell_type": "code",
   "execution_count": 16,
   "id": "ffc541d1",
   "metadata": {},
   "outputs": [],
   "source": [
    "# # Restricao 19\n",
    "# for i in V:\n",
    "#     for j in V:\n",
    "#         if i != j:\n",
    "#             model += x[i][j] + x[j][i] <= 1"
   ]
  },
  {
   "cell_type": "markdown",
   "id": "1de49cac",
   "metadata": {},
   "source": [
    "\\begin{equation}\n",
    "    x_{ij} + x_{ji} \\leq 1, \\quad \\forall i, j \\in V, i \\neq j\n",
    "    \\tag {19}\n",
    "\\end{equation}"
   ]
  },
  {
   "cell_type": "code",
   "execution_count": 17,
   "id": "f3d76e13",
   "metadata": {},
   "outputs": [],
   "source": [
    "# Restricao 20 -> nenhum veiculo volta para o deposito\n",
    "model += xsum(x[j][k] for k in D for j in V) == 0"
   ]
  },
  {
   "cell_type": "markdown",
   "id": "e6cb5d2e",
   "metadata": {},
   "source": [
    "\\begin{equation}\n",
    "    \\sum_{k \\in D}\\sum_{j \\in V}x_{jk} = 0\n",
    "    \\tag {20}\n",
    "\\end{equation}"
   ]
  },
  {
   "cell_type": "code",
   "execution_count": 18,
   "id": "e51b3904",
   "metadata": {},
   "outputs": [],
   "source": [
    "# # Restricao 21\n",
    "# for j in N:\n",
    "#     model += xsum(u[i][j] for i in V if i != j) - xsum(u[j][i] for i in V if i != j) >= q[j]"
   ]
  },
  {
   "cell_type": "code",
   "execution_count": 19,
   "id": "c410ffee",
   "metadata": {},
   "outputs": [],
   "source": [
    "# Restricao 21 modificada, para so atender a demanda se cidade for visitada\n",
    "for j in N:\n",
    "    model += xsum(u[i][j] for i in V if i != j) - xsum(u[j][i] for i in V if i != j) >= q[j]*w[j]"
   ]
  },
  {
   "cell_type": "markdown",
   "id": "81c2e8d9",
   "metadata": {},
   "source": [
    "\\begin{equation}\n",
    "    \\sum_{i \\in V, i \\neq j}u_{ij} - \\sum_{i \\in V, i \\neq j}u_{ji} \\geq q_j, \\quad \\forall j \\in N\n",
    "    \\tag {21}\n",
    "\\end{equation}"
   ]
  },
  {
   "cell_type": "code",
   "execution_count": 20,
   "id": "c57c3ae9",
   "metadata": {},
   "outputs": [],
   "source": [
    "#Restricao 22\n",
    "for i in N:\n",
    "    for j in N:\n",
    "        model += (Q - q[i])*x[i][j] >= u[i][j]"
   ]
  },
  {
   "cell_type": "markdown",
   "id": "f1875dfb",
   "metadata": {},
   "source": [
    "\\begin{equation}\n",
    "    (Q - q_i) \\cdot x_{ij} \\geq u_{ij}, \\quad \\forall i, j \\in N\n",
    "    \\tag {22}\n",
    "\\end{equation}"
   ]
  },
  {
   "cell_type": "code",
   "execution_count": 21,
   "id": "ac8a59fd",
   "metadata": {},
   "outputs": [],
   "source": [
    "# Restricao 23\n",
    "for k in D:\n",
    "    for j in N:\n",
    "        model += Q * x[k][j] >= u[k][j]"
   ]
  },
  {
   "cell_type": "code",
   "execution_count": 22,
   "id": "fd548638",
   "metadata": {},
   "outputs": [],
   "source": [
    "# se cidade H não é comtemplada => w[H]=0\n",
    "# Q*x[k][H] = 0! => u[k][H]=0"
   ]
  },
  {
   "cell_type": "markdown",
   "id": "1dcc2cbb",
   "metadata": {},
   "source": [
    "\\begin{equation}\n",
    "    Q \\cdot x_{kj} \\geq u_{kj}, \\quad \\forall k \\in D, j \\in N\n",
    "    \\tag {23}\n",
    "\\end{equation}"
   ]
  },
  {
   "cell_type": "code",
   "execution_count": 23,
   "id": "6f054f18",
   "metadata": {},
   "outputs": [],
   "source": [
    "# # Restricao 8\n",
    "# d = [min([c[j, i] for j in D]) for i in N]\n",
    "# r = [min([c[j, i] for j in N if i != j]) for i in N]\n",
    "# M = max(r)\n",
    "\n",
    "# for i in N:\n",
    "#     model += d[i] + M * y[i] >= r[i]"
   ]
  },
  {
   "cell_type": "markdown",
   "id": "07f22fe7",
   "metadata": {},
   "source": [
    "\\begin{equation}\n",
    "    d_{i} + M y_{i} \\geq r_{i}, \\quad \\forall k \\in N\n",
    "    \\tag {8}\n",
    "\\end{equation}"
   ]
  },
  {
   "cell_type": "code",
   "execution_count": 24,
   "id": "0249f78b",
   "metadata": {},
   "outputs": [],
   "source": [
    "# # Restricao 9 (e rest 8) - estabelece se é vantajoso visitar determinada cidade diretamente do deposito\n",
    "\n",
    "# for i in N:\n",
    "#     k_l = D[np.argmin([c[j, i] for j in D], axis=0)]\n",
    "#     model += x[k_l][i] >= y[i]"
   ]
  },
  {
   "cell_type": "markdown",
   "id": "6aa5dcad",
   "metadata": {},
   "source": [
    "\\begin{equation}\n",
    "    x_{k'i} \\geq y_{i}, \\quad \\forall i \\in N, k' = argmin(c_{ki})_{k \\in D}\n",
    "    \\tag {9}\n",
    "\\end{equation}"
   ]
  },
  {
   "cell_type": "code",
   "execution_count": 25,
   "id": "632728f3",
   "metadata": {},
   "outputs": [],
   "source": [
    "# # Restricao 10 - estabelece um limite inferior para o numero de veiculos\n",
    "\n",
    "# model += xsum(x[k][i] for i in N for k in D) >= np.ceil(sum(q)/Q)"
   ]
  },
  {
   "cell_type": "markdown",
   "id": "ea0ecd8a",
   "metadata": {},
   "source": [
    "\\begin{equation}\n",
    "    \\sum_{i \\in N}\\sum_{k \\in D}x_{ki} \\geq \\lceil \\frac{\\sum_{i \\in N} q_{i}}{Q} \\rceil\n",
    "    \\tag {10}\n",
    "\\end{equation}"
   ]
  },
  {
   "cell_type": "code",
   "execution_count": 26,
   "id": "fff01815",
   "metadata": {},
   "outputs": [],
   "source": [
    "# # Restricao de distancia maxima entre duas cidades\n",
    "\n",
    "# for i in V:\n",
    "#     for j in V:\n",
    "#         if i != j:\n",
    "#             model += c[i,j]*x[i][j] <= 180"
   ]
  },
  {
   "cell_type": "code",
   "execution_count": 27,
   "id": "01f1a1d2",
   "metadata": {},
   "outputs": [],
   "source": [
    "# # limite de atendimento da demanda\n",
    "\n",
    "# # demanda total\n",
    "# W = sum([q[j] for j in N])\n",
    "# # porcentagem de demanda atendida\n",
    "# alfa = 0.8\n",
    "# # alfa = 1\n",
    "\n",
    "# model += xsum(q[j]*w[j] for j in N) >= alfa*W\n",
    "\n",
    "# # # Restricao 10 modificada - estabelece um limite inferior para o numero de veiculos, considerando alfa\n",
    "\n",
    "# # model += xsum(x[k][i] for i in N for k in D) >= np.ceil(alfa*sum(q)/Q)\n"
   ]
  },
  {
   "cell_type": "code",
   "execution_count": 28,
   "id": "a8a83b8d",
   "metadata": {},
   "outputs": [],
   "source": [
    "# # limite de carros por deposito\n",
    "\n",
    "# for k in D:\n",
    "#     model += xsum(x[k][i] for i in N) <= 7"
   ]
  },
  {
   "cell_type": "code",
   "execution_count": 29,
   "id": "89ec36f3",
   "metadata": {},
   "outputs": [],
   "source": [
    "# limite de carros total\n",
    "NUM_VEICULOS = 8\n",
    "\n",
    "model += xsum(x[k][i] for k in D for i in N) <= NUM_VEICULOS\n",
    "# limite da capacidade\n",
    "# model += xsum(u[k][i] for k in D for i in N) <= NUM_VEICULOS*Q"
   ]
  },
  {
   "cell_type": "code",
   "execution_count": 30,
   "id": "84b30fa7",
   "metadata": {},
   "outputs": [
    {
     "name": "stdout",
     "output_type": "stream",
     "text": [
      "Set parameter TimeLimit to value 30\n",
      "Set parameter NodeLimit to value 1073741824\n",
      "Set parameter SolutionLimit to value 1073741824\n",
      "Set parameter IntFeasTol to value 1e-06\n",
      "Set parameter Method to value 3\n",
      "Gurobi Optimizer version 9.5.0 build v9.5.0rc5 (linux64)\n",
      "Thread count: 2 physical cores, 4 logical processors, using up to 4 threads\n",
      "Academic license - for non-commercial use only - registered to thiago.giachetto@aluno.ufop.edu.br\n",
      "Optimize a model with 26244 rows, 13608 columns and 97528 nonzeros\n",
      "Model fingerprint: 0x6d1b66a3\n",
      "Variable types: 6806 continuous, 6802 integer (6802 binary)\n",
      "Coefficient statistics:\n",
      "  Matrix range     [1e+00, 6e+01]\n",
      "  Objective range  [1e+00, 1e+01]\n",
      "  Bounds range     [1e+00, 1e+00]\n",
      "  RHS range        [1e+00, 8e+00]\n",
      "Found heuristic solution: objective -0.0000000\n",
      "Presolve removed 26244 rows and 13608 columns\n",
      "Presolve time: 0.13s\n",
      "Presolve: All rows and columns removed\n",
      "\n",
      "Explored 0 nodes (0 simplex iterations) in 0.15 seconds (0.05 work units)\n",
      "Thread count was 1 (of 4 available processors)\n",
      "\n",
      "Solution count 1: -0 \n",
      "No other solutions better than -0\n",
      "\n",
      "Optimal solution found (tolerance 1.00e-04)\n",
      "Best objective -0.000000000000e+00, best bound -0.000000000000e+00, gap 0.0000%\n",
      "status: OptimizationStatus.OPTIMAL objective value : -0.0 best possible: -0.0\n"
     ]
    }
   ],
   "source": [
    "# Resolve o modelo        \n",
    "# model.optimize(max_seconds=7200)\n",
    "model.optimize(max_seconds=30)\n",
    "print(\"status: {} objective value : {} best possible: {}\".format(model.status, model.objective_value, model.objective_bound))"
   ]
  },
  {
   "cell_type": "code",
   "execution_count": 31,
   "id": "a7547485",
   "metadata": {},
   "outputs": [
    {
     "data": {
      "image/png": "[encoded data removed]",
      "text/plain": [
       "<Figure size 720x432 with 1 Axes>"
      ]
     },
     "metadata": {
      "needs_background": "light"
     },
     "output_type": "display_data"
    }
   ],
   "source": [
    "# --- PLOTA O GRAFICO ---\n",
    "plt.figure(figsize=(10, 6))\n",
    "plt.scatter(coord_x[0:], coord_y[0:])\n",
    "for i in N:\n",
    "    plt.annotate(f\"{i}\", (coord_x[i], coord_y[i]))\n",
    "for i in D:\n",
    "    plt.plot(coord_x[i], coord_y[i], c = 'r', marker = 's')\n",
    "\n",
    "for i in V:\n",
    "    for j in V:\n",
    "        if x[i][j].x > 0:\n",
    "            plt.plot([coord_x[i], coord_x[j]], [coord_y[i], coord_y[j]], c='g', zorder=0)\n",
    "    \n",
    "#escala dos eixos\n",
    "plt.yticks([i for i in range(1,80,20)]); \n",
    "plt.xticks([i for i in range(1,80,20)]); \n"
   ]
  },
  {
   "cell_type": "code",
   "execution_count": 32,
   "id": "d6651f34",
   "metadata": {},
   "outputs": [
    {
     "data": {
      "text/plain": [
       "0.0"
      ]
     },
     "execution_count": 32,
     "metadata": {},
     "output_type": "execute_result"
    }
   ],
   "source": [
    "# dist percorrida\n",
    "sum([(1 if x[i][j].x>0.5 else 0) * c[i,j] for i in V for j in V if i != j])"
   ]
  },
  {
   "cell_type": "code",
   "execution_count": 33,
   "id": "f8bbee21",
   "metadata": {},
   "outputs": [
    {
     "data": {
      "text/plain": [
       "[0,\n",
       " 1,\n",
       " 2,\n",
       " 3,\n",
       " 4,\n",
       " 5,\n",
       " 6,\n",
       " 7,\n",
       " 8,\n",
       " 9,\n",
       " 10,\n",
       " 11,\n",
       " 12,\n",
       " 13,\n",
       " 14,\n",
       " 15,\n",
       " 16,\n",
       " 17,\n",
       " 18,\n",
       " 19,\n",
       " 20,\n",
       " 21,\n",
       " 22,\n",
       " 23,\n",
       " 24,\n",
       " 25,\n",
       " 26,\n",
       " 27,\n",
       " 28,\n",
       " 29,\n",
       " 30,\n",
       " 31,\n",
       " 32,\n",
       " 33,\n",
       " 34,\n",
       " 35,\n",
       " 36,\n",
       " 37,\n",
       " 38,\n",
       " 39,\n",
       " 40,\n",
       " 41,\n",
       " 42,\n",
       " 43,\n",
       " 44,\n",
       " 45,\n",
       " 46,\n",
       " 47,\n",
       " 48,\n",
       " 49,\n",
       " 50,\n",
       " 51,\n",
       " 52,\n",
       " 53,\n",
       " 54,\n",
       " 55,\n",
       " 56,\n",
       " 57,\n",
       " 58,\n",
       " 59,\n",
       " 60,\n",
       " 61,\n",
       " 62,\n",
       " 63,\n",
       " 64,\n",
       " 65,\n",
       " 66,\n",
       " 67,\n",
       " 68,\n",
       " 69,\n",
       " 70,\n",
       " 71,\n",
       " 72,\n",
       " 73,\n",
       " 74,\n",
       " 75,\n",
       " 76,\n",
       " 77,\n",
       " 78,\n",
       " 79]"
      ]
     },
     "execution_count": 33,
     "metadata": {},
     "output_type": "execute_result"
    }
   ],
   "source": [
    "# nao atendidos\n",
    "[i for i in N if w[i].x < 0.5]"
   ]
  },
  {
   "cell_type": "code",
   "execution_count": 34,
   "id": "0a240652",
   "metadata": {},
   "outputs": [
    {
     "data": {
      "text/plain": [
       "0.0"
      ]
     },
     "execution_count": 34,
     "metadata": {},
     "output_type": "execute_result"
    }
   ],
   "source": [
    "# nro de veiculos\n",
    "sum(x[k][i].x for k in D for i in N)"
   ]
  },
  {
   "cell_type": "code",
   "execution_count": 35,
   "id": "639215da",
   "metadata": {},
   "outputs": [
    {
     "name": "stdout",
     "output_type": "stream",
     "text": [
      "[]\n"
     ]
    }
   ],
   "source": [
    "# cidades que tem mais de dois arcos ligadas a ela (depositos podem ter mais)\n",
    "print([j for j in V if len([i for i in V if x[j][i].x > 0.5 or x[i][j].x > 0.5]) > 2])"
   ]
  },
  {
   "cell_type": "code",
   "execution_count": 36,
   "id": "26cc51f6",
   "metadata": {},
   "outputs": [
    {
     "data": {
      "text/plain": [
       "[0,\n",
       " 1,\n",
       " 2,\n",
       " 3,\n",
       " 4,\n",
       " 5,\n",
       " 6,\n",
       " 7,\n",
       " 8,\n",
       " 9,\n",
       " 10,\n",
       " 11,\n",
       " 12,\n",
       " 13,\n",
       " 14,\n",
       " 15,\n",
       " 16,\n",
       " 17,\n",
       " 18,\n",
       " 19,\n",
       " 20,\n",
       " 21,\n",
       " 22,\n",
       " 23,\n",
       " 24,\n",
       " 25,\n",
       " 26,\n",
       " 27,\n",
       " 28,\n",
       " 29,\n",
       " 30,\n",
       " 31,\n",
       " 32,\n",
       " 33,\n",
       " 34,\n",
       " 35,\n",
       " 36,\n",
       " 37,\n",
       " 38,\n",
       " 39,\n",
       " 40,\n",
       " 41,\n",
       " 42,\n",
       " 43,\n",
       " 44,\n",
       " 45,\n",
       " 46,\n",
       " 47,\n",
       " 48,\n",
       " 49,\n",
       " 50,\n",
       " 51,\n",
       " 52,\n",
       " 53,\n",
       " 54,\n",
       " 55,\n",
       " 56,\n",
       " 57,\n",
       " 58,\n",
       " 59,\n",
       " 60,\n",
       " 61,\n",
       " 62,\n",
       " 63,\n",
       " 64,\n",
       " 65,\n",
       " 66,\n",
       " 67,\n",
       " 68,\n",
       " 69,\n",
       " 70,\n",
       " 71,\n",
       " 72,\n",
       " 73,\n",
       " 74,\n",
       " 75,\n",
       " 76,\n",
       " 77,\n",
       " 78,\n",
       " 79]"
      ]
     },
     "execution_count": 36,
     "metadata": {},
     "output_type": "execute_result"
    }
   ],
   "source": [
    "# [el.x for el in w]\n",
    "# cidades nao atendidas\n",
    "[i for (i, el) in enumerate(w) if el.x < 0.5]"
   ]
  }
 ],
 "metadata": {
  "kernelspec": {
   "display_name": "Python 3 (ipykernel)",
   "language": "python",
   "name": "python3"
  },
  "language_info": {
   "codemirror_mode": {
    "name": "ipython",
    "version": 3
   },
   "file_extension": ".py",
   "mimetype": "text/x-python",
   "name": "python",
   "nbconvert_exporter": "python",
   "pygments_lexer": "ipython3",
   "version": "3.8.12"
  }
 },
 "nbformat": 4,
 "nbformat_minor": 5
}
