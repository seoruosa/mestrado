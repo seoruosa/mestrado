{
 "cells": [
  {
   "cell_type": "code",
   "execution_count": 1,
   "id": "f9811fe6",
   "metadata": {},
   "outputs": [],
   "source": [
    "# import pandas as pd\n",
    "# import numpy as np\n",
    "import matplotlib.pyplot as plt\n",
    "# import math\n",
    "# from networkx import minimum_cut, DiGraph\n",
    "from mip import *\n",
    "# from itertools import product\n",
    "\n",
    "from src.read_instance import MDOVRP\n",
    "# rnd = np.random\n",
    "# rnd.seed(454)"
   ]
  },
  {
   "cell_type": "code",
   "execution_count": 2,
   "id": "a1019811",
   "metadata": {},
   "outputs": [],
   "source": [
    "# filepath = \"Instancias/ES-n78-m2-Q10138.txt\"\n",
    "filepath = \"Instancias/Vrp-Set-A/A-n80-m2-Q60.vrp\""
   ]
  },
  {
   "cell_type": "code",
   "execution_count": 3,
   "id": "1e00a48e",
   "metadata": {},
   "outputs": [],
   "source": [
    "N, D, V, Q, q, c, coord_x, coord_y = MDOVRP(filepath)\n",
    "# N -> cidades\n",
    "# D -> depositos\n",
    "# V = N + D"
   ]
  },
  {
   "cell_type": "code",
   "execution_count": 4,
   "id": "3def7d32",
   "metadata": {},
   "outputs": [],
   "source": [
    "# fazendo c ser simétrica\n",
    "# c = {(i,j) : (c[i,j] + c[j, i])/2  for (i,j) in c}"
   ]
  },
  {
   "cell_type": "markdown",
   "id": "4838d9cf",
   "metadata": {},
   "source": [
    "Usando a formulação $MDOVRP_{2i− flv}$ de Lalla-Ruiz e Mes (2019)\n",
    "\n",
    "\n",
    "    Lalla-Ruiz, Eduardo, and Martijn Mes. \"Mathematical formulations and improvements for the multi-depot open vehicle routing problem.\" Optimization Letters 15 (2021): 271-286."
   ]
  },
  {
   "cell_type": "code",
   "execution_count": 5,
   "id": "c9529a24",
   "metadata": {},
   "outputs": [
    {
     "name": "stdout",
     "output_type": "stream",
     "text": [
      "Set parameter WLSAccessID\n",
      "Set parameter WLSSecret\n",
      "Set parameter LicenseID\n",
      "Academic license - for non-commercial use only - registered to thiago.giachetto@aluno.ufop.edu.br\n"
     ]
    }
   ],
   "source": [
    "#cria o modelo\n",
    "model = Model('PRVMD', solver_name = GUROBI)\n",
    "\n",
    "# Variaveis de decisao\n",
    "x = [[model.add_var(var_type=BINARY) if i!=j else model.add_var(lb=0, ub=0) for i in V] for j in V]\n",
    "u = [[model.add_var(var_type=CONTINUOUS) if i!=j else model.add_var(lb=0, ub=0) for i in V] for j in V]\n",
    "y = [model.add_var(var_type=BINARY) for i in N]\n",
    "# w = [model.add_var(var_type=BINARY) for i in N] # decide se cidade será atendida\n",
    "w = [model.add_var(var_type=BINARY) if i not in D else model.add_var(lb=0, ub=0) for i in V] # decide se cidade será atendida"
   ]
  },
  {
   "cell_type": "markdown",
   "id": "1f372e41",
   "metadata": {},
   "source": [
    "\\begin{equation}\n",
    "\\label{eq:9}\n",
    "    x_{ij} \\in \\{0, 1\\}, \\quad \\forall i, j \\in V\n",
    "\\end{equation}\n",
    "\n",
    "\\begin{equation}\n",
    "\\label{eq:10}\n",
    "    u_{ij} \\geq 0, \\quad \\forall i, j \\in V\n",
    "\\end{equation}"
   ]
  },
  {
   "cell_type": "code",
   "execution_count": 6,
   "id": "826aceeb",
   "metadata": {},
   "outputs": [],
   "source": [
    "# # Funcao objetivo\n",
    "M = 1000\n",
    "model.objective = minimize(xsum(x[i][j] * c[i,j] for i in V for j in V if i != j) - M*xsum(w[j] * q[j] for j in N))"
   ]
  },
  {
   "cell_type": "markdown",
   "id": "9f0a71b8",
   "metadata": {},
   "source": [
    "\\begin{equation}\n",
    "\\label{eq:1}\n",
    " Minimizar \\quad \\sum_{i \\in V }\\sum_{j \\in V} c_{ij}x_{ij}\n",
    "\\end{equation}"
   ]
  },
  {
   "cell_type": "code",
   "execution_count": 7,
   "id": "60a46d91",
   "metadata": {},
   "outputs": [],
   "source": [
    "# maximizar as demandas atendidas\n",
    "# model.objective = maximize(xsum(w[j] * q[j] for j in N))"
   ]
  },
  {
   "cell_type": "code",
   "execution_count": 8,
   "id": "d536d5e2",
   "metadata": {},
   "outputs": [],
   "source": [
    "# tentando melhorar a solução encontrada\n",
    "# model += xsum(x[i][j] * c[i,j] for i in V for j in V if i != j) <= 400 "
   ]
  },
  {
   "cell_type": "code",
   "execution_count": 9,
   "id": "92b252b3",
   "metadata": {},
   "outputs": [],
   "source": [
    "# Restricao 2\n",
    "for j in N:\n",
    "    model += xsum(x[i][j] for i in V if i != j) == 1"
   ]
  },
  {
   "cell_type": "code",
   "execution_count": 10,
   "id": "fe0cbb5d",
   "metadata": {},
   "outputs": [],
   "source": [
    "# # Restricao se cidade pertencera a alguma rota\n",
    "\n",
    "# for j in N:\n",
    "#     model += xsum(x[i][j] for i in V if i != j) == w[j]\n",
    "# #     model += xsum(x[j][i] for i in N if i != j) == w[j]\n",
    "# #     model += xsum(x[j][i] for i in N if i != j) == w[j] # nao volta para o deposito"
   ]
  },
  {
   "cell_type": "markdown",
   "id": "28582e4c",
   "metadata": {},
   "source": [
    "\\begin{equation}\n",
    "    \\sum_{i \\in V, i \\neq j}x_{ij} = 1, \\quad \\forall j \\in N\n",
    "    \\tag{2}\n",
    "\\end{equation}"
   ]
  },
  {
   "cell_type": "code",
   "execution_count": 11,
   "id": "16d88162",
   "metadata": {},
   "outputs": [],
   "source": [
    "# Limitar se cidade pode ter sua \"necessidade\" atendida\n",
    "# isso tem q ser feito relacionando w[j] e u...\n",
    "\n",
    "# # nada entra\n",
    "# for j in N:\n",
    "#     model += xsum(u[i][j] for i in V if i != j) <= Q*w[j]\n",
    "\n",
    "# # nada sai\n",
    "# for j in N:\n",
    "#     model += xsum(u[j][i] for i in N if i != j) <= Q*w[j]"
   ]
  },
  {
   "cell_type": "code",
   "execution_count": 12,
   "id": "757f89bf",
   "metadata": {},
   "outputs": [],
   "source": [
    "# Restricao 18\n",
    "\n",
    "for j in N:\n",
    "    model += (xsum(x[i][j] for i in V if i != j) - xsum(x[j][i] for i in N if i != j)) >= 0"
   ]
  },
  {
   "cell_type": "markdown",
   "id": "974c8d82",
   "metadata": {},
   "source": [
    "\\begin{equation}\n",
    "    \\sum_{i \\in V, i \\neq j}x_{ij} - \\sum_{i \\in N, i \\neq j}x_{ji} \\geq 0, \\quad \\forall j \\in N\n",
    "    \\tag {18}\n",
    "\\end{equation}"
   ]
  },
  {
   "cell_type": "code",
   "execution_count": 13,
   "id": "0ce8f2a6",
   "metadata": {},
   "outputs": [],
   "source": [
    "# # Restricao 19 modificada\n",
    "# for i in V:\n",
    "#     for j in V:\n",
    "#         if i != j:\n",
    "#             model += x[i][j] + x[j][i] <= w[j]\n",
    "# #             model += x[i][j] + x[j][i] <= w[i]"
   ]
  },
  {
   "cell_type": "code",
   "execution_count": 14,
   "id": "d5b130b2",
   "metadata": {},
   "outputs": [],
   "source": [
    "# for i in V:\n",
    "#     for j in N:\n",
    "#         if i != j:\n",
    "#             model += x[i][j] <= w[j]"
   ]
  },
  {
   "cell_type": "code",
   "execution_count": 15,
   "id": "ffc541d1",
   "metadata": {},
   "outputs": [],
   "source": [
    "# Restricao 19\n",
    "for i in V:\n",
    "    for j in V:\n",
    "        if i != j:\n",
    "            model += x[i][j] + x[j][i] <= 1"
   ]
  },
  {
   "cell_type": "markdown",
   "id": "1de49cac",
   "metadata": {},
   "source": [
    "\\begin{equation}\n",
    "    x_{ij} + x_{ji} \\leq 1, \\quad \\forall i, j \\in V, i \\neq j\n",
    "    \\tag {19}\n",
    "\\end{equation}"
   ]
  },
  {
   "cell_type": "code",
   "execution_count": 16,
   "id": "f3d76e13",
   "metadata": {},
   "outputs": [],
   "source": [
    "# Restricao 20 -> nenhum veiculo volta para o deposito\n",
    "model += xsum(x[j][k] for k in D for j in V) == 0"
   ]
  },
  {
   "cell_type": "markdown",
   "id": "e6cb5d2e",
   "metadata": {},
   "source": [
    "\\begin{equation}\n",
    "    \\sum_{k \\in D}\\sum_{j \\in V}x_{jk} = 0\n",
    "    \\tag {20}\n",
    "\\end{equation}"
   ]
  },
  {
   "cell_type": "code",
   "execution_count": 17,
   "id": "e51b3904",
   "metadata": {},
   "outputs": [],
   "source": [
    "# Restricao 21\n",
    "for j in N:\n",
    "    model += xsum(u[i][j] for i in V if i != j) - xsum(u[j][i] for i in V if i != j) >= q[j]"
   ]
  },
  {
   "cell_type": "code",
   "execution_count": 18,
   "id": "c410ffee",
   "metadata": {},
   "outputs": [],
   "source": [
    "# Restricao 21 modificada, para so atender a demanda se cidade for visitada\n",
    "# for j in N:\n",
    "#     model += xsum(u[i][j] for i in V if i != j) - xsum(u[j][i] for i in V if i != j) >= q[j]*w[j]\n",
    "\n",
    "# for j in N:\n",
    "#     model += xsum(u[i][j] for i in V if i != j) - xsum(u[j][i] for i in V if i != j) <= Q*w[j]"
   ]
  },
  {
   "cell_type": "markdown",
   "id": "81c2e8d9",
   "metadata": {},
   "source": [
    "\\begin{equation}\n",
    "    \\sum_{i \\in V, i \\neq j}u_{ij} - \\sum_{i \\in V, i \\neq j}u_{ji} \\geq q_j, \\quad \\forall j \\in N\n",
    "    \\tag {21}\n",
    "\\end{equation}"
   ]
  },
  {
   "cell_type": "code",
   "execution_count": 19,
   "id": "c57c3ae9",
   "metadata": {},
   "outputs": [],
   "source": [
    "#Restricao 22\n",
    "for i in N:\n",
    "    for j in N:\n",
    "        model += (Q - q[i])*x[i][j] >= u[i][j]"
   ]
  },
  {
   "cell_type": "markdown",
   "id": "f1875dfb",
   "metadata": {},
   "source": [
    "\\begin{equation}\n",
    "    (Q - q_i) \\cdot x_{ij} \\geq u_{ij}, \\quad \\forall i, j \\in N\n",
    "    \\tag {22}\n",
    "\\end{equation}"
   ]
  },
  {
   "cell_type": "code",
   "execution_count": 20,
   "id": "ac8a59fd",
   "metadata": {},
   "outputs": [],
   "source": [
    "# Restricao 23\n",
    "for k in D:\n",
    "    for j in N:\n",
    "        model += Q * x[k][j] >= u[k][j]"
   ]
  },
  {
   "cell_type": "code",
   "execution_count": 21,
   "id": "2c12f5b4",
   "metadata": {},
   "outputs": [],
   "source": [
    "# se cidade H não é comtemplada => w[H]=0\n",
    "# Q*x[k][H] = 0! => u[k][H]=0"
   ]
  },
  {
   "cell_type": "markdown",
   "id": "1dcc2cbb",
   "metadata": {},
   "source": [
    "\\begin{equation}\n",
    "    Q \\cdot x_{kj} \\geq u_{kj}, \\quad \\forall k \\in D, j \\in N\n",
    "    \\tag {23}\n",
    "\\end{equation}"
   ]
  },
  {
   "cell_type": "code",
   "execution_count": 22,
   "id": "6f054f18",
   "metadata": {},
   "outputs": [],
   "source": [
    "# # Restricao 8\n",
    "# d = [min([c[j, i] for j in D]) for i in N]\n",
    "# r = [min([c[j, i] for j in N if i != j]) for i in N]\n",
    "# M = max(r)\n",
    "\n",
    "# for i in N:\n",
    "#     model += d[i] + M * y[i] >= r[i]"
   ]
  },
  {
   "cell_type": "markdown",
   "id": "07f22fe7",
   "metadata": {},
   "source": [
    "\\begin{equation}\n",
    "    d_{i} + M y_{i} \\geq r_{i}, \\quad \\forall k \\in N\n",
    "    \\tag {8}\n",
    "\\end{equation}"
   ]
  },
  {
   "cell_type": "code",
   "execution_count": 23,
   "id": "0249f78b",
   "metadata": {},
   "outputs": [],
   "source": [
    "# # Restricao 9 (e rest 8) - estabelece se é vantajoso visitar determinada cidade diretamente do deposito\n",
    "\n",
    "# for i in N:\n",
    "#     k_l = D[np.argmin([c[j, i] for j in D], axis=0)]\n",
    "#     model += x[k_l][i] >= y[i]"
   ]
  },
  {
   "cell_type": "markdown",
   "id": "6aa5dcad",
   "metadata": {},
   "source": [
    "\\begin{equation}\n",
    "    x_{k'i} \\geq y_{i}, \\quad \\forall i \\in N, k' = argmin(c_{ki})_{k \\in D}\n",
    "    \\tag {9}\n",
    "\\end{equation}"
   ]
  },
  {
   "cell_type": "code",
   "execution_count": 24,
   "id": "632728f3",
   "metadata": {},
   "outputs": [],
   "source": [
    "# # Restricao 10 - estabelece um limite inferior para o numero de veiculos\n",
    "\n",
    "# model += xsum(x[k][i] for i in N for k in D) >= np.ceil(sum(q)/Q)"
   ]
  },
  {
   "cell_type": "markdown",
   "id": "ea0ecd8a",
   "metadata": {},
   "source": [
    "\\begin{equation}\n",
    "    \\sum_{i \\in N}\\sum_{k \\in D}x_{ki} \\geq \\lceil \\frac{\\sum_{i \\in N} q_{i}}{Q} \\rceil\n",
    "    \\tag {10}\n",
    "\\end{equation}"
   ]
  },
  {
   "cell_type": "code",
   "execution_count": 25,
   "id": "fff01815",
   "metadata": {},
   "outputs": [],
   "source": [
    "# # Restricao de distancia maxima entre duas cidades\n",
    "\n",
    "# for i in V:\n",
    "#     for j in V:\n",
    "#         if i != j:\n",
    "#             model += c[i,j]*x[i][j] <= 180"
   ]
  },
  {
   "cell_type": "code",
   "execution_count": 26,
   "id": "01f1a1d2",
   "metadata": {},
   "outputs": [],
   "source": [
    "# # limite de atendimento da demanda\n",
    "\n",
    "# # demanda total\n",
    "# W = sum([q[j] for j in N])\n",
    "# # porcentagem de demanda atendida\n",
    "# alfa = 0.8\n",
    "\n",
    "# model += xsum(q[j]*w[j] for j in N) >= alfa*W\n",
    "\n",
    "# # # Restricao 10 modificada - estabelece um limite inferior para o numero de veiculos, considerando alfa\n",
    "\n",
    "# # model += xsum(x[k][i] for i in N for k in D) >= np.ceil(alfa*sum(q)/Q)\n"
   ]
  },
  {
   "cell_type": "code",
   "execution_count": 27,
   "id": "a8a83b8d",
   "metadata": {},
   "outputs": [],
   "source": [
    "# # limite de carros por deposito\n",
    "\n",
    "# for k in D:\n",
    "#     model += xsum(x[k][i] for i in N) <= 7"
   ]
  },
  {
   "cell_type": "code",
   "execution_count": 28,
   "id": "89ec36f3",
   "metadata": {},
   "outputs": [],
   "source": [
    "# # limite de carros total\n",
    "# NUM_VEICULOS = 8\n",
    "\n",
    "# model += xsum(x[k][i] for k in D for i in V) <= NUM_VEICULOS\n",
    "# # limite da capacidade\n",
    "# # model += xsum(u[k][i] for k in D for i in V) <= NUM_VEICULOS*Q"
   ]
  },
  {
   "cell_type": "code",
   "execution_count": 29,
   "id": "84b30fa7",
   "metadata": {},
   "outputs": [
    {
     "name": "stdout",
     "output_type": "stream",
     "text": [
      "Set parameter TimeLimit to value 30\n",
      "Set parameter NodeLimit to value 1073741824\n",
      "Set parameter SolutionLimit to value 1073741824\n",
      "Set parameter IntFeasTol to value 1e-06\n",
      "Set parameter Method to value 3\n",
      "Gurobi Optimizer version 9.5.0 build v9.5.0rc5 (linux64)\n",
      "Thread count: 2 physical cores, 4 logical processors, using up to 4 threads\n",
      "Academic license - for non-commercial use only - registered to thiago.giachetto@aluno.ufop.edu.br\n",
      "Optimize a model with 13444 rows, 13610 columns and 58972 nonzeros\n",
      "Model fingerprint: 0x4ce74e1d\n",
      "Variable types: 6808 continuous, 6802 integer (6802 binary)\n",
      "Coefficient statistics:\n",
      "  Matrix range     [1e+00, 6e+01]\n",
      "  Objective range  [1e+01, 1e+04]\n",
      "  Bounds range     [1e+00, 1e+00]\n",
      "  RHS range        [1e+00, 1e+01]\n",
      "Presolve removed 3723 rows and 890 columns\n",
      "Presolve time: 0.24s\n",
      "Presolved: 9721 rows, 12720 columns, 44480 nonzeros\n",
      "Variable types: 6320 continuous, 6400 integer (6400 binary)\n",
      "\n",
      "Concurrent LP optimizer: dual simplex and barrier\n",
      "Showing barrier log only...\n",
      "\n",
      "Root barrier log...\n",
      "\n",
      "Ordering time: 0.01s\n",
      "\n",
      "Barrier statistics:\n",
      " AA' NZ     : 1.234e+04\n",
      " Factor NZ  : 2.237e+04 (roughly 3 MB of memory)\n",
      " Factor Ops : 3.064e+05 (less than 1 second per iteration)\n",
      " Threads    : 1\n",
      "\n",
      "                  Objective                Residual\n",
      "Iter       Primal          Dual         Primal    Dual     Compl     Time\n",
      "   0   2.23452679e+06 -8.74928518e+06  6.23e+02 8.71e+01  1.41e+04     0s\n",
      "   1   7.03020374e+05 -7.79386234e+06  2.71e+02 1.48e-12  5.82e+03     0s\n",
      "   2  -3.39211687e+05 -3.13132987e+06  1.82e+01 1.71e-12  6.46e+02     0s\n",
      "   3  -4.22345281e+05 -5.91174901e+05  5.10e-01 2.73e-12  2.97e+01     0s\n",
      "   4  -4.25773005e+05 -4.58051002e+05  2.80e-04 2.05e-12  3.54e+00     0s\n",
      "   5  -4.26458905e+05 -4.36892110e+05  1.88e-07 6.25e-13  1.14e+00     0s\n",
      "   6  -4.26969489e+05 -4.34559094e+05  1.08e-07 5.68e-13  8.32e-01     0s\n",
      "   7  -4.27689353e+05 -4.32138952e+05  7.02e-08 2.84e-13  4.88e-01     0s\n",
      "   8  -4.28576077e+05 -4.31956220e+05  4.23e-08 1.71e-13  3.71e-01     0s\n",
      "   9  -4.29270342e+05 -4.31470601e+05  2.72e-08 1.14e-13  2.41e-01     0s\n",
      "  10  -4.29740348e+05 -4.31348709e+05  1.97e-08 1.71e-13  1.76e-01     0s\n",
      "  11  -4.29941217e+05 -4.31255515e+05  1.65e-08 1.14e-13  1.44e-01     0s\n",
      "  12  -4.30075577e+05 -4.31201485e+05  1.43e-08 1.14e-13  1.23e-01     0s\n",
      "  13  -4.30335385e+05 -4.31135655e+05  1.04e-08 1.14e-13  8.77e-02     0s\n",
      "  14  -4.30695761e+05 -4.31103740e+05  4.74e-09 2.27e-13  4.47e-02     0s\n",
      "  15  -4.30776091e+05 -4.31084780e+05  3.58e-09 1.14e-13  3.38e-02     0s\n",
      "  16  -4.30820868e+05 -4.31060278e+05  2.91e-09 2.27e-13  2.62e-02     0s\n",
      "  17  -4.30899011e+05 -4.31041131e+05  1.75e-09 1.14e-13  1.56e-02     0s\n",
      "  18  -4.30972808e+05 -4.31030362e+05  6.75e-10 1.14e-13  6.31e-03     0s\n",
      "  19  -4.31022457e+05 -4.31022828e+05  1.52e-12 1.14e-13  4.07e-05     0s\n",
      "  20  -4.31022640e+05 -4.31022641e+05  5.55e-14 1.14e-13  4.07e-08     0s\n",
      "  21  -4.31022640e+05 -4.31022640e+05  1.71e-13 2.27e-13  4.07e-11     0s\n",
      "  22  -4.31022640e+05 -4.31022640e+05  3.10e-13 2.27e-13  4.07e-14     0s\n",
      "\n",
      "Barrier solved model in 22 iterations and 0.45 seconds (0.23 work units)\n",
      "Optimal objective -4.31022640e+05\n",
      "\n",
      "\n",
      "Use crossover to convert LP symmetric solution to basic solution...\n",
      "\n",
      "Solved with dual simplex\n",
      "\n",
      "Root relaxation: objective -4.310226e+05, 1732 iterations, 0.16 seconds (0.07 work units)\n",
      "\n",
      "    Nodes    |    Current Node    |     Objective Bounds      |     Work\n",
      " Expl Unexpl |  Obj  Depth IntInf | Incumbent    BestBd   Gap | It/Node Time\n",
      "\n",
      "     0     0 -431022.64    0   41          - -431022.64      -     -    0s\n",
      "     0     0 -431018.82    0  124          - -431018.82      -     -    3s\n",
      "     0     0 -431018.45    0  124          - -431018.45      -     -    3s\n",
      "     0     0 -431018.45    0  124          - -431018.45      -     -    3s\n",
      "     0     0 -431008.21    0  130          - -431008.21      -     -    4s\n",
      "     0     0 -431007.47    0  122          - -431007.47      -     -    5s\n",
      "     0     0 -431007.46    0  128          - -431007.46      -     -    5s\n",
      "     0     0 -431006.49    0  159          - -431006.49      -     -    6s\n",
      "     0     0 -431006.05    0  136          - -431006.05      -     -    7s\n",
      "     0     0 -431006.05    0  137          - -431006.05      -     -    7s\n",
      "     0     0 -431004.47    0  156          - -431004.47      -     -    8s\n",
      "     0     0 -431004.47    0  156          - -431004.47      -     -    9s\n",
      "     0     2 -431003.52    0  156          - -431003.52      -     -   17s\n",
      "     5     8 -430980.03    2  124          - -431003.52      -  1572   20s\n",
      "    16    29 -430975.44    5  105          - -431003.52      -  1122   25s\n",
      "    47    55 -430961.56   15   58          - -431003.52      -   900   30s\n",
      "\n",
      "Cutting planes:\n",
      "  Gomory: 3\n",
      "  Lift-and-project: 2\n",
      "  Implied bound: 48\n",
      "  MIR: 32\n",
      "  Flow cover: 44\n",
      "  Zero half: 6\n",
      "  Network: 3\n",
      "  RLT: 11\n",
      "\n",
      "Explored 54 nodes (65497 simplex iterations) in 30.00 seconds (24.03 work units)\n",
      "Thread count was 4 (of 4 available processors)\n",
      "\n",
      "Solution count 0\n",
      "\n",
      "Time limit reached\n",
      "Best objective -, best bound -4.310035190408e+05, gap -\n",
      "status: OptimizationStatus.NO_SOLUTION_FOUND objective value : None best possible: -431003.51904080494\n"
     ]
    }
   ],
   "source": [
    "# Resolve o modelo        \n",
    "# model.optimize(max_seconds=7200)\n",
    "model.optimize(max_seconds=30)\n",
    "print(\"status: {} objective value : {} best possible: {}\".format(model.status, model.objective_value, model.objective_bound))"
   ]
  },
  {
   "cell_type": "code",
   "execution_count": 31,
   "id": "a7547485",
   "metadata": {},
   "outputs": [
    {
     "ename": "TypeError",
     "evalue": "'>' not supported between instances of 'NoneType' and 'int'",
     "output_type": "error",
     "traceback": [
      "\u001b[0;31m---------------------------------------------------------------------------\u001b[0m",
      "\u001b[0;31mTypeError\u001b[0m                                 Traceback (most recent call last)",
      "Input \u001b[0;32mIn [31]\u001b[0m, in \u001b[0;36m<module>\u001b[0;34m\u001b[0m\n\u001b[1;32m      9\u001b[0m \u001b[38;5;28;01mfor\u001b[39;00m i \u001b[38;5;129;01min\u001b[39;00m V:\n\u001b[1;32m     10\u001b[0m     \u001b[38;5;28;01mfor\u001b[39;00m j \u001b[38;5;129;01min\u001b[39;00m V:\n\u001b[0;32m---> 11\u001b[0m         \u001b[38;5;28;01mif\u001b[39;00m \u001b[43mx\u001b[49m\u001b[43m[\u001b[49m\u001b[43mi\u001b[49m\u001b[43m]\u001b[49m\u001b[43m[\u001b[49m\u001b[43mj\u001b[49m\u001b[43m]\u001b[49m\u001b[38;5;241;43m.\u001b[39;49m\u001b[43mx\u001b[49m\u001b[43m \u001b[49m\u001b[38;5;241;43m>\u001b[39;49m\u001b[43m \u001b[49m\u001b[38;5;241;43m0\u001b[39;49m:\n\u001b[1;32m     12\u001b[0m             plt\u001b[38;5;241m.\u001b[39mplot([coord_x[i], coord_x[j]], [coord_y[i], coord_y[j]], c\u001b[38;5;241m=\u001b[39m\u001b[38;5;124m'\u001b[39m\u001b[38;5;124mg\u001b[39m\u001b[38;5;124m'\u001b[39m, zorder\u001b[38;5;241m=\u001b[39m\u001b[38;5;241m0\u001b[39m)\n\u001b[1;32m     14\u001b[0m \u001b[38;5;66;03m#escala dos eixos\u001b[39;00m\n",
      "\u001b[0;31mTypeError\u001b[0m: '>' not supported between instances of 'NoneType' and 'int'"
     ]
    },
    {
     "data": {
      "image/png": "[encoded data removed]",
      "text/plain": [
       "<Figure size 720x432 with 1 Axes>"
      ]
     },
     "metadata": {
      "needs_background": "light"
     },
     "output_type": "display_data"
    }
   ],
   "source": [
    "# --- PLOTA O GRAFICO ---\n",
    "plt.figure(figsize=(10, 6))\n",
    "plt.scatter(coord_x[0:], coord_y[0:])\n",
    "for i in N:\n",
    "    plt.annotate(f\"{i}\", (coord_x[i], coord_y[i]))\n",
    "for i in D:\n",
    "    plt.plot(coord_x[i], coord_y[i], c = 'r', marker = 's')\n",
    "\n",
    "for i in V:\n",
    "    for j in V:\n",
    "        if x[i][j].x > 0:\n",
    "            plt.plot([coord_x[i], coord_x[j]], [coord_y[i], coord_y[j]], c='g', zorder=0)\n",
    "    \n",
    "#escala dos eixos\n",
    "plt.yticks([i for i in range(1,80,20)]); \n",
    "plt.xticks([i for i in range(1,80,20)]); \n"
   ]
  },
  {
   "cell_type": "code",
   "execution_count": null,
   "id": "38f91eb3",
   "metadata": {},
   "outputs": [],
   "source": [
    "# dist percorrida\n",
    "sum([(1 if x[i][j].x>0.5 else 0) * c[i,j] for i in V for j in V if i != j])"
   ]
  },
  {
   "cell_type": "code",
   "execution_count": null,
   "id": "f8bbee21",
   "metadata": {},
   "outputs": [],
   "source": [
    "# nao atendidos\n",
    "[i for i in N if w[i].x < 0.5]"
   ]
  },
  {
   "cell_type": "code",
   "execution_count": null,
   "id": "0a240652",
   "metadata": {},
   "outputs": [],
   "source": [
    "# nro de veiculos\n",
    "sum(x[k][i].x for k in D for i in N)"
   ]
  },
  {
   "cell_type": "code",
   "execution_count": null,
   "id": "639215da",
   "metadata": {},
   "outputs": [],
   "source": [
    "# cidades que tem mais de dois arcos ligadas a ela (depositos podem ter mais)\n",
    "print([j for j in V if len([i for i in V if x[j][i].x > 0.5 or x[i][j].x > 0.5]) > 2])"
   ]
  },
  {
   "cell_type": "code",
   "execution_count": null,
   "id": "e6b14259",
   "metadata": {},
   "outputs": [],
   "source": [
    "# [el.x for el in w]"
   ]
  }
 ],
 "metadata": {
  "kernelspec": {
   "display_name": "Python 3 (ipykernel)",
   "language": "python",
   "name": "python3"
  },
  "language_info": {
   "codemirror_mode": {
    "name": "ipython",
    "version": 3
   },
   "file_extension": ".py",
   "mimetype": "text/x-python",
   "name": "python",
   "nbconvert_exporter": "python",
   "pygments_lexer": "ipython3",
   "version": "3.8.12"
  }
 },
 "nbformat": 4,
 "nbformat_minor": 5
}
