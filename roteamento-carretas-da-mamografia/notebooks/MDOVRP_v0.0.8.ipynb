{
 "cells": [
  {
   "cell_type": "code",
   "execution_count": 1,
   "id": "f9811fe6",
   "metadata": {},
   "outputs": [],
   "source": [
    "import matplotlib.pyplot as plt\n",
    "from mip import *\n",
    "\n",
    "from src.read_instance import MMURP"
   ]
  },
  {
   "cell_type": "code",
   "execution_count": 2,
   "id": "a1019811",
   "metadata": {},
   "outputs": [],
   "source": [
    "instance_folder = \"Instancias\"\n",
    "instance_name = \"ES-n78-m2-Q10138_with_depot\"\n",
    "\n",
    "filepath = f\"{instance_folder}/{instance_name}.txt\""
   ]
  },
  {
   "cell_type": "code",
   "execution_count": 3,
   "id": "1e00a48e",
   "metadata": {},
   "outputs": [],
   "source": [
    "N, D, V, Q, max_dist_nodes, q, c, vehicles_depot, coord_x, coord_y = MMURP(filepath)"
   ]
  },
  {
   "cell_type": "markdown",
   "id": "4838d9cf",
   "metadata": {},
   "source": [
    "Usando a formulação $MDOVRP_{2i− flv}$ de Lalla-Ruiz e Mes (2019)\n",
    "\n",
    "\n",
    "    Lalla-Ruiz, Eduardo, and Martijn Mes. \"Mathematical formulations and improvements for the multi-depot open vehicle routing problem.\" Optimization Letters 15 (2021): 271-286."
   ]
  },
  {
   "cell_type": "code",
   "execution_count": 4,
   "id": "01d8fe4c",
   "metadata": {},
   "outputs": [
    {
     "name": "stdout",
     "output_type": "stream",
     "text": [
      "[76, 77]\n",
      "[4, 4]\n"
     ]
    }
   ],
   "source": [
    "print(D)\n",
    "print(vehicles_depot)"
   ]
  },
  {
   "cell_type": "code",
   "execution_count": 5,
   "id": "c9529a24",
   "metadata": {},
   "outputs": [
    {
     "name": "stdout",
     "output_type": "stream",
     "text": [
      "Set parameter WLSAccessID\n",
      "Set parameter WLSSecret\n",
      "Set parameter LicenseID\n",
      "Academic license - for non-commercial use only - registered to thiago.giachetto@aluno.ufop.edu.br\n"
     ]
    }
   ],
   "source": [
    "#cria o modelo\n",
    "model = Model('MMURP', solver_name = GUROBI)\n",
    "\n",
    "# Variaveis de decisao\n",
    "x = [[model.add_var(var_type=BINARY) if i!=j else model.add_var(lb=0, ub=0) for i in V] for j in V]\n",
    "u = [[model.add_var(var_type=CONTINUOUS) if i!=j else model.add_var(lb=0, ub=0) for i in V] for j in V]\n",
    "y = [model.add_var(var_type=BINARY) for i in N]\n",
    "w = [model.add_var(var_type=BINARY) for i in N]"
   ]
  },
  {
   "cell_type": "markdown",
   "id": "1f372e41",
   "metadata": {},
   "source": [
    "\\begin{equation}\n",
    "\\label{eq:9}\n",
    "    x_{ij} \\in \\{0, 1\\}, \\quad \\forall i, j \\in V\n",
    "\\end{equation}\n",
    "\n",
    "\\begin{equation}\n",
    "\\label{eq:10}\n",
    "    u_{ij} \\geq 0, \\quad \\forall i, j \\in V\n",
    "\\end{equation}\n",
    "\n",
    "\\begin{equation}\n",
    "\\label{eq:10.1}\n",
    "    w_{j} \\in \\{0, 1\\}, \\quad \\forall j \\in N\n",
    "\\end{equation}"
   ]
  },
  {
   "cell_type": "code",
   "execution_count": 6,
   "id": "df7333f9",
   "metadata": {},
   "outputs": [],
   "source": [
    "def objective(alfa, c, q, x, w):\n",
    "    A = alfa\n",
    "    B = 1 - alfa\n",
    "    \n",
    "    norm_dist = sum([c[i,j] for i in V for j in V if j>i])\n",
    "    norm_dem = sum(q)\n",
    "    \n",
    "    \n",
    "    return minimize(A/norm_dist*xsum(x[i][j] * c[i,j] for i in V for j in V if i != j) - \\\n",
    "                    B/norm_dem*xsum(q[j]*w[j] for j in N))"
   ]
  },
  {
   "cell_type": "markdown",
   "id": "9f0a71b8",
   "metadata": {},
   "source": [
    "\\begin{equation}\n",
    "\\label{eq:1}\n",
    " Minimizar \\quad A\\sum_{i \\in V }\\sum_{j \\in V} c_{ij}x_{ij} - B\\sum_{j \\in N} q_{j}w_{j}\n",
    "\\end{equation}"
   ]
  },
  {
   "cell_type": "code",
   "execution_count": 7,
   "id": "92b252b3",
   "metadata": {},
   "outputs": [],
   "source": [
    "# Restricao 3\n",
    "for j in N:\n",
    "    model += xsum(x[i][j] for i in V if i != j) == w[j]"
   ]
  },
  {
   "cell_type": "markdown",
   "id": "28582e4c",
   "metadata": {},
   "source": [
    "\\begin{equation}\n",
    "    \\sum_{i \\in V, i \\neq j}x_{ij} = w_{j}, \\quad \\forall j \\in N\n",
    "    \\tag{2}\n",
    "\\end{equation}"
   ]
  },
  {
   "cell_type": "code",
   "execution_count": 8,
   "id": "c9f1e2f8",
   "metadata": {},
   "outputs": [],
   "source": [
    "# Restricao 4 - quantidade veiculos por deposito\n",
    "\n",
    "for pos, k in enumerate(D):\n",
    "    model += xsum(x[k][i] for i in N) <= vehicles_depot[pos]"
   ]
  },
  {
   "cell_type": "code",
   "execution_count": 9,
   "id": "396b1ab0",
   "metadata": {},
   "outputs": [],
   "source": [
    "# Restricao 5 -> na demanda relacionado ao limite de caminhões\n",
    "\n",
    "model += xsum(q[j]*w[j] for j in N if q[j]>0) <= sum(vehicles_depot)*Q"
   ]
  },
  {
   "cell_type": "code",
   "execution_count": 10,
   "id": "368c1a8e",
   "metadata": {},
   "outputs": [
    {
     "name": "stdout",
     "output_type": "stream",
     "text": [
      "76-4\n",
      "77-4\n",
      "81104\n",
      "['1-797', '2-647', '3-2371', '4-1107', '5-543', '6-1790', '7-573', '8-446', '9-687', '10-2227', '12-990', '13-765', '14-641', '15-4446', '16-4506', '17-2744', '19-1786', '20-846', '21-307', '22-2245', '23-440', '24-1649', '25-1292', '26-801', '28-3319', '29-1510', '30-835', '31-546', '32-992', '33-749', '34-1180', '35-2189', '36-854', '37-1820', '38-1518', '39-871', '43-1008', '44-2610', '45-1030', '46-924', '47-2025', '48-1260', '49-416', '50-1231', '51-1118', '53-1479', '54-1431', '55-1574', '56-1446', '57-520', '58-719', '59-1202', '60-821', '61-855', '62-2271', '64-582', '66-835', '68-873', '69-3760', '71-1257', '74-576', '75-899']\n"
     ]
    }
   ],
   "source": [
    "# vehicles_depot\n",
    "for pos, k in enumerate(D):\n",
    "    print(f\"{k}-{vehicles_depot[pos]}\")\n",
    "\n",
    "print(sum(vehicles_depot)*Q)\n",
    "print([f\"{j}-{q[j]}\" for j in N if q[j]>0])"
   ]
  },
  {
   "cell_type": "code",
   "execution_count": 11,
   "id": "fff01815",
   "metadata": {},
   "outputs": [],
   "source": [
    "# Restricao 6 -> de distancia maxima entre duas cidades\n",
    "\n",
    "for i in V:\n",
    "    for j in V:\n",
    "        if i != j:\n",
    "            model += c[i,j]*x[i][j] <= max_dist_nodes"
   ]
  },
  {
   "cell_type": "code",
   "execution_count": 12,
   "id": "757f89bf",
   "metadata": {},
   "outputs": [],
   "source": [
    "# Restricao 7\n",
    "\n",
    "for j in N:\n",
    "    model += (xsum(x[i][j] for i in V if i != j) - xsum(x[j][i] for i in N if i != j)) >= 0"
   ]
  },
  {
   "cell_type": "markdown",
   "id": "974c8d82",
   "metadata": {},
   "source": [
    "\\begin{equation}\n",
    "    \\sum_{i \\in V, i \\neq j}x_{ij} - \\sum_{i \\in N, i \\neq j}x_{ji} \\geq 0, \\quad \\forall j \\in N\n",
    "    \\tag {18}\n",
    "\\end{equation}"
   ]
  },
  {
   "cell_type": "code",
   "execution_count": 13,
   "id": "ffc541d1",
   "metadata": {},
   "outputs": [],
   "source": [
    "# Restricao 8\n",
    "for i in V:\n",
    "    for j in V:\n",
    "        if i != j:\n",
    "            model += x[i][j] + x[j][i] <= 1"
   ]
  },
  {
   "cell_type": "markdown",
   "id": "1de49cac",
   "metadata": {},
   "source": [
    "\\begin{equation}\n",
    "    x_{ij} + x_{ji} \\leq 1, \\quad \\forall i, j \\in V, i \\neq j\n",
    "    \\tag {19}\n",
    "\\end{equation}"
   ]
  },
  {
   "cell_type": "code",
   "execution_count": 14,
   "id": "f3d76e13",
   "metadata": {},
   "outputs": [],
   "source": [
    "# Restricao 9\n",
    "# Ninguem volta para o depósito\n",
    "model += xsum(x[j][k] for k in D for j in V) == 0"
   ]
  },
  {
   "cell_type": "markdown",
   "id": "e6cb5d2e",
   "metadata": {},
   "source": [
    "\\begin{equation}\n",
    "    \\sum_{k \\in D}\\sum_{j \\in V}x_{jk} = 0\n",
    "    \\tag {20}\n",
    "\\end{equation}"
   ]
  },
  {
   "cell_type": "code",
   "execution_count": 15,
   "id": "e51b3904",
   "metadata": {},
   "outputs": [],
   "source": [
    "# Restricao 10 -> se cidade não é atendida, restrição é esquecida\n",
    "for j in N:\n",
    "    model += (xsum(u[i][j] for i in V if i != j) - xsum(u[j][i] for i in V if i != j) - q[j]) >= -Q*(1 - w[j])"
   ]
  },
  {
   "cell_type": "markdown",
   "id": "81c2e8d9",
   "metadata": {},
   "source": [
    "\\begin{equation}\n",
    "    (\\sum_{i \\in V, i \\neq j}u_{ij} - \\sum_{i \\in V, i \\neq j}u_{ji}) - q_{j} \\geq -Q(1 - w_{j}), \\quad \\forall j \\in N\n",
    "    \\tag {21}\n",
    "\\end{equation}\n",
    "\n",
    "    Wolsey, Laurence A. Integer programming (pp. 11). John Wiley & Sons, 2020."
   ]
  },
  {
   "cell_type": "code",
   "execution_count": 16,
   "id": "c57c3ae9",
   "metadata": {},
   "outputs": [],
   "source": [
    "#Restricao 11\n",
    "for i in N:\n",
    "    for j in N:\n",
    "        model += (Q - q[i])*x[i][j] >= u[i][j]"
   ]
  },
  {
   "cell_type": "markdown",
   "id": "f1875dfb",
   "metadata": {},
   "source": [
    "\\begin{equation}\n",
    "    (Q - q_i) \\cdot x_{ij} \\geq u_{ij}, \\quad \\forall i, j \\in N\n",
    "    \\tag {22}\n",
    "\\end{equation}"
   ]
  },
  {
   "cell_type": "code",
   "execution_count": 17,
   "id": "ac8a59fd",
   "metadata": {},
   "outputs": [],
   "source": [
    "# Restricao 12\n",
    "for k in D:\n",
    "    for j in N:\n",
    "        model += Q * x[k][j] >= u[k][j]"
   ]
  },
  {
   "cell_type": "markdown",
   "id": "1dcc2cbb",
   "metadata": {},
   "source": [
    "\\begin{equation}\n",
    "    Q \\cdot x_{kj} \\geq u_{kj}, \\quad \\forall k \\in D, j \\in N\n",
    "    \\tag {23}\n",
    "\\end{equation}"
   ]
  },
  {
   "cell_type": "code",
   "execution_count": 18,
   "id": "6f054f18",
   "metadata": {},
   "outputs": [],
   "source": [
    "# # Restricao 13\n",
    "# menor distancia de algum deposito ate a cidade\n",
    "d = [min([c[j, i] for j in D]) for i in N]\n",
    "# menor distancia entre cidade i e quaisquer outra cidade\n",
    "r = [min([c[j, i] for j in N if i != j]) for i in N]\n",
    "# máxima menor distancia entre duas cidades\n",
    "M = max(r)\n",
    "\n",
    "# d[i] >= r[i] <=> é mais longe ir de algum depósito do q de outra cidade => y in {0, 1}\n",
    "# d[i] < r[i] <=> é mais perto sair de algum depósito do q de qualquer outra cidade => y = 1\n",
    "for i in N:\n",
    "    model += d[i] + M * y[i] >= r[i]*w[i]"
   ]
  },
  {
   "cell_type": "markdown",
   "id": "07f22fe7",
   "metadata": {},
   "source": [
    "\\begin{equation}\n",
    "    d_{i} + M y_{i} \\geq r_{i}w_{i}, \\quad \\forall k \\in N\n",
    "    \\tag {8}\n",
    "\\end{equation}"
   ]
  },
  {
   "cell_type": "code",
   "execution_count": 19,
   "id": "0249f78b",
   "metadata": {},
   "outputs": [],
   "source": [
    "# Restricao 14\n",
    "\n",
    "for i in N:\n",
    "    k_l = D[np.argmin([c[j, i] for j in D], axis=0)]\n",
    "    model += x[k_l][i] >= y[i]"
   ]
  },
  {
   "cell_type": "markdown",
   "id": "6aa5dcad",
   "metadata": {},
   "source": [
    "\\begin{equation}\n",
    "    x_{k'i} \\geq y_{i}, \\quad \\forall i \\in N, k' = argmin(c_{ki})_{k \\in D}\n",
    "    \\tag {9}\n",
    "\\end{equation}"
   ]
  },
  {
   "cell_type": "markdown",
   "id": "cb4a70c7",
   "metadata": {},
   "source": [
    "## Calculation of distance and demand of the k-esime feasible solution"
   ]
  },
  {
   "cell_type": "code",
   "execution_count": 20,
   "id": "3b59470a",
   "metadata": {},
   "outputs": [],
   "source": [
    "dist = lambda x, k: sum([(1 if x[i][j].xi(k)>0.98 else 0) * c[i,j] for i in V for j in V if i != j])\n",
    "demanda = lambda w, k: sum((q[j] if w[j].xi(k)>0.98 else 0) for j in N)"
   ]
  },
  {
   "cell_type": "code",
   "execution_count": 32,
   "id": "05597a50",
   "metadata": {},
   "outputs": [
    {
     "name": "stdout",
     "output_type": "stream",
     "text": [
      "Gurobi Optimizer version 9.5.2 build v9.5.2rc0 (linux64)\n",
      "Thread count: 2 physical cores, 4 logical processors, using up to 4 threads\n",
      "Academic license - for non-commercial use only - registered to thiago.giachetto@aluno.ufop.edu.br\n",
      "Optimize a model with 18324 rows, 12320 columns and 59808 nonzeros\n",
      "Model fingerprint: 0xb43d348f\n",
      "Variable types: 6162 continuous, 6158 integer (6158 binary)\n",
      "Coefficient statistics:\n",
      "  Matrix range     [1e+00, 1e+04]\n",
      "  Objective range  [3e-06, 3e-02]\n",
      "  Bounds range     [1e+00, 1e+00]\n",
      "  RHS range        [1e+00, 8e+04]\n",
      "\n",
      "MIP start from previous solve produced solution with objective -0.461814 (0.07s)\n",
      "Loaded MIP start from previous solve with objective -0.461814\n",
      "\n",
      "Presolve removed 13870 rows and 6495 columns\n",
      "Presolve time: 0.49s\n",
      "Presolved: 4454 rows, 5825 columns, 21761 nonzeros\n",
      "Variable types: 2832 continuous, 2993 integer (2993 binary)\n",
      "\n",
      "Concurrent LP optimizer: dual simplex and barrier\n",
      "Showing barrier log only...\n",
      "\n",
      "Root barrier log...\n",
      "\n",
      "Ordering time: 0.07s\n",
      "\n",
      "Barrier statistics:\n",
      " AA' NZ     : 4.490e+04\n",
      " Factor NZ  : 1.872e+05 (roughly 6 MB of memory)\n",
      " Factor Ops : 1.851e+07 (less than 1 second per iteration)\n",
      " Threads    : 1\n",
      "\n",
      "                  Objective                Residual\n",
      "Iter       Primal          Dual         Primal    Dual     Compl     Time\n",
      "   0  -1.66664331e+00 -6.05834924e+04  3.63e+04 1.15e-17  7.18e+01     1s\n",
      "   1  -1.32651122e+00 -5.12326354e+04  2.05e+04 9.73e-17  3.74e+01     1s\n",
      "   2  -3.49961249e-01 -3.70801036e+04  6.29e+02 1.81e-16  3.27e+00     1s\n",
      "   3  -3.71150794e-01 -9.17606890e+03  1.05e+02 2.42e-14  6.92e-01     1s\n",
      "   4  -4.14795221e-01 -1.64109748e+03  1.45e+01 3.13e-15  1.12e-01     1s\n",
      "   5  -4.20062290e-01 -1.27520698e+02  1.55e-12 1.03e-16  7.93e-03     1s\n",
      "   6  -4.21542246e-01 -6.11280646e+00  4.59e-12 1.14e-17  3.55e-04     1s\n",
      "   7  -4.29841216e-01 -3.32083349e+00  1.85e-12 5.42e-18  1.80e-04     1s\n",
      "   8  -4.44018337e-01 -2.76064442e+00  1.02e-12 4.28e-18  1.45e-04     1s\n",
      "   9  -4.58649530e-01 -1.17086092e+00  4.72e-12 1.13e-18  4.44e-05     1s\n",
      "  10  -4.71558386e-01 -5.71973196e-01  5.85e-12 8.51e-20  6.26e-06     1s\n",
      "  11  -4.77892071e-01 -5.00591391e-01  2.02e-12 2.71e-20  1.42e-06     1s\n",
      "  12  -4.78659302e-01 -4.91533765e-01  8.53e-13 1.36e-20  8.03e-07     1s\n",
      "  13  -4.79298377e-01 -4.85675808e-01  4.55e-13 2.71e-20  3.98e-07     2s\n",
      "  14  -4.81020650e-01 -4.84355015e-01  5.83e-13 5.42e-20  2.08e-07     2s\n",
      "  15  -4.81573927e-01 -4.83781214e-01  5.26e-13 1.36e-20  1.38e-07     2s\n",
      "  16  -4.81930146e-01 -4.83274442e-01  4.55e-13 2.71e-20  8.39e-08     2s\n",
      "  17  -4.82220593e-01 -4.83048137e-01  4.55e-13 1.36e-20  5.16e-08     2s\n",
      "  18  -4.82398843e-01 -4.82880414e-01  1.04e-12 2.71e-20  3.00e-08     2s\n",
      "  19  -4.82590878e-01 -4.82805885e-01  1.58e-12 2.71e-20  1.34e-08     2s\n",
      "  20  -4.82655985e-01 -4.82754087e-01  3.00e-12 6.99e-12  6.12e-09     2s\n",
      "  21  -4.82694231e-01 -4.82729816e-01  1.92e-12 1.24e-11  2.22e-09     2s\n",
      "\n",
      "Barrier performed 21 iterations in 1.99 seconds (0.24 work units)\n",
      "Barrier solve interrupted - model solved by another algorithm\n",
      "\n",
      "\n",
      "Solved with dual simplex\n",
      "\n",
      "Root relaxation: objective -4.821710e-01, 3667 iterations, 1.40 seconds (0.13 work units)\n",
      "\n",
      "    Nodes    |    Current Node    |     Objective Bounds      |     Work\n",
      " Expl Unexpl |  Obj  Depth IntInf | Incumbent    BestBd   Gap | It/Node Time\n",
      "\n",
      "     0     0   -0.48217    0  138   -0.46181   -0.48217  4.41%     -    2s\n",
      "     0     0   -0.48217    0  143   -0.46181   -0.48217  4.41%     -    5s\n",
      "H    0     0                      -0.4624611   -0.48217  4.26%     -   10s\n",
      "     0     0   -0.48217    0  143   -0.46246   -0.48217  4.26%     -   10s\n",
      "     0     0   -0.48217    0  132   -0.46246   -0.48217  4.26%     -   12s\n",
      "H    0     0                      -0.4650886   -0.48217  3.67%     -   15s\n",
      "     0     0   -0.48217    0  128   -0.46509   -0.48217  3.67%     -   15s\n",
      "     0     0   -0.48217    0  133   -0.46509   -0.48217  3.67%     -   16s\n",
      "     0     0   -0.48217    0  132   -0.46509   -0.48217  3.67%     -   16s\n",
      "     0     0   -0.48217    0  134   -0.46509   -0.48217  3.67%     -   18s\n",
      "     0     0   -0.48217    0  134   -0.46509   -0.48217  3.67%     -   21s\n",
      "     0     2   -0.48216    0  134   -0.46509   -0.48216  3.67%     -   26s\n",
      "     9    12   -0.48216    4   97   -0.46509   -0.48216  3.67%   471   30s\n",
      "    25    39   -0.48216   12   88   -0.46509   -0.48216  3.67%   649   36s\n",
      "    38    86   -0.48216   19   81   -0.46509   -0.48216  3.67%   614   41s\n",
      "    85   138   -0.48216   42   82   -0.46509   -0.48216  3.67%   493   47s\n",
      "   137   235   -0.48216   54   76   -0.46509   -0.48216  3.67%   455   56s\n",
      "   239   271   -0.48206   80   66   -0.46509   -0.48216  3.67%   398   60s\n",
      "\n",
      "Cutting planes:\n",
      "  Gomory: 3\n",
      "  Lift-and-project: 3\n",
      "  Implied bound: 66\n",
      "  Clique: 2\n",
      "  MIR: 36\n",
      "  Flow cover: 17\n",
      "  Zero half: 2\n",
      "  RLT: 6\n",
      "  Relax-and-lift: 4\n",
      "\n",
      "Explored 275 nodes (122118 simplex iterations) in 60.01 seconds (10.60 work units)\n",
      "Thread count was 4 (of 4 available processors)\n",
      "\n",
      "Solution count 3: -0.465089 -0.462461 -0.461814 \n",
      "\n",
      "Time limit reached\n",
      "Best objective -4.650886280070e-01, best bound -4.821619744530e-01, gap 3.6710%\n",
      "\n",
      "User-callback calls 8792, time in user-callback 0.26 sec\n"
     ]
    }
   ],
   "source": [
    "# model.objective = objective(0.5, c, q, x, w)\n",
    "# model.store_search_progress_log = True\n",
    "\n",
    "# status = model.optimize(max_seconds=60)"
   ]
  },
  {
   "cell_type": "markdown",
   "id": "e83849b9",
   "metadata": {},
   "source": [
    "## Calculating the pareto front"
   ]
  },
  {
   "cell_type": "code",
   "execution_count": null,
   "id": "438ade2c",
   "metadata": {},
   "outputs": [],
   "source": [
    "import numpy as np\n",
    "\n",
    "steps = 30\n",
    "solutions_obj = set()\n",
    "\n",
    "for alfa in np.linspace(0, 1, steps, endpoint=True):\n",
    "    model.objective = objective(alfa, c, q, x, w)\n",
    "    num_solutions = 0\n",
    "    \n",
    "    for i in range(5):\n",
    "        model.threads = 2\n",
    "        status = model.optimize(max_seconds=60)\n",
    "#         status = OptimizationStatus.FEASIBLE\n",
    "    \n",
    "        if status in (OptimizationStatus.INFEASIBLE, OptimizationStatus.ERROR):\n",
    "            break\n",
    "            \n",
    "        if model.num_solutions > num_solutions:\n",
    "            num_solutions = model.num_solutions\n",
    "            \n",
    "            for k in range(model.num_solutions):\n",
    "                obj_calc = (dist(x,k), demanda(w, k))\n",
    "                \n",
    "#                 if obj_calc is not in solutions_obj:\n",
    "                solutions_obj.add(obj_calc)\n",
    "                    \n",
    "        \n",
    "        if status == OptimizationStatus.OPTIMAL:\n",
    "            break\n",
    "        \n",
    "        print(f\"number of solutions: {len(solutions_obj)}\")\n",
    "        break"
   ]
  },
  {
   "cell_type": "code",
   "execution_count": null,
   "id": "30637c4a",
   "metadata": {},
   "outputs": [],
   "source": [
    "import numpy as np\n",
    "def non_dominated(pontos):\n",
    "    \"\"\"\"\n",
    "    By Gladston Moreira\n",
    "\n",
    "    Non-dominate dynamic programming  -  O(n log n)\n",
    "\n",
    "    Input: \n",
    "    pontos = conjunto de pontos \n",
    "\n",
    "    Output:\n",
    "    (idx_non_dominated, idx_dominated) = (indice dos pontos não dominados, indice dos pontos dominados)\n",
    "\n",
    "    \"\"\"\n",
    "\n",
    "    n = pontos.shape[0] # quantidade  de pontos\n",
    "\n",
    "    dominated = np.zeros(n,dtype=bool)\n",
    "    # np.lexsort((weight, profit))\n",
    "    # ip = np.lexsort((pontos[:, 1][::1], pontos[:, 0])) # sort first column 1 and then 2 column\n",
    "    ip = np.lexsort(pontos[:,::-1].T, axis=-1)\n",
    "    pontos = pontos[ip] \n",
    "\n",
    "\n",
    "\n",
    "    D = True # Decision Variable\n",
    "\n",
    "    for i in range(n-1):\n",
    "    # store the time and the last node visited\n",
    "        if D:\n",
    "            z = pontos[i,1]\n",
    "\n",
    "        if  pontos[i+1,1] < z: # i+1 is non-dominated\n",
    "            D = True\n",
    "        else:\n",
    "            dominated[i+1] = True\n",
    "            D = False\n",
    "\n",
    "    return (ip[~dominated], ip[dominated])\n"
   ]
  },
  {
   "cell_type": "code",
   "execution_count": null,
   "id": "d8617868",
   "metadata": {},
   "outputs": [],
   "source": [
    "first_test = [[sol[0], -sol[1]] for sol in solutions_obj]\n",
    "\n",
    "idx_non_dominated, idx_dominated = non_dominated(np.array(first_test))\n",
    "\n",
    "x_plot = np.array([p[0] for p in first_test])\n",
    "y_plot = np.array([p[1] for p in first_test])\n",
    "\n",
    "fig, ax = plt.subplots(figsize=(8, 8))\n",
    "plt.title('Espírito Santo')\n",
    "plt.xlabel('Distância')\n",
    "plt.ylabel('Demanda')\n",
    "\n",
    "ax.scatter(x_plot[idx_non_dominated], y_plot[idx_non_dominated], c='tab:red', label='Non Dominated', alpha=0.5, edgecolors='none')\n",
    "ax.scatter(x_plot[idx_dominated], y_plot[idx_dominated], c='tab:blue', label='Dominated', alpha=0.5, edgecolors='none')\n",
    "\n",
    "ax.legend()\n",
    "# ax.grid(True)\n",
    "\n",
    "filename_fig = f\"{instance_name}_solver_0.png\"\n",
    "plt.savefig(filename_fig)\n",
    "\n",
    "plt.show()"
   ]
  },
  {
   "cell_type": "code",
   "execution_count": null,
   "id": "c2d1dab4",
   "metadata": {},
   "outputs": [],
   "source": [
    "def save_result(outfilepath, solutions_obj):\n",
    "    with open(outfilepath, 'w') as f:\n",
    "        f.write(\"distancia, demanda\\n\")\n",
    "\n",
    "        for sol in solutions_obj:\n",
    "            f.write(f\"{sol[0]}, {sol[1]}\\n\")"
   ]
  },
  {
   "cell_type": "code",
   "execution_count": null,
   "id": "f56f3874",
   "metadata": {},
   "outputs": [],
   "source": [
    "# outfilepath = f\"{instance_name}.csv\"\n",
    "# save_result(outfilepath, solutions_obj)"
   ]
  },
  {
   "cell_type": "code",
   "execution_count": null,
   "id": "84b30fa7",
   "metadata": {},
   "outputs": [],
   "source": [
    "# # Resolve o modelo        \n",
    "# # model.optimize(max_seconds=7200)\n",
    "# model.objective = objective(0, c, q, x, w)\n",
    "model.optimize(max_seconds=60)\n",
    "print(\"status: {} objective value : {} best possible: {}\".format(model.status, model.objective_value, model.objective_bound))"
   ]
  },
  {
   "cell_type": "code",
   "execution_count": null,
   "id": "32d91813",
   "metadata": {},
   "outputs": [],
   "source": [
    "# model.gap"
   ]
  },
  {
   "cell_type": "code",
   "execution_count": null,
   "id": "015f4605",
   "metadata": {},
   "outputs": [],
   "source": [
    "# for i in range(5):\n",
    "#     status = model.optimize(max_seconds=30)\n",
    "    \n",
    "#     if status == OptimizationStatus.OPTIMAL:\n",
    "#         print(\"found optimal\")\n",
    "#     elif status == OptimizationStatus.FEASIBLE:\n",
    "#         print(\"found feasible\")\n",
    "#     elif status == OptimizationStatus.NO_SOLUTION_FOUND:\n",
    "#         print(\"run again\")"
   ]
  },
  {
   "cell_type": "markdown",
   "id": "88bc5c05",
   "metadata": {},
   "source": [
    "---\n",
    "\n",
    "## Testando resultados"
   ]
  },
  {
   "cell_type": "code",
   "execution_count": null,
   "id": "664cfafc",
   "metadata": {},
   "outputs": [],
   "source": [
    "# # dist percorrida\n",
    "# sum([(1 if x[i][j].x>0.5 else 0) * c[i,j] for i in V for j in V if i != j])"
   ]
  },
  {
   "cell_type": "code",
   "execution_count": null,
   "id": "0f6f9981",
   "metadata": {},
   "outputs": [],
   "source": [
    "# # demanda total atendida\n",
    "# NUM_VEICULOS = sum(vehicles_depot)\n",
    "# print(f\"demanda atendida: {sum(q[j]*w[j].x for j in N)} | limite demanda: {NUM_VEICULOS*Q} | total demanda: {sum(q)}\")"
   ]
  },
  {
   "cell_type": "code",
   "execution_count": null,
   "id": "a7547485",
   "metadata": {},
   "outputs": [],
   "source": [
    "# # --- PLOTA O GRAFICO ---\n",
    "# plt.figure(figsize=(10, 6))\n",
    "# plt.scatter(coord_x[0:], coord_y[0:])\n",
    "# for i in N:\n",
    "#     plt.annotate(f\"{i}\", (coord_x[i], coord_y[i]))\n",
    "# for i in D:\n",
    "#     plt.plot(coord_x[i], coord_y[i], c = 'r', marker = 's')\n",
    "\n",
    "# for i in V:\n",
    "#     for j in V:\n",
    "#         if x[i][j].x > 0:\n",
    "#             plt.plot([coord_x[i], coord_x[j]], [coord_y[i], coord_y[j]], c='g', zorder=0)\n",
    "    \n",
    "# #escala dos eixos\n",
    "# plt.yticks([i for i in range(1,80,20)]); \n",
    "# plt.xticks([i for i in range(1,80,20)]); "
   ]
  },
  {
   "cell_type": "code",
   "execution_count": null,
   "id": "06f312ff",
   "metadata": {},
   "outputs": [],
   "source": [
    "# # para onde cada veículo vai\n",
    "# for k in D:\n",
    "#     print(f\"{k} - \", end='')\n",
    "#     print([i for i, el in enumerate(u[k]) if el.x > 0])"
   ]
  },
  {
   "cell_type": "code",
   "execution_count": null,
   "id": "db54f8a9",
   "metadata": {},
   "outputs": [],
   "source": [
    "# # caminho dos carros olhando arcos\n",
    "# for k in D:\n",
    "#     print(f\"Depot: {k}\")\n",
    "#     for i, el in enumerate(x[k]):\n",
    "#         if el.x > 0:\n",
    "#             visitados = [i]\n",
    "#             next_list = [j for j, el in enumerate(x[i]) if el.x > 0]\n",
    "#             while len(next_list) > 0:\n",
    "#                 if len(next_list) > 1:\n",
    "#                     print(f\"ERROR: {next_list}\")\n",
    "#                 next_el = next_list[0]\n",
    "#                 visitados.append(next_el)\n",
    "#                 next_list = [j for j, el in enumerate(x[next_el]) if el.x > 0]\n",
    "#             print(visitados)"
   ]
  },
  {
   "cell_type": "code",
   "execution_count": null,
   "id": "a9f8b988",
   "metadata": {},
   "outputs": [],
   "source": [
    "# # caminho dos carros olhando demanda\n",
    "# for k in D:\n",
    "#     print(f\"Depot: {k}\")\n",
    "#     for i, el in enumerate(u[k]):\n",
    "#         if int(el.x) > 0:\n",
    "#             visitados = [(i, int(el.x))]\n",
    "#             next_list = [(j, int(el.x)) for j, el in enumerate(u[i]) if int(el.x) > 0]\n",
    "#             while len(next_list) > 0:\n",
    "#                 if len(next_list) > 1:\n",
    "#                     print(f\"ERROR: {next_list}\")\n",
    "#                 next_el, value = next_list[0]\n",
    "#                 visitados.append((next_el, value))\n",
    "#                 next_list = [(j, int(el.x)) for j, el in enumerate(u[next_el]) if int(el.x) > 0]\n",
    "#             print([(*el, q[el[0]]) for el in visitados])"
   ]
  },
  {
   "cell_type": "code",
   "execution_count": null,
   "id": "9c091bd1",
   "metadata": {},
   "outputs": [],
   "source": [
    "# print(\"Cidades não atendidas\")\n",
    "\n",
    "# # cidades não atendidas (olhando arestas)\n",
    "# print(f\"aresta:  {([j for j in N if sum([x[i][j].x for i in V]) < 0.5])}\")\n",
    "\n",
    "# # nao atendidos olhando demanda\n",
    "# print(f\"demanda: {[j for j in N if (q[j] - (sum([u[i][j].x for i in V if i != j]) - sum([u[j][i].x for i in N if i != j]))) > 0.05]}\")\n",
    "\n",
    "# # nao atendidos olhando w\n",
    "# print(f\"w:       {[j for j in N if w[j].x < 0.5]}\")"
   ]
  },
  {
   "cell_type": "code",
   "execution_count": null,
   "id": "2b9fb69d",
   "metadata": {},
   "outputs": [],
   "source": [
    "# # nao atendidos olhando w\n",
    "# for j in N:\n",
    "#     if w[j].x < 0.5:\n",
    "#         print(f\"{j}-> demanda: {q[j]}\")"
   ]
  },
  {
   "cell_type": "code",
   "execution_count": null,
   "id": "b6058d70",
   "metadata": {},
   "outputs": [],
   "source": [
    "# # nao atendidos olhando demanda\n",
    "# for j in N:\n",
    "#     enter = (sum([u[i][j].x for i in V if i != j]) - sum([u[j][i].x for i in N if i != j]))\n",
    "#     if (q[j] - enter) > 0.05:\n",
    "#         print(f\"{j}-> enter: {enter}  need: {q[j]}\")"
   ]
  },
  {
   "cell_type": "code",
   "execution_count": null,
   "id": "a00189fb",
   "metadata": {},
   "outputs": [],
   "source": [
    "# # nro de veiculos por depot\n",
    "\n",
    "# for k in D:\n",
    "#     print(f\"depot {k}: {sum(x[k][i].x  for i in N)} vehicles\")"
   ]
  },
  {
   "cell_type": "code",
   "execution_count": null,
   "id": "73b70350",
   "metadata": {},
   "outputs": [],
   "source": [
    "# # cidades que tem mais de dois arcos ligadas a ela (depositos podem ter mais)\n",
    "# print([j for j in V if len([i for i in V if x[j][i].x > 0.5 or x[i][j].x > 0.5]) > 2])"
   ]
  },
  {
   "cell_type": "code",
   "execution_count": null,
   "id": "5c52af8c",
   "metadata": {},
   "outputs": [],
   "source": [
    "# print(f\"distancia media : {sum([c[el] for el in c])/len(c)}\")\n",
    "# print(f\"distancia maxima: {max([c[el] for el in c])}\")\n",
    "# print(f\"distancia minima: {min([c[el] for el in c])}\")"
   ]
  }
 ],
 "metadata": {
  "kernelspec": {
   "display_name": "Python 3 (ipykernel)",
   "language": "python",
   "name": "python3"
  },
  "language_info": {
   "codemirror_mode": {
    "name": "ipython",
    "version": 3
   },
   "file_extension": ".py",
   "mimetype": "text/x-python",
   "name": "python",
   "nbconvert_exporter": "python",
   "pygments_lexer": "ipython3",
   "version": "3.8.13"
  }
 },
 "nbformat": 4,
 "nbformat_minor": 5
}
