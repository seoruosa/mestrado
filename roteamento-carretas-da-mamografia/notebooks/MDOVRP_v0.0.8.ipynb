{
 "cells": [
  {
   "cell_type": "code",
   "execution_count": 1,
   "id": "f9811fe6",
   "metadata": {},
   "outputs": [],
   "source": [
    "import matplotlib.pyplot as plt\n",
    "from mip import *\n",
    "\n",
    "from src.read_instance import MMURP"
   ]
  },
  {
   "cell_type": "code",
   "execution_count": 4,
   "id": "a1019811",
   "metadata": {},
   "outputs": [],
   "source": [
    "instance_folder = \"Instancias\"\n",
    "instance_name = \"ES-n78-m2-Q10138_with_depot\"\n",
    "\n",
    "filepath = f\"{instance_folder}/{instance_name}.txt\""
   ]
  },
  {
   "cell_type": "code",
   "execution_count": 5,
   "id": "1e00a48e",
   "metadata": {},
   "outputs": [],
   "source": [
    "N, D, V, Q, max_dist_nodes, q, c, vehicles_depot, coord_x, coord_y = MMURP(filepath)"
   ]
  },
  {
   "cell_type": "markdown",
   "id": "4838d9cf",
   "metadata": {},
   "source": [
    "Usando a formulação $MDOVRP_{2i− flv}$ de Lalla-Ruiz e Mes (2019)\n",
    "\n",
    "\n",
    "    Lalla-Ruiz, Eduardo, and Martijn Mes. \"Mathematical formulations and improvements for the multi-depot open vehicle routing problem.\" Optimization Letters 15 (2021): 271-286."
   ]
  },
  {
   "cell_type": "code",
   "execution_count": 6,
   "id": "01d8fe4c",
   "metadata": {},
   "outputs": [
    {
     "name": "stdout",
     "output_type": "stream",
     "text": [
      "[76, 77]\n",
      "[4, 4]\n"
     ]
    }
   ],
   "source": [
    "print(D)\n",
    "print(vehicles_depot)"
   ]
  },
  {
   "cell_type": "code",
   "execution_count": 7,
   "id": "c9529a24",
   "metadata": {},
   "outputs": [
    {
     "name": "stdout",
     "output_type": "stream",
     "text": [
      "Set parameter WLSAccessID\n",
      "Set parameter WLSSecret\n",
      "Set parameter LicenseID\n",
      "Academic license - for non-commercial use only - registered to thiago.giachetto@aluno.ufop.edu.br\n"
     ]
    }
   ],
   "source": [
    "#cria o modelo\n",
    "model = Model('MMURP', solver_name = GUROBI)\n",
    "\n",
    "# Variaveis de decisao\n",
    "x = [[model.add_var(var_type=BINARY) if i!=j else model.add_var(lb=0, ub=0) for i in V] for j in V]\n",
    "u = [[model.add_var(var_type=CONTINUOUS) if i!=j else model.add_var(lb=0, ub=0) for i in V] for j in V]\n",
    "y = [model.add_var(var_type=BINARY) for i in N]\n",
    "w = [model.add_var(var_type=BINARY) for i in N]"
   ]
  },
  {
   "cell_type": "markdown",
   "id": "1f372e41",
   "metadata": {},
   "source": [
    "\\begin{equation}\n",
    "\\label{eq:9}\n",
    "    x_{ij} \\in \\{0, 1\\}, \\quad \\forall i, j \\in V\n",
    "\\end{equation}\n",
    "\n",
    "\\begin{equation}\n",
    "\\label{eq:10}\n",
    "    u_{ij} \\geq 0, \\quad \\forall i, j \\in V\n",
    "\\end{equation}\n",
    "\n",
    "\\begin{equation}\n",
    "\\label{eq:10.1}\n",
    "    w_{j} \\in \\{0, 1\\}, \\quad \\forall j \\in N\n",
    "\\end{equation}"
   ]
  },
  {
   "cell_type": "code",
   "execution_count": 14,
   "id": "df7333f9",
   "metadata": {},
   "outputs": [],
   "source": [
    "def objective(alfa, c, q, x, w):\n",
    "    A = alfa\n",
    "    B = 1 - alfa\n",
    "    \n",
    "    norm_dist = sum([c[i,j] for i in V for j in V if j>i])\n",
    "    norm_dem = sum(q)\n",
    "    \n",
    "    \n",
    "    return minimize(A/norm_dist*xsum(x[i][j] * c[i,j] for i in V for j in V if i != j) - \\\n",
    "                    B/norm_dem*xsum(q[j]*w[j] for j in N))"
   ]
  },
  {
   "cell_type": "markdown",
   "id": "9f0a71b8",
   "metadata": {},
   "source": [
    "\\begin{equation}\n",
    "\\label{eq:1}\n",
    " Minimizar \\quad A\\sum_{i \\in V }\\sum_{j \\in V} c_{ij}x_{ij} - B\\sum_{j \\in N} q_{j}w_{j}\n",
    "\\end{equation}"
   ]
  },
  {
   "cell_type": "code",
   "execution_count": 16,
   "id": "92b252b3",
   "metadata": {},
   "outputs": [],
   "source": [
    "# Restricao 3\n",
    "for j in N:\n",
    "    model += xsum(x[i][j] for i in V if i != j) == w[j]"
   ]
  },
  {
   "cell_type": "markdown",
   "id": "28582e4c",
   "metadata": {},
   "source": [
    "\\begin{equation}\n",
    "    \\sum_{i \\in V, i \\neq j}x_{ij} = w_{j}, \\quad \\forall j \\in N\n",
    "    \\tag{2}\n",
    "\\end{equation}"
   ]
  },
  {
   "cell_type": "code",
   "execution_count": 15,
   "id": "c9f1e2f8",
   "metadata": {},
   "outputs": [],
   "source": [
    "# Restricao 4 - quantidade veiculos por deposito\n",
    "\n",
    "for pos, k in enumerate(D):\n",
    "    model += xsum(x[k][i] for i in N) <= vehicles_depot[pos]"
   ]
  },
  {
   "cell_type": "code",
   "execution_count": 17,
   "id": "396b1ab0",
   "metadata": {},
   "outputs": [
    {
     "name": "stdout",
     "output_type": "stream",
     "text": [
      "Warning for adding constraints: zero or small (< 1e-13) coefficients, ignored\n"
     ]
    }
   ],
   "source": [
    "# Restricao 5 -> na demanda relacionado ao limite de caminhões\n",
    "\n",
    "model += xsum(q[j]*w[j] for j in N) <= sum(vehicles_depot)*Q"
   ]
  },
  {
   "cell_type": "code",
   "execution_count": 18,
   "id": "fff01815",
   "metadata": {},
   "outputs": [],
   "source": [
    "# Restricao 6 -> de distancia maxima entre duas cidades\n",
    "\n",
    "for i in V:\n",
    "    for j in V:\n",
    "        if i != j:\n",
    "            model += c[i,j]*x[i][j] <= max_dist_nodes"
   ]
  },
  {
   "cell_type": "code",
   "execution_count": 19,
   "id": "757f89bf",
   "metadata": {},
   "outputs": [],
   "source": [
    "# Restricao 7\n",
    "\n",
    "for j in N:\n",
    "    model += (xsum(x[i][j] for i in V if i != j) - xsum(x[j][i] for i in N if i != j)) >= 0"
   ]
  },
  {
   "cell_type": "markdown",
   "id": "974c8d82",
   "metadata": {},
   "source": [
    "\\begin{equation}\n",
    "    \\sum_{i \\in V, i \\neq j}x_{ij} - \\sum_{i \\in N, i \\neq j}x_{ji} \\geq 0, \\quad \\forall j \\in N\n",
    "    \\tag {18}\n",
    "\\end{equation}"
   ]
  },
  {
   "cell_type": "code",
   "execution_count": 20,
   "id": "ffc541d1",
   "metadata": {},
   "outputs": [],
   "source": [
    "# Restricao 8\n",
    "for i in V:\n",
    "    for j in V:\n",
    "        if i != j:\n",
    "            model += x[i][j] + x[j][i] <= 1"
   ]
  },
  {
   "cell_type": "markdown",
   "id": "1de49cac",
   "metadata": {},
   "source": [
    "\\begin{equation}\n",
    "    x_{ij} + x_{ji} \\leq 1, \\quad \\forall i, j \\in V, i \\neq j\n",
    "    \\tag {19}\n",
    "\\end{equation}"
   ]
  },
  {
   "cell_type": "code",
   "execution_count": 21,
   "id": "f3d76e13",
   "metadata": {},
   "outputs": [],
   "source": [
    "# Restricao 9\n",
    "# Ninguem volta para o depósito\n",
    "model += xsum(x[j][k] for k in D for j in V) == 0"
   ]
  },
  {
   "cell_type": "markdown",
   "id": "e6cb5d2e",
   "metadata": {},
   "source": [
    "\\begin{equation}\n",
    "    \\sum_{k \\in D}\\sum_{j \\in V}x_{jk} = 0\n",
    "    \\tag {20}\n",
    "\\end{equation}"
   ]
  },
  {
   "cell_type": "code",
   "execution_count": 22,
   "id": "e51b3904",
   "metadata": {},
   "outputs": [],
   "source": [
    "# Restricao 10 -> se cidade não é atendida, restrição é esquecida\n",
    "for j in N:\n",
    "    model += (xsum(u[i][j] for i in V if i != j) - xsum(u[j][i] for i in V if i != j) - q[j]) >= -Q*(1 - w[j])"
   ]
  },
  {
   "cell_type": "markdown",
   "id": "81c2e8d9",
   "metadata": {},
   "source": [
    "\\begin{equation}\n",
    "    (\\sum_{i \\in V, i \\neq j}u_{ij} - \\sum_{i \\in V, i \\neq j}u_{ji}) - q_{j} \\geq -Q(1 - w_{j}), \\quad \\forall j \\in N\n",
    "    \\tag {21}\n",
    "\\end{equation}\n",
    "\n",
    "    Wolsey, Laurence A. Integer programming (pp. 11). John Wiley & Sons, 2020."
   ]
  },
  {
   "cell_type": "code",
   "execution_count": 23,
   "id": "c57c3ae9",
   "metadata": {},
   "outputs": [],
   "source": [
    "#Restricao 11\n",
    "for i in N:\n",
    "    for j in N:\n",
    "        model += (Q - q[i])*x[i][j] >= u[i][j]"
   ]
  },
  {
   "cell_type": "markdown",
   "id": "f1875dfb",
   "metadata": {},
   "source": [
    "\\begin{equation}\n",
    "    (Q - q_i) \\cdot x_{ij} \\geq u_{ij}, \\quad \\forall i, j \\in N\n",
    "    \\tag {22}\n",
    "\\end{equation}"
   ]
  },
  {
   "cell_type": "code",
   "execution_count": 24,
   "id": "ac8a59fd",
   "metadata": {},
   "outputs": [],
   "source": [
    "# Restricao 12\n",
    "for k in D:\n",
    "    for j in N:\n",
    "        model += Q * x[k][j] >= u[k][j]"
   ]
  },
  {
   "cell_type": "markdown",
   "id": "1dcc2cbb",
   "metadata": {},
   "source": [
    "\\begin{equation}\n",
    "    Q \\cdot x_{kj} \\geq u_{kj}, \\quad \\forall k \\in D, j \\in N\n",
    "    \\tag {23}\n",
    "\\end{equation}"
   ]
  },
  {
   "cell_type": "code",
   "execution_count": 25,
   "id": "6f054f18",
   "metadata": {},
   "outputs": [],
   "source": [
    "# # Restricao 13\n",
    "# menor distancia de algum deposito ate a cidade\n",
    "d = [min([c[j, i] for j in D]) for i in N]\n",
    "# menor distancia entre cidade i e quaisquer outra cidade\n",
    "r = [min([c[j, i] for j in N if i != j]) for i in N]\n",
    "# máxima menor distancia entre duas cidades\n",
    "M = max(r)\n",
    "\n",
    "# d[i] >= r[i] <=> é mais longe ir de algum depósito do q de outra cidade => y in {0, 1}\n",
    "# d[i] < r[i] <=> é mais perto sair de algum depósito do q de qualquer outra cidade => y = 1\n",
    "for i in N:\n",
    "    model += d[i] + M * y[i] >= r[i]*w[i]"
   ]
  },
  {
   "cell_type": "markdown",
   "id": "07f22fe7",
   "metadata": {},
   "source": [
    "\\begin{equation}\n",
    "    d_{i} + M y_{i} \\geq r_{i}w_{i}, \\quad \\forall k \\in N\n",
    "    \\tag {8}\n",
    "\\end{equation}"
   ]
  },
  {
   "cell_type": "code",
   "execution_count": 26,
   "id": "0249f78b",
   "metadata": {},
   "outputs": [],
   "source": [
    "# Restricao 14\n",
    "\n",
    "for i in N:\n",
    "    k_l = D[np.argmin([c[j, i] for j in D], axis=0)]\n",
    "    model += x[k_l][i] >= y[i]"
   ]
  },
  {
   "cell_type": "markdown",
   "id": "6aa5dcad",
   "metadata": {},
   "source": [
    "\\begin{equation}\n",
    "    x_{k'i} \\geq y_{i}, \\quad \\forall i \\in N, k' = argmin(c_{ki})_{k \\in D}\n",
    "    \\tag {9}\n",
    "\\end{equation}"
   ]
  },
  {
   "cell_type": "markdown",
   "id": "cb4a70c7",
   "metadata": {},
   "source": [
    "## Calculation of distance and demand of the k-esime feasible solution"
   ]
  },
  {
   "cell_type": "code",
   "execution_count": 28,
   "id": "3b59470a",
   "metadata": {},
   "outputs": [],
   "source": [
    "dist = lambda x, k: sum([(1 if x[i][j].xi(k)>0.98 else 0) * c[i,j] for i in V for j in V if i != j])\n",
    "demanda = lambda w, k: sum((q[j] if w[j].xi(k)>0.98 else 0) for j in N)"
   ]
  },
  {
   "cell_type": "markdown",
   "id": "e83849b9",
   "metadata": {},
   "source": [
    "## Calculating the pareto front"
   ]
  },
  {
   "cell_type": "code",
   "execution_count": null,
   "id": "438ade2c",
   "metadata": {},
   "outputs": [
    {
     "name": "stdout",
     "output_type": "stream",
     "text": [
      "Gurobi Optimizer version 9.5.2 build v9.5.2rc0 (linux64)\n",
      "Thread count: 2 physical cores, 4 logical processors, using up to 2 threads\n",
      "Academic license - for non-commercial use only - registered to thiago.giachetto@aluno.ufop.edu.br\n",
      "Optimize a model with 18324 rows, 12320 columns and 59808 nonzeros\n",
      "Model fingerprint: 0x5d3d1e55\n",
      "Variable types: 6162 continuous, 6158 integer (6158 binary)\n",
      "Coefficient statistics:\n",
      "  Matrix range     [1e+00, 1e+04]\n",
      "  Objective range  [4e-03, 5e-02]\n",
      "  Bounds range     [1e+00, 1e+00]\n",
      "  RHS range        [1e+00, 8e+04]\n",
      "\n",
      "MIP start from previous solve produced solution with objective -0.936502 (0.01s)\n",
      "Loaded MIP start from previous solve with objective -0.936502\n",
      "\n",
      "Presolve removed 13870 rows and 6495 columns\n",
      "Presolve time: 0.11s\n",
      "Presolved: 4454 rows, 5825 columns, 21761 nonzeros\n",
      "Variable types: 2832 continuous, 2993 integer (2993 binary)\n",
      "\n",
      "Concurrent LP optimizer: dual simplex and barrier\n",
      "Showing barrier log only...\n",
      "\n",
      "Root barrier log...\n",
      "\n",
      "Ordering time: 0.02s\n",
      "\n",
      "Barrier statistics:\n",
      " AA' NZ     : 4.490e+04\n",
      " Factor NZ  : 1.872e+05 (roughly 6 MB of memory)\n",
      " Factor Ops : 1.851e+07 (less than 1 second per iteration)\n",
      " Threads    : 1\n",
      "\n",
      "                  Objective                Residual\n",
      "Iter       Primal          Dual         Primal    Dual     Compl     Time\n",
      "   0  -6.17957849e+00 -6.05838750e+04  3.63e+04 1.32e-17  7.18e+01     0s\n",
      "   1  -4.27564956e+00 -5.12309279e+04  2.05e+04 9.71e-17  3.74e+01     0s\n",
      "   2  -7.60939085e-01 -3.70782621e+04  6.28e+02 1.50e-15  3.27e+00     0s\n",
      "   3  -7.63018407e-01 -9.13735130e+03  1.05e+02 2.10e-14  6.90e-01     0s\n",
      "   4  -8.43119710e-01 -1.60327163e+03  1.52e+01 3.85e-16  1.10e-01     0s\n",
      "   5  -8.53535693e-01 -1.24097662e+02  3.55e-13 5.29e-17  7.69e-03     0s\n",
      "   6  -8.60784581e-01 -1.32192278e+01  7.25e-13 8.82e-18  7.71e-04     0s\n",
      "   7  -8.84088364e-01 -8.23723698e+00  7.53e-13 5.18e-18  4.59e-04     0s\n",
      "   8  -9.21992260e-01 -3.34457291e+00  6.54e-12 1.48e-18  1.51e-04     0s\n",
      "   9  -9.52759365e-01 -1.38094583e+00  1.44e-12 2.25e-19  2.67e-05     0s\n",
      "  10  -9.68244656e-01 -9.90501392e-01  1.53e-12 1.63e-19  1.39e-06     0s\n",
      "\n",
      "Barrier performed 10 iterations in 0.24 seconds (0.19 work units)\n",
      "Barrier solve interrupted - model solved by another algorithm\n",
      "\n",
      "\n",
      "Solved with dual simplex\n",
      "\n",
      "Root relaxation: objective -9.683923e-01, 1984 iterations, 0.12 seconds (0.08 work units)\n",
      "\n",
      "    Nodes    |    Current Node    |     Objective Bounds      |     Work\n",
      " Expl Unexpl |  Obj  Depth IntInf | Incumbent    BestBd   Gap | It/Node Time\n",
      "\n",
      "     0     0   -0.96839    0   14   -0.93650   -0.96839  3.41%     -    0s\n",
      "     0     0   -0.96839    0   50   -0.93650   -0.96839  3.41%     -    1s\n",
      "H    0     0                      -0.9376724   -0.96839  3.28%     -    1s\n",
      "     0     0   -0.96839    0   50   -0.93767   -0.96839  3.28%     -    1s\n",
      "     0     0   -0.96839    0   21   -0.93767   -0.96839  3.28%     -    2s\n",
      "     0     0   -0.96839    0   21   -0.93767   -0.96839  3.28%     -    2s\n",
      "     0     0   -0.96839    0   30   -0.93767   -0.96839  3.28%     -    2s\n",
      "     0     0   -0.96839    0   17   -0.93767   -0.96839  3.28%     -    2s\n",
      "     0     0   -0.96839    0   13   -0.93767   -0.96839  3.28%     -    3s\n",
      "     0     2   -0.96839    0   13   -0.93767   -0.96839  3.28%     -    3s\n",
      "    43    53   -0.96721   21   30   -0.93767   -0.96839  3.28%   441    5s\n",
      "   546   515   -0.95085   32   32   -0.93767   -0.96839  3.28%   213   10s\n",
      "   735   601   -0.96839   15   43   -0.93767   -0.96839  3.28%   237   15s\n",
      "   771   645   -0.96232   24   55   -0.93767   -0.96839  3.28%   260   20s\n",
      "   817   708   -0.96839   37   21   -0.93767   -0.96839  3.28%   295   25s\n",
      "   871   782   -0.96506   47   34   -0.93767   -0.96839  3.28%   315   30s\n",
      "  1119  1020   -0.96839   36   52   -0.93767   -0.96839  3.28%   370   38s\n",
      "  1323  1033   -0.96839   50   38   -0.93767   -0.96839  3.28%   378   43s\n",
      "  1412  1157   -0.96839   35   21   -0.93767   -0.96839  3.28%   426   49s\n",
      "  1599  1251   -0.96839   35   29   -0.93767   -0.96839  3.28%   440   54s\n",
      "  1762  1403   -0.95887   79   48   -0.93767   -0.96839  3.28%   447   59s\n",
      "  1968  1347   -0.95887  155   38   -0.93767   -0.96839  3.28%   432   60s\n",
      "\n",
      "Explored 1981 nodes (900924 simplex iterations) in 60.00 seconds (65.17 work units)\n",
      "Thread count was 2 (of 4 available processors)\n",
      "\n",
      "Solution count 2: -0.937672 -0.936502 \n",
      "\n",
      "Time limit reached\n",
      "Best objective -9.376723860014e-01, best bound -9.683923037472e-01, gap 3.2762%\n",
      "number of solutions: 2\n",
      "Gurobi Optimizer version 9.5.2 build v9.5.2rc0 (linux64)\n",
      "Thread count: 2 physical cores, 4 logical processors, using up to 2 threads\n",
      "Academic license - for non-commercial use only - registered to thiago.giachetto@aluno.ufop.edu.br\n",
      "Optimize a model with 18324 rows, 12320 columns and 59808 nonzeros\n",
      "Model fingerprint: 0x827b21ac\n",
      "Variable types: 6162 continuous, 6158 integer (6158 binary)\n",
      "Coefficient statistics:\n",
      "  Matrix range     [1e+00, 1e+04]\n",
      "  Objective range  [2e-07, 5e-02]\n",
      "  Bounds range     [1e+00, 1e+00]\n",
      "  RHS range        [1e+00, 8e+04]\n",
      "\n",
      "MIP start from previous solve produced solution with objective -0.904901 (0.01s)\n",
      "Loaded MIP start from previous solve with objective -0.904901\n",
      "\n",
      "Presolve removed 13870 rows and 6495 columns\n",
      "Presolve time: 0.11s\n",
      "Presolved: 4454 rows, 5825 columns, 21761 nonzeros\n",
      "Variable types: 2832 continuous, 2993 integer (2993 binary)\n",
      "Found heuristic solution: objective -0.9049058\n",
      "\n",
      "Concurrent LP optimizer: dual simplex and barrier\n",
      "Showing barrier log only...\n",
      "\n",
      "Root barrier log...\n",
      "\n",
      "Ordering time: 0.02s\n",
      "\n",
      "Barrier statistics:\n",
      " AA' NZ     : 4.490e+04\n",
      " Factor NZ  : 1.872e+05 (roughly 6 MB of memory)\n",
      " Factor Ops : 1.851e+07 (less than 1 second per iteration)\n",
      " Threads    : 1\n",
      "\n",
      "                  Objective                Residual\n",
      "Iter       Primal          Dual         Primal    Dual     Compl     Time\n",
      "   0  -5.86834005e+00 -6.05838486e+04  3.63e+04 1.14e-17  7.18e+01     0s\n",
      "   1  -4.07226700e+00 -5.12310513e+04  2.05e+04 1.11e-16  3.74e+01     0s\n",
      "   2  -7.32567476e-01 -3.70784073e+04  6.28e+02 3.33e-16  3.27e+00     0s\n",
      "   3  -7.35966018e-01 -9.14023207e+03  1.05e+02 2.95e-16  6.90e-01     0s\n",
      "   4  -8.13569159e-01 -1.60670404e+03  1.52e+01 1.01e-16  1.11e-01     0s\n",
      "   5  -8.23633985e-01 -1.24077666e+02  9.09e-13 5.40e-17  7.69e-03     0s\n",
      "   6  -8.30382903e-01 -1.32714333e+01  3.98e-13 9.30e-18  7.76e-04     0s\n",
      "   7  -8.52809318e-01 -7.74918629e+00  5.40e-13 4.95e-18  4.30e-04     0s\n",
      "   8  -8.77897344e-01 -3.00063747e+00  3.55e-13 1.25e-18  1.32e-04     0s\n",
      "   9  -9.21183463e-01 -1.41309831e+00  1.59e-12 2.44e-19  3.07e-05     0s\n",
      "  10  -9.34398999e-01 -9.72756695e-01  4.69e-13 5.42e-20  2.39e-06     0s\n",
      "  11  -9.34536684e-01 -9.39756420e-01  1.29e-12 5.42e-20  3.26e-07     0s\n",
      "  12  -9.34586454e-01 -9.35697365e-01  7.53e-13 5.42e-20  6.93e-08     0s\n",
      "  13  -9.34683041e-01 -9.35151063e-01  3.69e-13 2.71e-20  2.92e-08     0s\n",
      "\n",
      "Barrier performed 13 iterations in 0.26 seconds (0.20 work units)\n",
      "Barrier solve interrupted - model solved by another algorithm\n",
      "\n",
      "\n",
      "Solved with dual simplex\n",
      "\n",
      "Root relaxation: objective -9.346446e-01, 1878 iterations, 0.13 seconds (0.09 work units)\n",
      "\n",
      "    Nodes    |    Current Node    |     Objective Bounds      |     Work\n",
      " Expl Unexpl |  Obj  Depth IntInf | Incumbent    BestBd   Gap | It/Node Time\n",
      "\n",
      "     0     0   -0.93464    0  137   -0.90491   -0.93464  3.29%     -    0s\n",
      "     0     0   -0.93464    0  138   -0.90491   -0.93464  3.29%     -    1s\n",
      "H    0     0                      -0.9049164   -0.93464  3.29%     -    2s\n",
      "     0     0   -0.93464    0  132   -0.90492   -0.93464  3.29%     -    2s\n",
      "     0     0   -0.93464    0  121   -0.90492   -0.93464  3.29%     -    2s\n",
      "     0     0   -0.93464    0  103   -0.90492   -0.93464  3.29%     -    2s\n",
      "     0     0   -0.93464    0   91   -0.90492   -0.93464  3.29%     -    3s\n",
      "     0     0   -0.93464    0   86   -0.90492   -0.93464  3.29%     -    3s\n",
      "     0     0   -0.93464    0   80   -0.90492   -0.93464  3.29%     -    3s\n",
      "     0     0   -0.93464    0   69   -0.90492   -0.93464  3.29%     -    3s\n",
      "     0     0   -0.93464    0   73   -0.90492   -0.93464  3.29%     -    3s\n",
      "     0     0   -0.93464    0   70   -0.90492   -0.93464  3.29%     -    3s\n",
      "     0     0   -0.93464    0   62   -0.90492   -0.93464  3.29%     -    3s\n",
      "H    0     0                      -0.9052274   -0.93464  3.25%     -    6s\n",
      "     0     0   -0.93464    0   52   -0.90523   -0.93464  3.25%     -    6s\n",
      "     0     0   -0.93464    0   64   -0.90523   -0.93464  3.25%     -    6s\n",
      "     0     0   -0.93464    0   64   -0.90523   -0.93464  3.25%     -    6s\n"
     ]
    },
    {
     "name": "stdout",
     "output_type": "stream",
     "text": [
      "     0     2   -0.93464    0   64   -0.90523   -0.93464  3.25%     -    6s\n",
      "H   34    36                      -0.9100131   -0.93464  2.71%   459    8s\n",
      "   192   153   -0.93196    9   37   -0.91001   -0.93464  2.71%   218   10s\n",
      "   527   437   -0.92867   57   19   -0.91001   -0.93464  2.71%   194   15s\n",
      "H  727   506                      -0.9116119   -0.93461  2.52%   191   19s\n",
      "   729   508   -0.93461   13  148   -0.91161   -0.93461  2.52%   190   21s\n",
      "   742   521   -0.93461   18  126   -0.91161   -0.93461  2.52%   198   25s\n",
      "H  759   505                      -0.9116169   -0.93461  2.52%   201   27s\n",
      "   787   567   -0.93461   31  115   -0.91162   -0.93461  2.52%   204   31s\n",
      "H  833   567                      -0.9116207   -0.93461  2.52%   205   33s\n",
      "   872   595   -0.92123   37  109   -0.91162   -0.93461  2.52%   206   35s\n",
      "  1075   969   -0.93461   34  110   -0.91162   -0.93461  2.52%   209   41s\n",
      "  1662  1084   -0.92601  112   89   -0.91162   -0.93461  2.52%   189   45s\n",
      "H 1719  1042                      -0.9116210   -0.93461  2.52%   189   45s\n",
      "  2016  1367   -0.92605  234   77   -0.91162   -0.93461  2.52%   191   51s\n",
      "  2541  1879   -0.92601  512   82   -0.91162   -0.93461  2.52%   196   55s\n",
      "H 2585  1879                      -0.9116253   -0.93461  2.52%   195   55s\n",
      "  3071  2397   -0.92596  816   59   -0.91163   -0.93461  2.52%   191   60s\n",
      "\n",
      "Cutting planes:\n",
      "  Lift-and-project: 1\n",
      "  Implied bound: 5\n",
      "  MIR: 6\n",
      "  Flow cover: 3\n",
      "  RLT: 4\n",
      "\n",
      "Explored 3251 nodes (608629 simplex iterations) in 60.00 seconds (52.66 work units)\n",
      "Thread count was 2 (of 4 available processors)\n",
      "\n",
      "Solution count 10: -0.911625 -0.911621 -0.911621 ... -0.904901\n",
      "\n",
      "Time limit reached\n",
      "Best objective -9.116253131668e-01, best bound -9.346072513946e-01, gap 2.5210%\n",
      "number of solutions: 11\n",
      "Gurobi Optimizer version 9.5.2 build v9.5.2rc0 (linux64)\n",
      "Thread count: 2 physical cores, 4 logical processors, using up to 2 threads\n",
      "Academic license - for non-commercial use only - registered to thiago.giachetto@aluno.ufop.edu.br\n",
      "Optimize a model with 18324 rows, 12320 columns and 59808 nonzeros\n",
      "Model fingerprint: 0x073819ec\n",
      "Variable types: 6162 continuous, 6158 integer (6158 binary)\n",
      "Coefficient statistics:\n",
      "  Matrix range     [1e+00, 1e+04]\n",
      "  Objective range  [4e-07, 5e-02]\n",
      "  Bounds range     [1e+00, 1e+00]\n",
      "  RHS range        [1e+00, 8e+04]\n",
      "\n",
      "MIP start from previous solve produced solution with objective -0.878677 (0.01s)\n",
      "Loaded MIP start from previous solve with objective -0.878677\n",
      "\n",
      "Presolve removed 13870 rows and 6495 columns\n",
      "Presolve time: 0.12s\n",
      "Presolved: 4454 rows, 5825 columns, 21761 nonzeros\n",
      "Variable types: 2832 continuous, 2993 integer (2993 binary)\n",
      "\n",
      "Concurrent LP optimizer: dual simplex and barrier\n",
      "Showing barrier log only...\n",
      "\n",
      "Root barrier log...\n",
      "\n",
      "Ordering time: 0.02s\n",
      "\n",
      "Barrier statistics:\n",
      " AA' NZ     : 4.490e+04\n",
      " Factor NZ  : 1.872e+05 (roughly 6 MB of memory)\n",
      " Factor Ops : 1.851e+07 (less than 1 second per iteration)\n",
      " Threads    : 1\n",
      "\n",
      "                  Objective                Residual\n",
      "Iter       Primal          Dual         Primal    Dual     Compl     Time\n",
      "   0  -5.55710174e+00 -6.05838222e+04  3.63e+04 7.67e-18  7.18e+01     0s\n",
      "   1  -3.86888341e+00 -5.12311742e+04  2.05e+04 1.11e-16  3.74e+01     0s\n",
      "   2  -7.04200094e-01 -3.70785510e+04  6.28e+02 3.52e-16  3.27e+00     0s\n",
      "   3  -7.08917637e-01 -9.14309649e+03  1.05e+02 6.31e-16  6.90e-01     0s\n",
      "   4  -7.84020508e-01 -1.61005347e+03  1.51e+01 5.56e-16  1.11e-01     0s\n",
      "   5  -7.93735815e-01 -1.24037382e+02  9.24e-13 5.12e-17  7.69e-03     0s\n",
      "   6  -8.00005288e-01 -1.32794039e+01  1.34e-12 9.03e-18  7.79e-04     0s\n",
      "   7  -8.21629387e-01 -7.32026191e+00  8.38e-13 4.50e-18  4.05e-04     0s\n",
      "\n",
      "Barrier performed 7 iterations in 0.23 seconds (0.17 work units)\n",
      "Barrier solve interrupted - model solved by another algorithm\n",
      "\n",
      "\n",
      "Solved with dual simplex\n",
      "\n",
      "Root relaxation: objective -9.009358e-01, 1593 iterations, 0.09 seconds (0.06 work units)\n",
      "\n",
      "    Nodes    |    Current Node    |     Objective Bounds      |     Work\n",
      " Expl Unexpl |  Obj  Depth IntInf | Incumbent    BestBd   Gap | It/Node Time\n",
      "\n",
      "     0     0   -0.90094    0  144   -0.87868   -0.90094  2.53%     -    0s\n",
      "     0     0   -0.90094    0  148   -0.87868   -0.90094  2.53%     -    1s\n",
      "H    0     0                      -0.8786920   -0.90094  2.53%     -    2s\n",
      "     0     0   -0.90094    0  148   -0.87869   -0.90094  2.53%     -    2s\n",
      "     0     0   -0.90094    0  143   -0.87869   -0.90094  2.53%     -    3s\n",
      "     0     0   -0.90094    0  137   -0.87869   -0.90094  2.53%     -    3s\n",
      "     0     0   -0.90094    0  137   -0.87869   -0.90094  2.53%     -    3s\n",
      "     0     0   -0.90094    0  137   -0.87869   -0.90094  2.53%     -    3s\n",
      "     0     2   -0.90094    0  137   -0.87869   -0.90094  2.53%     -    3s\n",
      "    49    67   -0.90059   28   29   -0.87869   -0.90094  2.53%   438    6s\n",
      "H   59    67                      -0.8786931   -0.90094  2.53%   383    6s\n",
      "   278   245   -0.89652   45   28   -0.87869   -0.90094  2.53%   213   10s\n",
      "   781   633   -0.89524  111  167   -0.87869   -0.90088  2.52%   178   15s\n",
      "   785   639   -0.90088   15  143   -0.87869   -0.90088  2.52%   181   21s\n",
      "   814   662   -0.89964   21  102   -0.87869   -0.90088  2.52%   190   26s\n",
      "H  818   629                      -0.8787033   -0.90088  2.52%   190   26s\n"
     ]
    }
   ],
   "source": [
    "import numpy as np\n",
    "\n",
    "steps = 30\n",
    "solutions_obj = set()\n",
    "\n",
    "for alfa in np.linspace(0, 1, steps, endpoint=True):\n",
    "    model.objective = objective(alfa, c, q, x, w)\n",
    "    num_solutions = 0\n",
    "    \n",
    "    for i in range(5):\n",
    "        model.threads = 2\n",
    "        status = model.optimize(max_seconds=60)\n",
    "#         status = OptimizationStatus.FEASIBLE\n",
    "    \n",
    "        if status in (OptimizationStatus.INFEASIBLE, OptimizationStatus.ERROR):\n",
    "            break\n",
    "            \n",
    "        if model.num_solutions > num_solutions:\n",
    "            num_solutions = model.num_solutions\n",
    "            \n",
    "            for k in range(model.num_solutions):\n",
    "                obj_calc = (dist(x,k), demanda(w, k))\n",
    "                \n",
    "#                 if obj_calc is not in solutions_obj:\n",
    "                solutions_obj.add(obj_calc)\n",
    "                    \n",
    "        \n",
    "        if status == OptimizationStatus.OPTIMAL:\n",
    "            break\n",
    "        \n",
    "        print(f\"number of solutions: {len(solutions_obj)}\")\n",
    "        break"
   ]
  },
  {
   "cell_type": "code",
   "execution_count": null,
   "id": "30637c4a",
   "metadata": {},
   "outputs": [],
   "source": [
    "import numpy as np\n",
    "def non_dominated(pontos):\n",
    "    \"\"\"\"\n",
    "    By Gladston Moreira\n",
    "\n",
    "    Non-dominate dynamic programming  -  O(n log n)\n",
    "\n",
    "    Input: \n",
    "    pontos = conjunto de pontos \n",
    "\n",
    "    Output:\n",
    "    (idx_non_dominated, idx_dominated) = (indice dos pontos não dominados, indice dos pontos dominados)\n",
    "\n",
    "    \"\"\"\n",
    "\n",
    "    n = pontos.shape[0] # quantidade  de pontos\n",
    "\n",
    "    dominated = np.zeros(n,dtype=bool)\n",
    "    # np.lexsort((weight, profit))\n",
    "    # ip = np.lexsort((pontos[:, 1][::1], pontos[:, 0])) # sort first column 1 and then 2 column\n",
    "    ip = np.lexsort(pontos[:,::-1].T, axis=-1)\n",
    "    pontos = pontos[ip] \n",
    "\n",
    "\n",
    "\n",
    "    D = True # Decision Variable\n",
    "\n",
    "    for i in range(n-1):\n",
    "    # store the time and the last node visited\n",
    "        if D:\n",
    "            z = pontos[i,1]\n",
    "\n",
    "        if  pontos[i+1,1] < z: # i+1 is non-dominated\n",
    "            D = True\n",
    "        else:\n",
    "            dominated[i+1] = True\n",
    "            D = False\n",
    "\n",
    "    return (ip[~dominated], ip[dominated])\n"
   ]
  },
  {
   "cell_type": "code",
   "execution_count": null,
   "id": "d8617868",
   "metadata": {},
   "outputs": [],
   "source": [
    "first_test = [[sol[0], -sol[1]] for sol in solutions_obj]\n",
    "\n",
    "idx_non_dominated, idx_dominated = non_dominated(np.array(first_test))\n",
    "\n",
    "x_plot = np.array([p[0] for p in first_test])\n",
    "y_plot = np.array([p[1] for p in first_test])\n",
    "\n",
    "fig, ax = plt.subplots(figsize=(8, 8))\n",
    "plt.title('Espírito Santo')\n",
    "plt.xlabel('Distância')\n",
    "plt.ylabel('Demanda')\n",
    "\n",
    "ax.scatter(x_plot[idx_non_dominated], y_plot[idx_non_dominated], c='tab:red', label='Non Dominated', alpha=0.5, edgecolors='none')\n",
    "ax.scatter(x_plot[idx_dominated], y_plot[idx_dominated], c='tab:blue', label='Dominated', alpha=0.5, edgecolors='none')\n",
    "\n",
    "ax.legend()\n",
    "# ax.grid(True)\n",
    "\n",
    "filename_fig = f\"{instance_name}_solver_0.png\"\n",
    "plt.savefig(filename_fig)\n",
    "\n",
    "plt.show()"
   ]
  },
  {
   "cell_type": "code",
   "execution_count": null,
   "id": "c2d1dab4",
   "metadata": {},
   "outputs": [],
   "source": [
    "def save_result(outfilepath, solutions_obj):\n",
    "    with open(outfilepath, 'w') as f:\n",
    "        f.write(\"distancia, demanda\\n\")\n",
    "\n",
    "        for sol in solutions_obj:\n",
    "            f.write(f\"{sol[0]}, {sol[1]}\\n\")"
   ]
  },
  {
   "cell_type": "code",
   "execution_count": null,
   "id": "f56f3874",
   "metadata": {},
   "outputs": [],
   "source": [
    "# outfilepath = f\"{instance_name}.csv\"\n",
    "# save_result(outfilepath, solutions_obj)"
   ]
  },
  {
   "cell_type": "code",
   "execution_count": null,
   "id": "84b30fa7",
   "metadata": {},
   "outputs": [],
   "source": [
    "# # Resolve o modelo        \n",
    "# # model.optimize(max_seconds=7200)\n",
    "# model.objective = objective(0, c, q, x, w)\n",
    "model.optimize(max_seconds=60)\n",
    "print(\"status: {} objective value : {} best possible: {}\".format(model.status, model.objective_value, model.objective_bound))"
   ]
  },
  {
   "cell_type": "code",
   "execution_count": null,
   "id": "32d91813",
   "metadata": {},
   "outputs": [],
   "source": [
    "# model.gap"
   ]
  },
  {
   "cell_type": "code",
   "execution_count": null,
   "id": "015f4605",
   "metadata": {},
   "outputs": [],
   "source": [
    "# for i in range(5):\n",
    "#     status = model.optimize(max_seconds=30)\n",
    "    \n",
    "#     if status == OptimizationStatus.OPTIMAL:\n",
    "#         print(\"found optimal\")\n",
    "#     elif status == OptimizationStatus.FEASIBLE:\n",
    "#         print(\"found feasible\")\n",
    "#     elif status == OptimizationStatus.NO_SOLUTION_FOUND:\n",
    "#         print(\"run again\")"
   ]
  },
  {
   "cell_type": "markdown",
   "id": "88bc5c05",
   "metadata": {},
   "source": [
    "---\n",
    "\n",
    "## Testando resultados"
   ]
  },
  {
   "cell_type": "code",
   "execution_count": null,
   "id": "664cfafc",
   "metadata": {},
   "outputs": [],
   "source": [
    "# # dist percorrida\n",
    "# sum([(1 if x[i][j].x>0.5 else 0) * c[i,j] for i in V for j in V if i != j])"
   ]
  },
  {
   "cell_type": "code",
   "execution_count": null,
   "id": "0f6f9981",
   "metadata": {},
   "outputs": [],
   "source": [
    "# # demanda total atendida\n",
    "# NUM_VEICULOS = sum(vehicles_depot)\n",
    "# print(f\"demanda atendida: {sum(q[j]*w[j].x for j in N)} | limite demanda: {NUM_VEICULOS*Q} | total demanda: {sum(q)}\")"
   ]
  },
  {
   "cell_type": "code",
   "execution_count": null,
   "id": "a7547485",
   "metadata": {},
   "outputs": [],
   "source": [
    "# # --- PLOTA O GRAFICO ---\n",
    "# plt.figure(figsize=(10, 6))\n",
    "# plt.scatter(coord_x[0:], coord_y[0:])\n",
    "# for i in N:\n",
    "#     plt.annotate(f\"{i}\", (coord_x[i], coord_y[i]))\n",
    "# for i in D:\n",
    "#     plt.plot(coord_x[i], coord_y[i], c = 'r', marker = 's')\n",
    "\n",
    "# for i in V:\n",
    "#     for j in V:\n",
    "#         if x[i][j].x > 0:\n",
    "#             plt.plot([coord_x[i], coord_x[j]], [coord_y[i], coord_y[j]], c='g', zorder=0)\n",
    "    \n",
    "# #escala dos eixos\n",
    "# plt.yticks([i for i in range(1,80,20)]); \n",
    "# plt.xticks([i for i in range(1,80,20)]); "
   ]
  },
  {
   "cell_type": "code",
   "execution_count": null,
   "id": "06f312ff",
   "metadata": {},
   "outputs": [],
   "source": [
    "# # para onde cada veículo vai\n",
    "# for k in D:\n",
    "#     print(f\"{k} - \", end='')\n",
    "#     print([i for i, el in enumerate(u[k]) if el.x > 0])"
   ]
  },
  {
   "cell_type": "code",
   "execution_count": null,
   "id": "db54f8a9",
   "metadata": {},
   "outputs": [],
   "source": [
    "# # caminho dos carros olhando arcos\n",
    "# for k in D:\n",
    "#     print(f\"Depot: {k}\")\n",
    "#     for i, el in enumerate(x[k]):\n",
    "#         if el.x > 0:\n",
    "#             visitados = [i]\n",
    "#             next_list = [j for j, el in enumerate(x[i]) if el.x > 0]\n",
    "#             while len(next_list) > 0:\n",
    "#                 if len(next_list) > 1:\n",
    "#                     print(f\"ERROR: {next_list}\")\n",
    "#                 next_el = next_list[0]\n",
    "#                 visitados.append(next_el)\n",
    "#                 next_list = [j for j, el in enumerate(x[next_el]) if el.x > 0]\n",
    "#             print(visitados)"
   ]
  },
  {
   "cell_type": "code",
   "execution_count": null,
   "id": "a9f8b988",
   "metadata": {},
   "outputs": [],
   "source": [
    "# # caminho dos carros olhando demanda\n",
    "# for k in D:\n",
    "#     print(f\"Depot: {k}\")\n",
    "#     for i, el in enumerate(u[k]):\n",
    "#         if int(el.x) > 0:\n",
    "#             visitados = [(i, int(el.x))]\n",
    "#             next_list = [(j, int(el.x)) for j, el in enumerate(u[i]) if int(el.x) > 0]\n",
    "#             while len(next_list) > 0:\n",
    "#                 if len(next_list) > 1:\n",
    "#                     print(f\"ERROR: {next_list}\")\n",
    "#                 next_el, value = next_list[0]\n",
    "#                 visitados.append((next_el, value))\n",
    "#                 next_list = [(j, int(el.x)) for j, el in enumerate(u[next_el]) if int(el.x) > 0]\n",
    "#             print([(*el, q[el[0]]) for el in visitados])"
   ]
  },
  {
   "cell_type": "code",
   "execution_count": null,
   "id": "9c091bd1",
   "metadata": {},
   "outputs": [],
   "source": [
    "# print(\"Cidades não atendidas\")\n",
    "\n",
    "# # cidades não atendidas (olhando arestas)\n",
    "# print(f\"aresta:  {([j for j in N if sum([x[i][j].x for i in V]) < 0.5])}\")\n",
    "\n",
    "# # nao atendidos olhando demanda\n",
    "# print(f\"demanda: {[j for j in N if (q[j] - (sum([u[i][j].x for i in V if i != j]) - sum([u[j][i].x for i in N if i != j]))) > 0.05]}\")\n",
    "\n",
    "# # nao atendidos olhando w\n",
    "# print(f\"w:       {[j for j in N if w[j].x < 0.5]}\")"
   ]
  },
  {
   "cell_type": "code",
   "execution_count": null,
   "id": "2b9fb69d",
   "metadata": {},
   "outputs": [],
   "source": [
    "# # nao atendidos olhando w\n",
    "# for j in N:\n",
    "#     if w[j].x < 0.5:\n",
    "#         print(f\"{j}-> demanda: {q[j]}\")"
   ]
  },
  {
   "cell_type": "code",
   "execution_count": null,
   "id": "b6058d70",
   "metadata": {},
   "outputs": [],
   "source": [
    "# # nao atendidos olhando demanda\n",
    "# for j in N:\n",
    "#     enter = (sum([u[i][j].x for i in V if i != j]) - sum([u[j][i].x for i in N if i != j]))\n",
    "#     if (q[j] - enter) > 0.05:\n",
    "#         print(f\"{j}-> enter: {enter}  need: {q[j]}\")"
   ]
  },
  {
   "cell_type": "code",
   "execution_count": null,
   "id": "a00189fb",
   "metadata": {},
   "outputs": [],
   "source": [
    "# # nro de veiculos por depot\n",
    "\n",
    "# for k in D:\n",
    "#     print(f\"depot {k}: {sum(x[k][i].x  for i in N)} vehicles\")"
   ]
  },
  {
   "cell_type": "code",
   "execution_count": null,
   "id": "73b70350",
   "metadata": {},
   "outputs": [],
   "source": [
    "# # cidades que tem mais de dois arcos ligadas a ela (depositos podem ter mais)\n",
    "# print([j for j in V if len([i for i in V if x[j][i].x > 0.5 or x[i][j].x > 0.5]) > 2])"
   ]
  },
  {
   "cell_type": "code",
   "execution_count": null,
   "id": "5c52af8c",
   "metadata": {},
   "outputs": [],
   "source": [
    "# print(f\"distancia media : {sum([c[el] for el in c])/len(c)}\")\n",
    "# print(f\"distancia maxima: {max([c[el] for el in c])}\")\n",
    "# print(f\"distancia minima: {min([c[el] for el in c])}\")"
   ]
  }
 ],
 "metadata": {
  "kernelspec": {
   "display_name": "Python 3 (ipykernel)",
   "language": "python",
   "name": "python3"
  },
  "language_info": {
   "codemirror_mode": {
    "name": "ipython",
    "version": 3
   },
   "file_extension": ".py",
   "mimetype": "text/x-python",
   "name": "python",
   "nbconvert_exporter": "python",
   "pygments_lexer": "ipython3",
   "version": "3.8.13"
  }
 },
 "nbformat": 4,
 "nbformat_minor": 5
}
