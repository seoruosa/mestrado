{
 "cells": [
  {
   "cell_type": "code",
   "execution_count": 1,
   "id": "f9811fe6",
   "metadata": {},
   "outputs": [],
   "source": [
    "import matplotlib.pyplot as plt\n",
    "from mip import *\n",
    "\n",
    "from src.read_instance import MMURP"
   ]
  },
  {
   "cell_type": "code",
   "execution_count": 2,
   "id": "a1019811",
   "metadata": {},
   "outputs": [],
   "source": [
    "instance_folder = \"Instancias\"\n",
    "instance_name = \"ES-n78-m2-Q10138_with_depot\"\n",
    "\n",
    "filepath = f\"{instance_folder}/{instance_name}.txt\""
   ]
  },
  {
   "cell_type": "code",
   "execution_count": 3,
   "id": "1e00a48e",
   "metadata": {},
   "outputs": [],
   "source": [
    "N, D, V, Q, max_dist_nodes, q, c, vehicles_depot, coord_x, coord_y = MMURP(filepath)"
   ]
  },
  {
   "cell_type": "markdown",
   "id": "4838d9cf",
   "metadata": {},
   "source": [
    "Usando a formulação $MDOVRP_{2i− flv}$ de Lalla-Ruiz e Mes (2019)\n",
    "\n",
    "\n",
    "    Lalla-Ruiz, Eduardo, and Martijn Mes. \"Mathematical formulations and improvements for the multi-depot open vehicle routing problem.\" Optimization Letters 15 (2021): 271-286."
   ]
  },
  {
   "cell_type": "code",
   "execution_count": 4,
   "id": "01d8fe4c",
   "metadata": {},
   "outputs": [
    {
     "name": "stdout",
     "output_type": "stream",
     "text": [
      "[76, 77]\n",
      "[4, 4]\n"
     ]
    }
   ],
   "source": [
    "print(D)\n",
    "print(vehicles_depot)"
   ]
  },
  {
   "cell_type": "code",
   "execution_count": 5,
   "id": "c9529a24",
   "metadata": {},
   "outputs": [
    {
     "name": "stdout",
     "output_type": "stream",
     "text": [
      "Set parameter WLSAccessID\n",
      "Set parameter WLSSecret\n",
      "Set parameter LicenseID\n",
      "Academic license - for non-commercial use only - registered to thiago.giachetto@aluno.ufop.edu.br\n"
     ]
    }
   ],
   "source": [
    "#cria o modelo\n",
    "model = Model('MMURP', solver_name = GUROBI)\n",
    "\n",
    "# Variaveis de decisao\n",
    "x = [[model.add_var(var_type=BINARY) if i!=j else model.add_var(lb=0, ub=0) for i in V] for j in V]\n",
    "u = [[model.add_var(var_type=CONTINUOUS) if i!=j else model.add_var(lb=0, ub=0) for i in V] for j in V]\n",
    "y = [model.add_var(var_type=BINARY) for i in N]\n",
    "w = [model.add_var(var_type=BINARY) for i in N]"
   ]
  },
  {
   "cell_type": "markdown",
   "id": "1f372e41",
   "metadata": {},
   "source": [
    "\\begin{equation}\n",
    "\\label{eq:9}\n",
    "    x_{ij} \\in \\{0, 1\\}, \\quad \\forall i, j \\in V\n",
    "\\end{equation}\n",
    "\n",
    "\\begin{equation}\n",
    "\\label{eq:10}\n",
    "    u_{ij} \\geq 0, \\quad \\forall i, j \\in V\n",
    "\\end{equation}\n",
    "\n",
    "\\begin{equation}\n",
    "\\label{eq:10.1}\n",
    "    w_{j} \\in \\{0, 1\\}, \\quad \\forall j \\in N\n",
    "\\end{equation}"
   ]
  },
  {
   "cell_type": "code",
   "execution_count": 6,
   "id": "df7333f9",
   "metadata": {},
   "outputs": [],
   "source": [
    "def objective(alfa, c, q, x, w):\n",
    "    A = alfa\n",
    "    B = 1 - alfa\n",
    "    \n",
    "    norm_dist = sum([c[i,j] for i in V for j in V if j>i])\n",
    "    norm_dem = sum(q)\n",
    "    \n",
    "    \n",
    "    return minimize(A/norm_dist*xsum(x[i][j] * c[i,j] for i in V for j in V if i != j) - \\\n",
    "                    B/norm_dem*xsum(q[j]*w[j] for j in N))"
   ]
  },
  {
   "cell_type": "markdown",
   "id": "9f0a71b8",
   "metadata": {},
   "source": [
    "\\begin{equation}\n",
    "\\label{eq:1}\n",
    " Minimizar \\quad A\\sum_{i \\in V }\\sum_{j \\in V} c_{ij}x_{ij} - B\\sum_{j \\in N} q_{j}w_{j}\n",
    "\\end{equation}"
   ]
  },
  {
   "cell_type": "code",
   "execution_count": 7,
   "id": "92b252b3",
   "metadata": {},
   "outputs": [],
   "source": [
    "# Restricao 3\n",
    "for j in N:\n",
    "    model += xsum(x[i][j] for i in V if i != j) == w[j]"
   ]
  },
  {
   "cell_type": "markdown",
   "id": "28582e4c",
   "metadata": {},
   "source": [
    "\\begin{equation}\n",
    "    \\sum_{i \\in V, i \\neq j}x_{ij} = w_{j}, \\quad \\forall j \\in N\n",
    "    \\tag{2}\n",
    "\\end{equation}"
   ]
  },
  {
   "cell_type": "code",
   "execution_count": 8,
   "id": "c9f1e2f8",
   "metadata": {},
   "outputs": [],
   "source": [
    "# Restricao 4 - quantidade veiculos por deposito\n",
    "\n",
    "for pos, k in enumerate(D):\n",
    "    model += xsum(x[k][i] for i in N) <= vehicles_depot[pos]"
   ]
  },
  {
   "cell_type": "code",
   "execution_count": 9,
   "id": "396b1ab0",
   "metadata": {},
   "outputs": [],
   "source": [
    "# Restricao 5 -> na demanda relacionado ao limite de caminhões\n",
    "\n",
    "model += xsum(q[j]*w[j] for j in N if q[j]>0) <= sum(vehicles_depot)*Q"
   ]
  },
  {
   "cell_type": "code",
   "execution_count": null,
   "id": "368c1a8e",
   "metadata": {},
   "outputs": [],
   "source": [
    "# vehicles_depot\n",
    "for pos, k in enumerate(D):\n",
    "    print(f\"{k}-{vehicles_depot[pos]}\")\n",
    "\n",
    "print(sum(vehicles_depot)*Q)\n",
    "print([f\"{j}-{q[j]}\" for j in N if q[j]>0])"
   ]
  },
  {
   "cell_type": "code",
   "execution_count": 10,
   "id": "fff01815",
   "metadata": {},
   "outputs": [],
   "source": [
    "# Restricao 6 -> de distancia maxima entre duas cidades\n",
    "\n",
    "for i in V:\n",
    "    for j in V:\n",
    "        if i != j:\n",
    "            model += c[i,j]*x[i][j] <= max_dist_nodes"
   ]
  },
  {
   "cell_type": "code",
   "execution_count": 11,
   "id": "757f89bf",
   "metadata": {},
   "outputs": [],
   "source": [
    "# Restricao 7\n",
    "\n",
    "for j in N:\n",
    "    model += (xsum(x[i][j] for i in V if i != j) - xsum(x[j][i] for i in N if i != j)) >= 0"
   ]
  },
  {
   "cell_type": "markdown",
   "id": "974c8d82",
   "metadata": {},
   "source": [
    "\\begin{equation}\n",
    "    \\sum_{i \\in V, i \\neq j}x_{ij} - \\sum_{i \\in N, i \\neq j}x_{ji} \\geq 0, \\quad \\forall j \\in N\n",
    "    \\tag {18}\n",
    "\\end{equation}"
   ]
  },
  {
   "cell_type": "code",
   "execution_count": 12,
   "id": "ffc541d1",
   "metadata": {},
   "outputs": [],
   "source": [
    "# Restricao 8\n",
    "for i in V:\n",
    "    for j in V:\n",
    "        if i != j:\n",
    "            model += x[i][j] + x[j][i] <= 1"
   ]
  },
  {
   "cell_type": "markdown",
   "id": "1de49cac",
   "metadata": {},
   "source": [
    "\\begin{equation}\n",
    "    x_{ij} + x_{ji} \\leq 1, \\quad \\forall i, j \\in V, i \\neq j\n",
    "    \\tag {19}\n",
    "\\end{equation}"
   ]
  },
  {
   "cell_type": "code",
   "execution_count": 13,
   "id": "f3d76e13",
   "metadata": {},
   "outputs": [],
   "source": [
    "# Restricao 9\n",
    "# Ninguem volta para o depósito\n",
    "model += xsum(x[j][k] for k in D for j in V) == 0"
   ]
  },
  {
   "cell_type": "markdown",
   "id": "e6cb5d2e",
   "metadata": {},
   "source": [
    "\\begin{equation}\n",
    "    \\sum_{k \\in D}\\sum_{j \\in V}x_{jk} = 0\n",
    "    \\tag {20}\n",
    "\\end{equation}"
   ]
  },
  {
   "cell_type": "code",
   "execution_count": 14,
   "id": "e51b3904",
   "metadata": {},
   "outputs": [],
   "source": [
    "# Restricao 10 -> se cidade não é atendida, restrição é esquecida\n",
    "for j in N:\n",
    "    model += (xsum(u[i][j] for i in V if i != j) - xsum(u[j][i] for i in V if i != j) - q[j]) >= -Q*(1 - w[j])"
   ]
  },
  {
   "cell_type": "markdown",
   "id": "81c2e8d9",
   "metadata": {},
   "source": [
    "\\begin{equation}\n",
    "    (\\sum_{i \\in V, i \\neq j}u_{ij} - \\sum_{i \\in V, i \\neq j}u_{ji}) - q_{j} \\geq -Q(1 - w_{j}), \\quad \\forall j \\in N\n",
    "    \\tag {21}\n",
    "\\end{equation}\n",
    "\n",
    "    Wolsey, Laurence A. Integer programming (pp. 11). John Wiley & Sons, 2020."
   ]
  },
  {
   "cell_type": "code",
   "execution_count": 15,
   "id": "c57c3ae9",
   "metadata": {},
   "outputs": [],
   "source": [
    "#Restricao 11\n",
    "for i in N:\n",
    "    for j in N:\n",
    "        model += (Q - q[i])*x[i][j] >= u[i][j]"
   ]
  },
  {
   "cell_type": "markdown",
   "id": "f1875dfb",
   "metadata": {},
   "source": [
    "\\begin{equation}\n",
    "    (Q - q_i) \\cdot x_{ij} \\geq u_{ij}, \\quad \\forall i, j \\in N\n",
    "    \\tag {22}\n",
    "\\end{equation}"
   ]
  },
  {
   "cell_type": "code",
   "execution_count": 16,
   "id": "ac8a59fd",
   "metadata": {},
   "outputs": [],
   "source": [
    "# Restricao 12\n",
    "for k in D:\n",
    "    for j in N:\n",
    "        model += Q * x[k][j] >= u[k][j]"
   ]
  },
  {
   "cell_type": "markdown",
   "id": "1dcc2cbb",
   "metadata": {},
   "source": [
    "\\begin{equation}\n",
    "    Q \\cdot x_{kj} \\geq u_{kj}, \\quad \\forall k \\in D, j \\in N\n",
    "    \\tag {23}\n",
    "\\end{equation}"
   ]
  },
  {
   "cell_type": "code",
   "execution_count": 17,
   "id": "6f054f18",
   "metadata": {},
   "outputs": [],
   "source": [
    "# # Restricao 13\n",
    "# menor distancia de algum deposito ate a cidade\n",
    "d = [min([c[j, i] for j in D]) for i in N]\n",
    "# menor distancia entre cidade i e quaisquer outra cidade\n",
    "r = [min([c[j, i] for j in N if i != j]) for i in N]\n",
    "# máxima menor distancia entre duas cidades\n",
    "M = max(r)\n",
    "\n",
    "# d[i] >= r[i] <=> é mais longe ir de algum depósito do q de outra cidade => y in {0, 1}\n",
    "# d[i] < r[i] <=> é mais perto sair de algum depósito do q de qualquer outra cidade => y = 1\n",
    "for i in N:\n",
    "    model += d[i] + M * y[i] >= r[i]*w[i]"
   ]
  },
  {
   "cell_type": "markdown",
   "id": "07f22fe7",
   "metadata": {},
   "source": [
    "\\begin{equation}\n",
    "    d_{i} + M y_{i} \\geq r_{i}w_{i}, \\quad \\forall k \\in N\n",
    "    \\tag {8}\n",
    "\\end{equation}"
   ]
  },
  {
   "cell_type": "code",
   "execution_count": 18,
   "id": "0249f78b",
   "metadata": {},
   "outputs": [],
   "source": [
    "# Restricao 14\n",
    "\n",
    "for i in N:\n",
    "    k_l = D[np.argmin([c[j, i] for j in D], axis=0)]\n",
    "    model += x[k_l][i] >= y[i]"
   ]
  },
  {
   "cell_type": "markdown",
   "id": "6aa5dcad",
   "metadata": {},
   "source": [
    "\\begin{equation}\n",
    "    x_{k'i} \\geq y_{i}, \\quad \\forall i \\in N, k' = argmin(c_{ki})_{k \\in D}\n",
    "    \\tag {9}\n",
    "\\end{equation}"
   ]
  },
  {
   "cell_type": "markdown",
   "id": "cb4a70c7",
   "metadata": {},
   "source": [
    "## Calculation of distance and demand of the k-esime feasible solution"
   ]
  },
  {
   "cell_type": "code",
   "execution_count": null,
   "id": "3b59470a",
   "metadata": {},
   "outputs": [],
   "source": [
    "dist = lambda x, k: sum([(1 if x[i][j].xi(k)>0.98 else 0) * c[i,j] for i in V for j in V if i != j])\n",
    "demanda = lambda w, k: sum((q[j] if w[j].xi(k)>0.98 else 0) for j in N)"
   ]
  },
  {
   "cell_type": "markdown",
   "id": "e83849b9",
   "metadata": {},
   "source": [
    "## Calculating the pareto front"
   ]
  },
  {
   "cell_type": "code",
   "execution_count": null,
   "id": "438ade2c",
   "metadata": {},
   "outputs": [],
   "source": [
    "import numpy as np\n",
    "\n",
    "steps = 30\n",
    "solutions_obj = set()\n",
    "\n",
    "for alfa in np.linspace(0, 1, steps, endpoint=True):\n",
    "    model.objective = objective(alfa, c, q, x, w)\n",
    "    num_solutions = 0\n",
    "    \n",
    "    for i in range(5):\n",
    "        model.threads = 2\n",
    "        status = model.optimize(max_seconds=60)\n",
    "#         status = OptimizationStatus.FEASIBLE\n",
    "    \n",
    "        if status in (OptimizationStatus.INFEASIBLE, OptimizationStatus.ERROR):\n",
    "            break\n",
    "            \n",
    "        if model.num_solutions > num_solutions:\n",
    "            num_solutions = model.num_solutions\n",
    "            \n",
    "            for k in range(model.num_solutions):\n",
    "                obj_calc = (dist(x,k), demanda(w, k))\n",
    "                \n",
    "#                 if obj_calc is not in solutions_obj:\n",
    "                solutions_obj.add(obj_calc)\n",
    "                    \n",
    "        \n",
    "        if status == OptimizationStatus.OPTIMAL:\n",
    "            break\n",
    "        \n",
    "        print(f\"number of solutions: {len(solutions_obj)}\")\n",
    "        break"
   ]
  },
  {
   "cell_type": "code",
   "execution_count": null,
   "id": "30637c4a",
   "metadata": {},
   "outputs": [],
   "source": [
    "import numpy as np\n",
    "def non_dominated(pontos):\n",
    "    \"\"\"\"\n",
    "    By Gladston Moreira\n",
    "\n",
    "    Non-dominate dynamic programming  -  O(n log n)\n",
    "\n",
    "    Input: \n",
    "    pontos = conjunto de pontos \n",
    "\n",
    "    Output:\n",
    "    (idx_non_dominated, idx_dominated) = (indice dos pontos não dominados, indice dos pontos dominados)\n",
    "\n",
    "    \"\"\"\n",
    "\n",
    "    n = pontos.shape[0] # quantidade  de pontos\n",
    "\n",
    "    dominated = np.zeros(n,dtype=bool)\n",
    "    # np.lexsort((weight, profit))\n",
    "    # ip = np.lexsort((pontos[:, 1][::1], pontos[:, 0])) # sort first column 1 and then 2 column\n",
    "    ip = np.lexsort(pontos[:,::-1].T, axis=-1)\n",
    "    pontos = pontos[ip] \n",
    "\n",
    "\n",
    "\n",
    "    D = True # Decision Variable\n",
    "\n",
    "    for i in range(n-1):\n",
    "    # store the time and the last node visited\n",
    "        if D:\n",
    "            z = pontos[i,1]\n",
    "\n",
    "        if  pontos[i+1,1] < z: # i+1 is non-dominated\n",
    "            D = True\n",
    "        else:\n",
    "            dominated[i+1] = True\n",
    "            D = False\n",
    "\n",
    "    return (ip[~dominated], ip[dominated])\n"
   ]
  },
  {
   "cell_type": "code",
   "execution_count": null,
   "id": "d8617868",
   "metadata": {},
   "outputs": [],
   "source": [
    "first_test = [[sol[0], -sol[1]] for sol in solutions_obj]\n",
    "\n",
    "idx_non_dominated, idx_dominated = non_dominated(np.array(first_test))\n",
    "\n",
    "x_plot = np.array([p[0] for p in first_test])\n",
    "y_plot = np.array([p[1] for p in first_test])\n",
    "\n",
    "fig, ax = plt.subplots(figsize=(8, 8))\n",
    "plt.title('Espírito Santo')\n",
    "plt.xlabel('Distância')\n",
    "plt.ylabel('Demanda')\n",
    "\n",
    "ax.scatter(x_plot[idx_non_dominated], y_plot[idx_non_dominated], c='tab:red', label='Non Dominated', alpha=0.5, edgecolors='none')\n",
    "ax.scatter(x_plot[idx_dominated], y_plot[idx_dominated], c='tab:blue', label='Dominated', alpha=0.5, edgecolors='none')\n",
    "\n",
    "ax.legend()\n",
    "# ax.grid(True)\n",
    "\n",
    "filename_fig = f\"{instance_name}_solver_0.png\"\n",
    "plt.savefig(filename_fig)\n",
    "\n",
    "plt.show()"
   ]
  },
  {
   "cell_type": "code",
   "execution_count": null,
   "id": "c2d1dab4",
   "metadata": {},
   "outputs": [],
   "source": [
    "def save_result(outfilepath, solutions_obj):\n",
    "    with open(outfilepath, 'w') as f:\n",
    "        f.write(\"distancia, demanda\\n\")\n",
    "\n",
    "        for sol in solutions_obj:\n",
    "            f.write(f\"{sol[0]}, {sol[1]}\\n\")"
   ]
  },
  {
   "cell_type": "code",
   "execution_count": null,
   "id": "f56f3874",
   "metadata": {},
   "outputs": [],
   "source": [
    "# outfilepath = f\"{instance_name}.csv\"\n",
    "# save_result(outfilepath, solutions_obj)"
   ]
  },
  {
   "cell_type": "code",
   "execution_count": null,
   "id": "84b30fa7",
   "metadata": {},
   "outputs": [],
   "source": [
    "# # Resolve o modelo        \n",
    "# # model.optimize(max_seconds=7200)\n",
    "# model.objective = objective(0, c, q, x, w)\n",
    "model.optimize(max_seconds=60)\n",
    "print(\"status: {} objective value : {} best possible: {}\".format(model.status, model.objective_value, model.objective_bound))"
   ]
  },
  {
   "cell_type": "code",
   "execution_count": null,
   "id": "32d91813",
   "metadata": {},
   "outputs": [],
   "source": [
    "# model.gap"
   ]
  },
  {
   "cell_type": "code",
   "execution_count": null,
   "id": "015f4605",
   "metadata": {},
   "outputs": [],
   "source": [
    "# for i in range(5):\n",
    "#     status = model.optimize(max_seconds=30)\n",
    "    \n",
    "#     if status == OptimizationStatus.OPTIMAL:\n",
    "#         print(\"found optimal\")\n",
    "#     elif status == OptimizationStatus.FEASIBLE:\n",
    "#         print(\"found feasible\")\n",
    "#     elif status == OptimizationStatus.NO_SOLUTION_FOUND:\n",
    "#         print(\"run again\")"
   ]
  },
  {
   "cell_type": "markdown",
   "id": "88bc5c05",
   "metadata": {},
   "source": [
    "---\n",
    "\n",
    "## Testando resultados"
   ]
  },
  {
   "cell_type": "code",
   "execution_count": null,
   "id": "664cfafc",
   "metadata": {},
   "outputs": [],
   "source": [
    "# # dist percorrida\n",
    "# sum([(1 if x[i][j].x>0.5 else 0) * c[i,j] for i in V for j in V if i != j])"
   ]
  },
  {
   "cell_type": "code",
   "execution_count": null,
   "id": "0f6f9981",
   "metadata": {},
   "outputs": [],
   "source": [
    "# # demanda total atendida\n",
    "# NUM_VEICULOS = sum(vehicles_depot)\n",
    "# print(f\"demanda atendida: {sum(q[j]*w[j].x for j in N)} | limite demanda: {NUM_VEICULOS*Q} | total demanda: {sum(q)}\")"
   ]
  },
  {
   "cell_type": "code",
   "execution_count": null,
   "id": "a7547485",
   "metadata": {},
   "outputs": [],
   "source": [
    "# # --- PLOTA O GRAFICO ---\n",
    "# plt.figure(figsize=(10, 6))\n",
    "# plt.scatter(coord_x[0:], coord_y[0:])\n",
    "# for i in N:\n",
    "#     plt.annotate(f\"{i}\", (coord_x[i], coord_y[i]))\n",
    "# for i in D:\n",
    "#     plt.plot(coord_x[i], coord_y[i], c = 'r', marker = 's')\n",
    "\n",
    "# for i in V:\n",
    "#     for j in V:\n",
    "#         if x[i][j].x > 0:\n",
    "#             plt.plot([coord_x[i], coord_x[j]], [coord_y[i], coord_y[j]], c='g', zorder=0)\n",
    "    \n",
    "# #escala dos eixos\n",
    "# plt.yticks([i for i in range(1,80,20)]); \n",
    "# plt.xticks([i for i in range(1,80,20)]); "
   ]
  },
  {
   "cell_type": "code",
   "execution_count": null,
   "id": "06f312ff",
   "metadata": {},
   "outputs": [],
   "source": [
    "# # para onde cada veículo vai\n",
    "# for k in D:\n",
    "#     print(f\"{k} - \", end='')\n",
    "#     print([i for i, el in enumerate(u[k]) if el.x > 0])"
   ]
  },
  {
   "cell_type": "code",
   "execution_count": null,
   "id": "db54f8a9",
   "metadata": {},
   "outputs": [],
   "source": [
    "# # caminho dos carros olhando arcos\n",
    "# for k in D:\n",
    "#     print(f\"Depot: {k}\")\n",
    "#     for i, el in enumerate(x[k]):\n",
    "#         if el.x > 0:\n",
    "#             visitados = [i]\n",
    "#             next_list = [j for j, el in enumerate(x[i]) if el.x > 0]\n",
    "#             while len(next_list) > 0:\n",
    "#                 if len(next_list) > 1:\n",
    "#                     print(f\"ERROR: {next_list}\")\n",
    "#                 next_el = next_list[0]\n",
    "#                 visitados.append(next_el)\n",
    "#                 next_list = [j for j, el in enumerate(x[next_el]) if el.x > 0]\n",
    "#             print(visitados)"
   ]
  },
  {
   "cell_type": "code",
   "execution_count": null,
   "id": "a9f8b988",
   "metadata": {},
   "outputs": [],
   "source": [
    "# # caminho dos carros olhando demanda\n",
    "# for k in D:\n",
    "#     print(f\"Depot: {k}\")\n",
    "#     for i, el in enumerate(u[k]):\n",
    "#         if int(el.x) > 0:\n",
    "#             visitados = [(i, int(el.x))]\n",
    "#             next_list = [(j, int(el.x)) for j, el in enumerate(u[i]) if int(el.x) > 0]\n",
    "#             while len(next_list) > 0:\n",
    "#                 if len(next_list) > 1:\n",
    "#                     print(f\"ERROR: {next_list}\")\n",
    "#                 next_el, value = next_list[0]\n",
    "#                 visitados.append((next_el, value))\n",
    "#                 next_list = [(j, int(el.x)) for j, el in enumerate(u[next_el]) if int(el.x) > 0]\n",
    "#             print([(*el, q[el[0]]) for el in visitados])"
   ]
  },
  {
   "cell_type": "code",
   "execution_count": null,
   "id": "9c091bd1",
   "metadata": {},
   "outputs": [],
   "source": [
    "# print(\"Cidades não atendidas\")\n",
    "\n",
    "# # cidades não atendidas (olhando arestas)\n",
    "# print(f\"aresta:  {([j for j in N if sum([x[i][j].x for i in V]) < 0.5])}\")\n",
    "\n",
    "# # nao atendidos olhando demanda\n",
    "# print(f\"demanda: {[j for j in N if (q[j] - (sum([u[i][j].x for i in V if i != j]) - sum([u[j][i].x for i in N if i != j]))) > 0.05]}\")\n",
    "\n",
    "# # nao atendidos olhando w\n",
    "# print(f\"w:       {[j for j in N if w[j].x < 0.5]}\")"
   ]
  },
  {
   "cell_type": "code",
   "execution_count": null,
   "id": "2b9fb69d",
   "metadata": {},
   "outputs": [],
   "source": [
    "# # nao atendidos olhando w\n",
    "# for j in N:\n",
    "#     if w[j].x < 0.5:\n",
    "#         print(f\"{j}-> demanda: {q[j]}\")"
   ]
  },
  {
   "cell_type": "code",
   "execution_count": null,
   "id": "b6058d70",
   "metadata": {},
   "outputs": [],
   "source": [
    "# # nao atendidos olhando demanda\n",
    "# for j in N:\n",
    "#     enter = (sum([u[i][j].x for i in V if i != j]) - sum([u[j][i].x for i in N if i != j]))\n",
    "#     if (q[j] - enter) > 0.05:\n",
    "#         print(f\"{j}-> enter: {enter}  need: {q[j]}\")"
   ]
  },
  {
   "cell_type": "code",
   "execution_count": null,
   "id": "a00189fb",
   "metadata": {},
   "outputs": [],
   "source": [
    "# # nro de veiculos por depot\n",
    "\n",
    "# for k in D:\n",
    "#     print(f\"depot {k}: {sum(x[k][i].x  for i in N)} vehicles\")"
   ]
  },
  {
   "cell_type": "code",
   "execution_count": null,
   "id": "73b70350",
   "metadata": {},
   "outputs": [],
   "source": [
    "# # cidades que tem mais de dois arcos ligadas a ela (depositos podem ter mais)\n",
    "# print([j for j in V if len([i for i in V if x[j][i].x > 0.5 or x[i][j].x > 0.5]) > 2])"
   ]
  },
  {
   "cell_type": "code",
   "execution_count": null,
   "id": "5c52af8c",
   "metadata": {},
   "outputs": [],
   "source": [
    "# print(f\"distancia media : {sum([c[el] for el in c])/len(c)}\")\n",
    "# print(f\"distancia maxima: {max([c[el] for el in c])}\")\n",
    "# print(f\"distancia minima: {min([c[el] for el in c])}\")"
   ]
  }
 ],
 "metadata": {
  "kernelspec": {
   "display_name": "Python 3 (ipykernel)",
   "language": "python",
   "name": "python3"
  },
  "language_info": {
   "codemirror_mode": {
    "name": "ipython",
    "version": 3
   },
   "file_extension": ".py",
   "mimetype": "text/x-python",
   "name": "python",
   "nbconvert_exporter": "python",
   "pygments_lexer": "ipython3",
   "version": "3.8.13"
  }
 },
 "nbformat": 4,
 "nbformat_minor": 5
}
