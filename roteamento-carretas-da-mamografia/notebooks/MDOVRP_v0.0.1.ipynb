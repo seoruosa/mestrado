{
 "cells": [
  {
   "cell_type": "code",
   "execution_count": 1,
   "id": "f9811fe6",
   "metadata": {},
   "outputs": [],
   "source": [
    "# import pandas as pd\n",
    "# import numpy as np\n",
    "import matplotlib.pyplot as plt\n",
    "# import math\n",
    "# from networkx import minimum_cut, DiGraph\n",
    "from mip import *\n",
    "# from itertools import product\n",
    "\n",
    "from src.read_instance import MDOVRP\n",
    "# rnd = np.random\n",
    "# rnd.seed(454)"
   ]
  },
  {
   "cell_type": "code",
   "execution_count": 2,
   "id": "a1019811",
   "metadata": {},
   "outputs": [],
   "source": [
    "# filepath = \"Instancias/ES-n78-m2-Q10138.txt\"\n",
    "filepath = \"Instancias/Vrp-Set-A/A-n80-m2-Q60.vrp\""
   ]
  },
  {
   "cell_type": "code",
   "execution_count": 3,
   "id": "1e00a48e",
   "metadata": {},
   "outputs": [],
   "source": [
    "N, D, V, Q, q, c, coord_x, coord_y = MDOVRP(filepath)"
   ]
  },
  {
   "cell_type": "code",
   "execution_count": 4,
   "id": "3def7d32",
   "metadata": {},
   "outputs": [],
   "source": [
    "# fazendo c ser simétrica\n",
    "# c = {(i,j) : (c[i,j] + c[j, i])/2  for (i,j) in c}"
   ]
  },
  {
   "cell_type": "markdown",
   "id": "4838d9cf",
   "metadata": {},
   "source": [
    "Usando a formulação $MDOVRP_{2i− flv}$ de Lalla-Ruiz e Mes (2019)\n",
    "\n",
    "\n",
    "    Lalla-Ruiz, Eduardo, and Martijn Mes. \"Mathematical formulations and improvements for the multi-depot open vehicle routing problem.\" Optimization Letters 15 (2021): 271-286."
   ]
  },
  {
   "cell_type": "code",
   "execution_count": 5,
   "id": "c9529a24",
   "metadata": {},
   "outputs": [
    {
     "name": "stdout",
     "output_type": "stream",
     "text": [
      "Set parameter WLSAccessID\n",
      "Set parameter WLSSecret\n",
      "Set parameter LicenseID\n",
      "Academic license - for non-commercial use only - registered to thiago.giachetto@aluno.ufop.edu.br\n"
     ]
    }
   ],
   "source": [
    "#cria o modelo\n",
    "model = Model('PRVMD', solver_name = GUROBI)\n",
    "\n",
    "# Variaveis de decisao\n",
    "x = [[model.add_var(var_type=BINARY) if i!=j else model.add_var(lb=0, ub=0) for i in V] for j in V]\n",
    "u = [[model.add_var(var_type=CONTINUOUS) if i!=j else model.add_var(lb=0, ub=0) for i in V] for j in V]\n",
    "y = [model.add_var(var_type=BINARY) for i in N]"
   ]
  },
  {
   "cell_type": "markdown",
   "id": "1f372e41",
   "metadata": {},
   "source": [
    "\\begin{equation}\n",
    "\\label{eq:9}\n",
    "    x_{ij} \\in \\{0, 1\\}, \\quad \\forall i, j \\in V\n",
    "\\end{equation}\n",
    "\n",
    "\\begin{equation}\n",
    "\\label{eq:10}\n",
    "    u_{ij} \\geq 0, \\quad \\forall i, j \\in V\n",
    "\\end{equation}"
   ]
  },
  {
   "cell_type": "code",
   "execution_count": 6,
   "id": "826aceeb",
   "metadata": {},
   "outputs": [],
   "source": [
    "# Funcao objetivo\n",
    "model.objective = minimize(xsum(x[i][j] * c[i,j] for i in V for j in V if i != j))"
   ]
  },
  {
   "cell_type": "markdown",
   "id": "9f0a71b8",
   "metadata": {},
   "source": [
    "\\begin{equation}\n",
    "\\label{eq:1}\n",
    " Minimizar \\quad \\sum_{i \\in V }\\sum_{j \\in V} c_{ij}x_{ij}\n",
    "\\end{equation}"
   ]
  },
  {
   "cell_type": "code",
   "execution_count": 7,
   "id": "92b252b3",
   "metadata": {},
   "outputs": [],
   "source": [
    "# Restricao 2\n",
    "for j in N:\n",
    "#     model += xsum(x[i][j] for i in V if i != j and c[i][j] <= 180) == 1\n",
    "    model += xsum(x[i][j] for i in V if i != j) == 1"
   ]
  },
  {
   "cell_type": "markdown",
   "id": "28582e4c",
   "metadata": {},
   "source": [
    "\\begin{equation}\n",
    "    \\sum_{i \\in V, i \\neq j}x_{ij} = 1, \\quad \\forall j \\in N\n",
    "    \\tag{2}\n",
    "\\end{equation}"
   ]
  },
  {
   "cell_type": "code",
   "execution_count": 8,
   "id": "757f89bf",
   "metadata": {},
   "outputs": [],
   "source": [
    "# Restricao 18\n",
    "\n",
    "for j in N:\n",
    "    model += (xsum(x[i][j] for i in V if i != j) - xsum(x[j][i] for i in N if i != j)) >= 0"
   ]
  },
  {
   "cell_type": "markdown",
   "id": "974c8d82",
   "metadata": {},
   "source": [
    "\\begin{equation}\n",
    "    \\sum_{i \\in V, i \\neq j}x_{ij} - \\sum_{i \\in N, i \\neq j}x_{ji} \\geq 0, \\quad \\forall j \\in N\n",
    "    \\tag {18}\n",
    "\\end{equation}"
   ]
  },
  {
   "cell_type": "code",
   "execution_count": 9,
   "id": "ffc541d1",
   "metadata": {},
   "outputs": [],
   "source": [
    "# Restricao 19\n",
    "for i in V:\n",
    "    for j in V:\n",
    "        if i != j:\n",
    "            model += x[i][j] + x[j][i] <= 1"
   ]
  },
  {
   "cell_type": "markdown",
   "id": "1de49cac",
   "metadata": {},
   "source": [
    "\\begin{equation}\n",
    "    x_{ij} + x_{ji} \\leq 1, \\quad \\forall i, j \\in V, i \\neq j\n",
    "    \\tag {19}\n",
    "\\end{equation}"
   ]
  },
  {
   "cell_type": "code",
   "execution_count": 10,
   "id": "f3d76e13",
   "metadata": {},
   "outputs": [],
   "source": [
    "# Restricao 20\n",
    "# Ninguem volta para o depósito\n",
    "model += xsum(x[j][k] for k in D for j in V) == 0"
   ]
  },
  {
   "cell_type": "markdown",
   "id": "e6cb5d2e",
   "metadata": {},
   "source": [
    "\\begin{equation}\n",
    "    \\sum_{k \\in D}\\sum_{j \\in V}x_{jk} = 0\n",
    "    \\tag {20}\n",
    "\\end{equation}"
   ]
  },
  {
   "cell_type": "code",
   "execution_count": 11,
   "id": "e51b3904",
   "metadata": {},
   "outputs": [],
   "source": [
    "# Restricao 21\n",
    "for j in N:\n",
    "    model += xsum(u[i][j] for i in V if i != j) - xsum(u[j][i] for i in V if i != j) >= q[j]"
   ]
  },
  {
   "cell_type": "markdown",
   "id": "81c2e8d9",
   "metadata": {},
   "source": [
    "\\begin{equation}\n",
    "    \\sum_{i \\in V, i \\neq j}u_{ij} - \\sum_{i \\in V, i \\neq j}u_{ji} \\geq q_j, \\quad \\forall j \\in N\n",
    "    \\tag {21}\n",
    "\\end{equation}"
   ]
  },
  {
   "cell_type": "code",
   "execution_count": 12,
   "id": "c57c3ae9",
   "metadata": {},
   "outputs": [],
   "source": [
    "#Restricao 22\n",
    "for i in N:\n",
    "    for j in N:\n",
    "        model += (Q - q[i])*x[i][j] >= u[i][j]"
   ]
  },
  {
   "cell_type": "markdown",
   "id": "f1875dfb",
   "metadata": {},
   "source": [
    "\\begin{equation}\n",
    "    (Q - q_i) \\cdot x_{ij} \\geq u_{ij}, \\quad \\forall i, j \\in N\n",
    "    \\tag {22}\n",
    "\\end{equation}"
   ]
  },
  {
   "cell_type": "code",
   "execution_count": 13,
   "id": "ac8a59fd",
   "metadata": {},
   "outputs": [],
   "source": [
    "# Restricao 23\n",
    "for k in D:\n",
    "    for j in N:\n",
    "        model += Q * x[k][j] >= u[k][j]"
   ]
  },
  {
   "cell_type": "markdown",
   "id": "1dcc2cbb",
   "metadata": {},
   "source": [
    "\\begin{equation}\n",
    "    Q \\cdot x_{kj} \\geq u_{kj}, \\quad \\forall k \\in D, j \\in N\n",
    "    \\tag {23}\n",
    "\\end{equation}"
   ]
  },
  {
   "cell_type": "code",
   "execution_count": 14,
   "id": "6f054f18",
   "metadata": {},
   "outputs": [],
   "source": [
    "# Restricao 8\n",
    "d = [min([c[j, i] for j in D]) for i in N]\n",
    "r = [min([c[j, i] for j in N if i != j]) for i in N]\n",
    "M = max(r)\n",
    "\n",
    "for i in N:\n",
    "    model += d[i] + M * y[i] >= r[i]"
   ]
  },
  {
   "cell_type": "markdown",
   "id": "07f22fe7",
   "metadata": {},
   "source": [
    "\\begin{equation}\n",
    "    d_{i} + M y_{i} \\geq r_{i}, \\quad \\forall k \\in N\n",
    "    \\tag {8}\n",
    "\\end{equation}"
   ]
  },
  {
   "cell_type": "code",
   "execution_count": 15,
   "id": "0249f78b",
   "metadata": {},
   "outputs": [],
   "source": [
    "# Restricao 9\n",
    "\n",
    "for i in N:\n",
    "    k_l = D[np.argmin([c[j, i] for j in D], axis=0)]\n",
    "    model += x[k_l][i] >= y[i]"
   ]
  },
  {
   "cell_type": "markdown",
   "id": "6aa5dcad",
   "metadata": {},
   "source": [
    "\\begin{equation}\n",
    "    x_{k'i} \\geq y_{i}, \\quad \\forall i \\in N, k' = argmin(c_{ki})_{k \\in D}\n",
    "    \\tag {9}\n",
    "\\end{equation}"
   ]
  },
  {
   "cell_type": "code",
   "execution_count": 16,
   "id": "632728f3",
   "metadata": {},
   "outputs": [],
   "source": [
    "# Restricao 10\n",
    "\n",
    "model += xsum(x[k][i] for i in N for k in D) >= np.ceil(sum(q)/Q)"
   ]
  },
  {
   "cell_type": "markdown",
   "id": "ea0ecd8a",
   "metadata": {},
   "source": [
    "\\begin{equation}\n",
    "    \\sum_{i \\in N}\\sum_{k \\in D}x_{ki} \\geq \\lceil \\frac{\\sum_{i \\in N} q_{i}}{Q} \\rceil\n",
    "    \\tag {10}\n",
    "\\end{equation}"
   ]
  },
  {
   "cell_type": "code",
   "execution_count": 17,
   "id": "fff01815",
   "metadata": {},
   "outputs": [],
   "source": [
    "# Restricao de distancia maxima entre duas cidades\n",
    "\n",
    "for i in V:\n",
    "    for j in V:\n",
    "        if i != j:\n",
    "            model += c[i,j]*x[i][j] <= 180"
   ]
  },
  {
   "cell_type": "code",
   "execution_count": 18,
   "id": "84b30fa7",
   "metadata": {},
   "outputs": [
    {
     "name": "stdout",
     "output_type": "stream",
     "text": [
      "Set parameter TimeLimit to value 30\n",
      "Set parameter NodeLimit to value 1073741824\n",
      "Set parameter SolutionLimit to value 1073741824\n",
      "Set parameter IntFeasTol to value 1e-06\n",
      "Set parameter Method to value 3\n",
      "Gurobi Optimizer version 9.5.0 build v9.5.0rc5 (linux64)\n",
      "Thread count: 2 physical cores, 4 logical processors, using up to 4 threads\n",
      "Academic license - for non-commercial use only - registered to thiago.giachetto@aluno.ufop.edu.br\n",
      "Optimize a model with 20246 rows, 13528 columns and 65850 nonzeros\n",
      "Model fingerprint: 0xc772627a\n",
      "Variable types: 6806 continuous, 6722 integer (6722 binary)\n",
      "Coefficient statistics:\n",
      "  Matrix range     [1e+00, 2e+02]\n",
      "  Objective range  [1e+01, 2e+02]\n",
      "  Bounds range     [1e+00, 1e+00]\n",
      "  RHS range        [1e+00, 2e+02]\n",
      "Found heuristic solution: objective 5766.8171932\n",
      "Presolve removed 10837 rows and 1224 columns\n",
      "Presolve time: 0.27s\n",
      "Presolved: 9409 rows, 12304 columns, 43024 nonzeros\n",
      "Found heuristic solution: objective 3445.4188966\n",
      "Variable types: 6112 continuous, 6192 integer (6192 binary)\n",
      "\n",
      "Concurrent LP optimizer: dual simplex and barrier\n",
      "Showing barrier log only...\n",
      "\n",
      "Root barrier log...\n",
      "\n",
      "Ordering time: 0.01s\n",
      "\n",
      "Barrier statistics:\n",
      " AA' NZ     : 1.198e+04\n",
      " Factor NZ  : 2.179e+04 (roughly 2 MB of memory)\n",
      " Factor Ops : 3.017e+05 (less than 1 second per iteration)\n",
      " Threads    : 1\n",
      "\n",
      "                  Objective                Residual\n",
      "Iter       Primal          Dual         Primal    Dual     Compl     Time\n",
      "   0   1.70769949e+06 -1.55562149e+06  2.13e+03 2.41e+01  2.45e+03     0s\n",
      "   1   6.72411615e+05 -1.34933120e+06  8.45e+02 5.33e+01  1.02e+03     0s\n",
      "   2   1.30258449e+05 -5.20668748e+05  1.63e+02 2.56e-13  2.04e+02     0s\n",
      "   3   1.62040735e+04 -6.00647008e+04  1.38e+01 1.99e-13  1.82e+01     0s\n",
      "   4   5.52603825e+03 -1.72476820e+04  1.24e-14 6.71e-14  2.60e+00     0s\n",
      "   5   4.72022242e+03 -3.11747986e+03  4.26e-14 4.26e-14  8.95e-01     0s\n",
      "   6   3.65069547e+03 -2.63388943e+02  6.39e-14 2.84e-14  4.47e-01     0s\n",
      "   7   2.54614550e+03  2.62204181e+02  8.17e-14 2.19e-14  2.61e-01     0s\n",
      "   8   2.30141863e+03  6.69097745e+02  6.93e-14 1.67e-14  1.86e-01     0s\n",
      "   9   2.08740671e+03  7.41358063e+02  1.21e-13 1.42e-14  1.54e-01     0s\n",
      "  10   1.66164855e+03  8.17920132e+02  9.24e-14 1.51e-14  9.64e-02     0s\n",
      "  11   1.33113494e+03  9.04432826e+02  1.67e-13 2.84e-14  4.87e-02     0s\n",
      "  12   1.19859720e+03  9.27366258e+02  1.10e-13 1.49e-14  3.10e-02     0s\n",
      "\n",
      "Barrier performed 12 iterations in 0.45 seconds (0.23 work units)\n",
      "Barrier solve interrupted - model solved by another algorithm\n",
      "\n",
      "\n",
      "Solved with dual simplex\n",
      "\n",
      "Root relaxation: objective 9.532590e+02, 1204 iterations, 0.11 seconds (0.04 work units)\n",
      "\n",
      "    Nodes    |    Current Node    |     Objective Bounds      |     Work\n",
      " Expl Unexpl |  Obj  Depth IntInf | Incumbent    BestBd   Gap | It/Node Time\n",
      "\n",
      "*    0     0               0     953.2590181  953.25902  0.00%     -    0s\n",
      "\n",
      "Explored 1 nodes (1936 simplex iterations) in 0.49 seconds (0.24 work units)\n",
      "Thread count was 4 (of 4 available processors)\n",
      "\n",
      "Solution count 3: 953.259 3445.42 5766.82 \n",
      "\n",
      "Optimal solution found (tolerance 1.00e-04)\n",
      "status: OptimizationStatus.OPTIMAL objective value : 953.2590180780452 best possible: 953.2590180780452Best objective 9.532590180780e+02, best bound 9.532590180780e+02, gap 0.0000%\n",
      "\n"
     ]
    }
   ],
   "source": [
    "# Resolve o modelo        \n",
    "# model.optimize(max_seconds=7200)\n",
    "model.optimize(max_seconds=30)\n",
    "print(\"status: {} objective value : {} best possible: {}\".format(model.status, model.objective_value, model.objective_bound))\n",
    "\n",
    "\n",
    "#                   Objective                Residual\n",
    "# Iter       Primal          Dual         Primal    Dual     Compl     Time\n",
    "# usando c simétrica\n",
    "# 421367 260494 2594.76360   95  102 2608.15000 2560.04596  1.84%   117 7200s\n",
    "# usando c original\n",
    "# 351473 211907 2581.12423   69  161 2608.75395 2552.97499  2.14%   138 7200s"
   ]
  },
  {
   "cell_type": "code",
   "execution_count": 19,
   "id": "a7547485",
   "metadata": {},
   "outputs": [
    {
     "data": {
      "image/png": "[encoded data removed]",
      "text/plain": [
       "<Figure size 720x432 with 1 Axes>"
      ]
     },
     "metadata": {
      "needs_background": "light"
     },
     "output_type": "display_data"
    }
   ],
   "source": [
    "# --- PLOTA O GRAFICO ---\n",
    "plt.figure(figsize=(10, 6))\n",
    "plt.scatter(coord_x[0:], coord_y[0:])\n",
    "for i in N:\n",
    "    plt.annotate(f\"{i}\", (coord_x[i], coord_y[i]))\n",
    "for i in D:\n",
    "    plt.plot(coord_x[i], coord_y[i], c = 'r', marker = 's')\n",
    "\n",
    "for i in V:\n",
    "    for j in V:\n",
    "        if x[i][j].x > 0:\n",
    "            plt.plot([coord_x[i], coord_x[j]], [coord_y[i], coord_y[j]], c='g', zorder=0)\n",
    "    \n",
    "#escala dos eixos\n",
    "plt.yticks([i for i in range(1,80,20)]); \n",
    "plt.xticks([i for i in range(1,80,20)]); "
   ]
  }
 ],
 "metadata": {
  "kernelspec": {
   "display_name": "Python 3 (ipykernel)",
   "language": "python",
   "name": "python3"
  },
  "language_info": {
   "codemirror_mode": {
    "name": "ipython",
    "version": 3
   },
   "file_extension": ".py",
   "mimetype": "text/x-python",
   "name": "python",
   "nbconvert_exporter": "python",
   "pygments_lexer": "ipython3",
   "version": "3.8.12"
  }
 },
 "nbformat": 4,
 "nbformat_minor": 5
}
